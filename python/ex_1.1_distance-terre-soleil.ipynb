{
 "cells": [
  {
   "cell_type": "markdown",
   "metadata": {},
   "source": [
    "## Distance Terre Soleil\n",
    "\n",
    "Les loi de Kepler permettent de faire un modèle du système solaire. Il ne manque qu'une distance pour connaître la distance de la terre au soleil.\n",
    "\n",
    "En utilisant la distance de Mars à la Terre, on peut calculer la distance de la terre au soleil.\n",
    "\n",
    "La distance de Mars lors de son *opposition* est obtenue à partir de la parallaxe horizontale (angle sous lequel on voit le rayon de la terre depuis l'objet observé).\n",
    "\n",
    "Quand Mars est en opposition, on a un alignement de Mars, de la Terre, du Soleil et du foyer de l'ellipse de Mars. \n",
    "\n",
    "    M--T--S--O\n",
    "\n",
    "On connait la 3^e^ loi de Kepler pour une distance $a$ et une durée de période $T$ :\n",
    "\n",
    "$$\n",
    "{a^3 \\over T^2}=cste\n",
    "$$\n",
    "\n",
    "Mars a une orbite elliptique avec une excentricité $e$ définie comme suit :\n",
    "\n",
    "$$\n",
    "e = {OS \\over OM}\n",
    "$$\n"
   ]
  },
  {
   "cell_type": "code",
   "execution_count": 2,
   "metadata": {},
   "outputs": [],
   "source": [
    "AaMars=24/60/60 # Angle apparent de Mars depuis la terre, lors de l'opposition\n",
    "ve=0.093 # excentricité de l'orbite de Mars\n",
    "rT=6371 # [km] rayon de la terre\n",
    "vTmars=1.88 # Periode de Mars\n",
    "vTterre=1\n",
    "from math import pi"
   ]
  },
  {
   "cell_type": "code",
   "execution_count": 3,
   "metadata": {},
   "outputs": [
    {
     "data": {
      "text/plain": [
       "54754711.69167712"
      ]
     },
     "execution_count": 3,
     "metadata": {},
     "output_type": "execute_result"
    }
   ],
   "source": [
    "vTM=rT/(AaMars/180*pi)\n",
    "vTM"
   ]
  },
  {
   "cell_type": "markdown",
   "metadata": {},
   "source": [
    "\n",
    "\n",
    "La 3e loi de Kepler appliquée à Mars et à la Terre donne une équation :\n",
    "\n",
    "$$\n",
    "{ST^3 \\over Tterre^2} = {OM^3 \\over Tmars^2}\n",
    "$$\n",
    "\n",
    "On a une relation de distance donnée par la somme des distances :\n",
    "\n",
    "$$\n",
    "OM=TM+ST+OS\n",
    "$$\n",
    "\n",
    "L'excentricité $e$ donne une relation entre OS et OM, on élimine OS."
   ]
  },
  {
   "cell_type": "code",
   "execution_count": 10,
   "metadata": {},
   "outputs": [],
   "source": [
    "import sympy as sp\n",
    "\n",
    "ST,TM,OM, OS,ee, Tt, Tm =sp.symbols(\"ST,TM,OM, OS,ee,T_t, T_m\", positive=True)\n",
    "Tt=vTterre\n",
    "Tm=vTmars\n",
    "ee=ve\n",
    "TM=vTM\n",
    "\n",
    "eq1=sp.Eq(ST**3/Tt**2,OM**3/Tm**2)\n",
    "eq2=sp.Eq(ee,OS/OM)\n",
    "eq3=sp.Eq(OM,TM+ST+OS)\n"
   ]
  },
  {
   "cell_type": "code",
   "execution_count": 11,
   "metadata": {},
   "outputs": [
    {
     "data": {
      "text/plain": [
       "[(143490943.707388, 218572938.697977, 20327283.2989118)]"
      ]
     },
     "execution_count": 11,
     "metadata": {},
     "output_type": "execute_result"
    }
   ],
   "source": [
    "\n",
    "sol=sp.solve([eq1,eq2,eq3],[ST,OM,OS])\n",
    "sol"
   ]
  },
  {
   "cell_type": "code",
   "execution_count": 12,
   "metadata": {},
   "outputs": [
    {
     "data": {
      "text/latex": [
       "$\\displaystyle 143490943.707388$"
      ],
      "text/plain": [
       "143490943.707388"
      ]
     },
     "execution_count": 12,
     "metadata": {},
     "output_type": "execute_result"
    }
   ],
   "source": [
    "sol[0][0]"
   ]
  },
  {
   "cell_type": "code",
   "execution_count": null,
   "metadata": {},
   "outputs": [],
   "source": []
  }
 ],
 "metadata": {
  "kernelspec": {
   "display_name": "Python 3",
   "language": "python",
   "name": "python3"
  },
  "language_info": {
   "codemirror_mode": {
    "name": "ipython",
    "version": 3
   },
   "file_extension": ".py",
   "mimetype": "text/x-python",
   "name": "python",
   "nbconvert_exporter": "python",
   "pygments_lexer": "ipython3",
   "version": "3.11.2"
  }
 },
 "nbformat": 4,
 "nbformat_minor": 2
}
