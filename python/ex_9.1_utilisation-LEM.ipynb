{
 "cells": [
  {
   "cell_type": "markdown",
   "metadata": {},
   "source": [
    "## Dimensionnement d'un LEM\n",
    "\n",
    "On veut mesurer un courant sur une branche d'onduleur. Afin d'être isolé de la tension de la branche, on mesure avec un LEM.\n",
    "\n",
    "Le courant est positif ou négatif, d'une amplitude maximum de 34A.\n",
    "\n",
    "On utilise pour cette mesure un LEM LA55. La sortie du LEM sera mesurée par un système capable de mesurer une tension entre -5 et 5V.\n",
    "\n",
    "- Selon les informations du datasheet, dessiner le schéma de câblage du LEM.\n",
    "- Calculer la valeur déterminante de la résistance pour respecter la plage de mesure. Arrondir la valeur à une résistance standard.\n",
    "- Dans un second temps, on veut mesurer le même courant avec un microcontrôleur qui ne peut mesurer que dans une plage unipolaire de 0 à 3V. \n",
    "    - Comment réaliser le circuit de mise en forme ? \n",
    "    - Quelles valeurs de résistances peut-on utiliser ?\n"
   ]
  },
  {
   "cell_type": "code",
   "execution_count": null,
   "metadata": {},
   "outputs": [],
   "source": []
  },
  {
   "cell_type": "code",
   "execution_count": null,
   "metadata": {},
   "outputs": [],
   "source": []
  }
 ],
 "metadata": {
  "kernelspec": {
   "display_name": "Python 3",
   "language": "python",
   "name": "python3"
  },
  "language_info": {
   "codemirror_mode": {
    "name": "ipython",
    "version": 3
   },
   "file_extension": ".py",
   "mimetype": "text/x-python",
   "name": "python",
   "nbconvert_exporter": "python",
   "pygments_lexer": "ipython3",
   "version": "3.11.5"
  }
 },
 "nbformat": 4,
 "nbformat_minor": 2
}
