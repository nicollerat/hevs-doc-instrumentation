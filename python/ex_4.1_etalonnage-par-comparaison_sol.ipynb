{
 "cells": [
  {
   "cell_type": "code",
   "execution_count": 1,
   "metadata": {},
   "outputs": [],
   "source": [
    "# Import des modules nécessaires et définition de fonctions pour tracer les courbes\n",
    "import numpy as np\n",
    "import matplotlib.pyplot as plt\n",
    "import seaborn\n",
    "from sklearn.linear_model import LinearRegression\n",
    "from IPython.display import display, Markdown\n",
    "#import sympy as sp\n",
    "\n",
    "def plotIt(x,y, title=\"sortie\", xlab=\"X\", ylab=\"Y\"):\n",
    "    fig, ax = plt.subplots()\n",
    "    ax.plot(x, y)\n",
    "    ax.set_xlabel(xlab)\n",
    "    ax.set_ylabel(ylab)\n",
    "    ax.set_title(title)\n",
    "    ax.grid(True, which='both')\n",
    "\n",
    "    seaborn.despine(ax=ax, offset=0)\n",
    "\n",
    "def plotScat(x,y, title=\"sortie\", xlab=\"X\", ylab=\"Y\"):\n",
    "    fig, ax = plt.subplots()\n",
    "    ax.scatter(x, y)\n",
    "    ax.set_xlabel(xlab)\n",
    "    ax.set_ylabel(ylab)\n",
    "    ax.set_title(title)\n",
    "    ax.grid(True, which='both')\n",
    "\n",
    "    seaborn.despine(ax=ax, offset=0)\n",
    "\n",
    "def plotIt2(x1,y1,x2,y2,title=\"sortie\", xlab=\"X\", ylab=\"Y\", legends=\"\"):\n",
    "    fig, ax = plt.subplots()\n",
    "    ax.plot(x1, y1)\n",
    "    ax.plot(x2,y2)\n",
    "    ax.set_xlabel(xlab)\n",
    "    ax.set_ylabel(ylab)\n",
    "    ax.set_title(title)\n",
    "    ax.grid(True, which='both')\n",
    "    ax.legend(legends)\n",
    "\n",
    "    seaborn.despine(ax=ax, offset=0)\n",
    "\n",
    "def plotIt2s(x1,y1,x2,y2,title=\"sortie\", xlab=\"X\", ylab=\"Y\", legends=\"\"):\n",
    "    fig, ax = plt.subplots()\n",
    "    ax.plot(x1, y1,'rx')\n",
    "    ax.plot(x2, y2)\n",
    "    ax.set_xlabel(xlab)\n",
    "    ax.set_ylabel(ylab)\n",
    "    ax.set_title(title)\n",
    "    ax.grid(True, which='both')\n",
    "    ax.legend(legends)\n",
    "\n",
    "    seaborn.despine(ax=ax, offset=0)\n",
    "\n",
    "#a=np.arange(0,10,0.1)\n",
    "#b=a**2\n",
    "#plotIt(a,b, title=\"test\")"
   ]
  },
  {
   "cell_type": "markdown",
   "metadata": {},
   "source": [
    "\n",
    "## 4.1 Etalonnage par comparaison\n",
    "\n",
    "On a un appareil qu'on a étalonné par comparaison. On obtient les mesures suivantes :"
   ]
  },
  {
   "cell_type": "code",
   "execution_count": null,
   "metadata": {},
   "outputs": [],
   "source": [
    "import numpy as np\n",
    "\n",
    "Mesures = np.array([[4,4.24],[5,5.26],[6,6.27],[7,7.25],[8,8.19],[9,9.15],[10,10.05],[11,11.01],[12,11.98],[13,12.95],[14,13.91],[15,14.9]])\n",
    "plotIt2(Mesures[:,0],Mesures[:,1],Mesures[:,0],Mesures[:,0], legends=['mesure','référence'])"
   ]
  },
  {
   "cell_type": "markdown",
   "metadata": {},
   "source": [
    "## Erreur de mesure"
   ]
  },
  {
   "cell_type": "code",
   "execution_count": null,
   "metadata": {},
   "outputs": [],
   "source": [
    "# L'erreur de mesure absolue est la différence\n",
    "Emax=np.max(Mesures[:,1]-Mesures[:,0])\n",
    "print(f\"Erreur max={Emax:.3}, erreur relative = {Emax/Mesures[-1,0]*100:.3}%\")"
   ]
  },
  {
   "cell_type": "code",
   "execution_count": null,
   "metadata": {},
   "outputs": [],
   "source": [
    "Emin=np.min(Mesures[:,1]-Mesures[:,0])\n",
    "print(f\"Erreur min={Emin:.3}, erreur relative = {Emin/Mesures[-1,0]*100:.3}%\")"
   ]
  },
  {
   "cell_type": "code",
   "execution_count": null,
   "metadata": {},
   "outputs": [],
   "source": [
    "# Graphique des erreurs\n",
    "plotIt(Mesures[:,0],(Mesures[:,1]-Mesures[:,0])/Mesures[-1,0]*100, title=\"Erreur de l'appareil\", ylab=\"Erreur[%]\")"
   ]
  },
  {
   "cell_type": "markdown",
   "metadata": {},
   "source": [
    "## Courbe de calibration\n",
    "\n",
    "La courbe de calibration permet de corriger l'erreur si elle est systématique."
   ]
  },
  {
   "cell_type": "code",
   "execution_count": null,
   "metadata": {},
   "outputs": [],
   "source": [
    "Calib=Mesures[:,0]-Mesures[:,1]\n",
    "plotIt(Mesures[:,0],Calib, title=\"Courbe de calibration\")"
   ]
  },
  {
   "cell_type": "markdown",
   "metadata": {},
   "source": [
    "## Identification de la correction\n",
    "\n",
    "On peut appliquer une identification de la caractéristique. Il en résulte une erreur résiduelle."
   ]
  },
  {
   "cell_type": "code",
   "execution_count": null,
   "metadata": {},
   "outputs": [],
   "source": [
    "# Fit d'une droite sur les mesures\n",
    "corr=np.polyfit(Mesures[:,1],Mesures[:,0],1)\n",
    "print(f\"Gain de la courbe : {corr[0]:.3}, Offset :{corr[1]:.3}\")"
   ]
  },
  {
   "cell_type": "code",
   "execution_count": null,
   "metadata": {},
   "outputs": [],
   "source": [
    "# On applique la correction aux données\n",
    "MesCor=Mesures[:,1]*corr[0]+corr[1]\n",
    "plotIt(Mesures[:,0],(MesCor-Mesures[:,0])/Mesures[-1,0]*100, ylab=\"Erreur[%]\")"
   ]
  },
  {
   "cell_type": "code",
   "execution_count": null,
   "metadata": {},
   "outputs": [],
   "source": []
  }
 ],
 "metadata": {
  "kernelspec": {
   "display_name": "Python 3",
   "language": "python",
   "name": "python3"
  },
  "language_info": {
   "codemirror_mode": {
    "name": "ipython",
    "version": 3
   },
   "file_extension": ".py",
   "mimetype": "text/x-python",
   "name": "python",
   "nbconvert_exporter": "python",
   "pygments_lexer": "ipython3",
   "version": "3.12.7"
  }
 },
 "nbformat": 4,
 "nbformat_minor": 4
}
