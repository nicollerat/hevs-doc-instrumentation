{
 "cells": [
  {
   "cell_type": "markdown",
   "id": "821b8046-d20f-40b2-b7f8-e155a2d09961",
   "metadata": {},
   "source": [
    "# Exercice de linéarisation\n",
    "\n",
    "Identifier la caractéristique du capteur selon les données de l'exercice"
   ]
  },
  {
   "cell_type": "code",
   "execution_count": 2,
   "id": "c8971c82-3c73-41df-9549-182b7e730943",
   "metadata": {},
   "outputs": [],
   "source": [
    "import numpy as np\n",
    "import matplotlib.pyplot as plt\n",
    "x=np.array([1,3,5])\n",
    "y=np.array([2,3,5])\n"
   ]
  },
  {
   "cell_type": "code",
   "execution_count": 5,
   "id": "3af8099b-fe0d-409d-8d09-d93f763159d2",
   "metadata": {},
   "outputs": [
    {
     "data": {
      "text/plain": [
       "array([0.75      , 1.08333333])"
      ]
     },
     "execution_count": 5,
     "metadata": {},
     "output_type": "execute_result"
    }
   ],
   "source": [
    "coeff1=np.polyfit(x,y,1)\n",
    "coeff1"
   ]
  },
  {
   "cell_type": "code",
   "execution_count": 10,
   "id": "8233a0f1-e0f0-4e6c-88ce-a20264c5ced6",
   "metadata": {},
   "outputs": [],
   "source": [
    "yd=coeff1[0]*x+coeff1[1]"
   ]
  },
  {
   "cell_type": "code",
   "execution_count": 12,
   "id": "7e3b3edd-61bc-4930-9a13-384b770beb61",
   "metadata": {},
   "outputs": [
    {
     "data": {
      "text/plain": [
       "[<matplotlib.lines.Line2D at 0x17033f2e990>]"
      ]
     },
     "execution_count": 12,
     "metadata": {},
     "output_type": "execute_result"
    },
    {
     "data": {
      "image/png": "[encoded data removed]",
      "text/plain": [
       "<Figure size 640x480 with 1 Axes>"
      ]
     },
     "metadata": {},
     "output_type": "display_data"
    }
   ],
   "source": [
    "fig, ax = plt.subplots(1,1)\n",
    "ax.plot(x,y,'x')\n",
    "ax.plot(x,yd)"
   ]
  },
  {
   "cell_type": "code",
   "execution_count": 8,
   "id": "35d3f822-ae40-4281-b471-f7a1491e9299",
   "metadata": {},
   "outputs": [
    {
     "data": {
      "text/plain": [
       "[1, 9, 10, 35, 36]"
      ]
     },
     "execution_count": 8,
     "metadata": {},
     "output_type": "execute_result"
    }
   ],
   "source": [
    "S1=np.sum(1)\n",
    "Sx=np.sum(x)\n",
    "Sy=np.sum(y)\n",
    "Sxx=np.sum(x**2)\n",
    "Sxy=np.sum(x*y)\n",
    "[S1,Sx,Sy,Sxx,Sxy]\n"
   ]
  },
  {
   "cell_type": "code",
   "execution_count": 9,
   "id": "79c2ab5c-24fe-4f98-8ec9-010123706e40",
   "metadata": {},
   "outputs": [
    {
     "data": {
      "text/plain": [
       "[1.173913043478261, -0.5652173913043478]"
      ]
     },
     "execution_count": 9,
     "metadata": {},
     "output_type": "execute_result"
    }
   ],
   "source": [
    "D=S1*Sxx-Sx**2\n",
    "a=(S1*Sxy-Sx*Sy)/D\n",
    "b=(Sy*Sxx-Sx*Sxy)/D\n",
    "[a,b]"
   ]
  },
  {
   "cell_type": "code",
   "execution_count": null,
   "id": "c530f916-6692-4d8e-8e32-82cd49cb5a7a",
   "metadata": {},
   "outputs": [],
   "source": []
  }
 ],
 "metadata": {
  "kernelspec": {
   "display_name": "Python 3 (ipykernel)",
   "language": "python",
   "name": "python3"
  },
  "language_info": {
   "codemirror_mode": {
    "name": "ipython",
    "version": 3
   },
   "file_extension": ".py",
   "mimetype": "text/x-python",
   "name": "python",
   "nbconvert_exporter": "python",
   "pygments_lexer": "ipython3",
   "version": "3.11.5"
  }
 },
 "nbformat": 4,
 "nbformat_minor": 5
}
