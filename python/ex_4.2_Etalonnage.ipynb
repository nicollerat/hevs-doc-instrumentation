{
 "cells": [
  {
   "cell_type": "markdown",
   "metadata": {},
   "source": [
    "## Exercie du cours : §4.5"
   ]
  },
  {
   "cell_type": "code",
   "execution_count": 9,
   "metadata": {},
   "outputs": [],
   "source": [
    "import numpy as np\n",
    "import matplotlib.pyplot as plt\n",
    "\n",
    "x=np.array([1, 3, 5])\n",
    "y=np.array([2,3,5])\n",
    "e=np.array([1,0.1,0.1])"
   ]
  },
  {
   "cell_type": "code",
   "execution_count": 10,
   "metadata": {},
   "outputs": [],
   "source": [
    "S1=3\n",
    "Sx=np.sum(x)\n",
    "Sy=np.sum(y)\n",
    "Sxy=np.sum(x*y)\n",
    "Sxx=np.sum(x**2)\n",
    "D=S1*Sxx-Sx**2\n"
   ]
  },
  {
   "cell_type": "code",
   "execution_count": null,
   "metadata": {},
   "outputs": [],
   "source": [
    "a=(S1*Sxy-Sx*Sy)/D\n",
    "b=(Sy*Sxx-Sx*Sxy)/D  \n",
    "\n",
    "print(f\"a={a}, b={b}\")"
   ]
  },
  {
   "cell_type": "code",
   "execution_count": null,
   "metadata": {},
   "outputs": [],
   "source": [
    "ylin=a*x+b\n",
    "plt.plot(x,y)\n",
    "plt.plot(x,ylin)\n",
    "plt.grid()\n",
    "plt.legend(['mesures','fit linéaire'])"
   ]
  },
  {
   "cell_type": "code",
   "execution_count": 13,
   "metadata": {},
   "outputs": [],
   "source": [
    "yc=y-e\n",
    "S1=3\n",
    "Sx=np.sum(x)\n",
    "Sy=np.sum(yc)\n",
    "Sxy=np.sum(x*yc)\n",
    "Sxx=np.sum(x**2)\n",
    "D=S1*Sxx-Sx**2"
   ]
  },
  {
   "cell_type": "code",
   "execution_count": null,
   "metadata": {},
   "outputs": [],
   "source": [
    "a=(S1*Sxy-Sx*Sy)/D\n",
    "b=(Sy*Sxx-Sx*Sxy)/D  \n",
    "\n",
    "print(f\"a={a:.3}, b={b:.3}\")"
   ]
  },
  {
   "cell_type": "code",
   "execution_count": null,
   "metadata": {},
   "outputs": [],
   "source": [
    "ylin=a*x+b\n",
    "plt.plot(x,y)\n",
    "plt.plot(x,ylin)\n",
    "plt.grid()\n",
    "plt.legend(['mesures','fit linéaire'])"
   ]
  },
  {
   "cell_type": "code",
   "execution_count": null,
   "metadata": {},
   "outputs": [],
   "source": []
  }
 ],
 "metadata": {
  "kernelspec": {
   "display_name": "Python 3",
   "language": "python",
   "name": "python3"
  },
  "language_info": {
   "codemirror_mode": {
    "name": "ipython",
    "version": 3
   },
   "file_extension": ".py",
   "mimetype": "text/x-python",
   "name": "python",
   "nbconvert_exporter": "python",
   "pygments_lexer": "ipython3",
   "version": "3.11.2"
  }
 },
 "nbformat": 4,
 "nbformat_minor": 2
}
