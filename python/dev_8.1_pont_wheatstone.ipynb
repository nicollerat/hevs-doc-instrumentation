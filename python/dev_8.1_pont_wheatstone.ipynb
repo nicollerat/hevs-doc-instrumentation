{
 "cells": [
  {
   "cell_type": "markdown",
   "metadata": {},
   "source": [
    "## Equations du pont de wheatstone"
   ]
  },
  {
   "cell_type": "code",
   "execution_count": 7,
   "metadata": {},
   "outputs": [],
   "source": [
    "# Import usuels\n",
    "import sympy as sp\n",
    "sp.init_printing()\n",
    "\n",
    "# Fonction utilisée pour afficher la valeur d'une expression sous la forme \"nom = valeur\"\n",
    "def deq(name, value):\n",
    "    return sp.Eq(sp.Symbol(name),value)"
   ]
  },
  {
   "cell_type": "markdown",
   "metadata": {},
   "source": [
    "Equations de base pour le pont"
   ]
  },
  {
   "cell_type": "code",
   "execution_count": 8,
   "metadata": {},
   "outputs": [
    {
     "data": {
      "image/png": "[encoded data removed]",
      "text/latex": [
       "$\\displaystyle U_{A} = - \\frac{U \\left(R_{1} R_{4} - R_{2} R_{3}\\right)}{R_{1} R_{3}}$"
      ],
      "text/plain": [
       "      -U⋅(R₁⋅R₄ - R₂⋅R₃) \n",
       "U_A = ───────────────────\n",
       "             R₁⋅R₃       "
      ]
     },
     "execution_count": 8,
     "metadata": {},
     "output_type": "execute_result"
    }
   ],
   "source": [
    "\n",
    "\n",
    "U,R1,R2,R3,R4 = sp.symbols(\"U,R1,R2,R3,R4\")\n",
    "\n",
    "Ug=U/(R1/(R1+R2))\n",
    "Ud=U/(R3/(R3+R4))\n",
    "\n",
    "UA=Ug-Ud\n",
    "deq(\"U_A\",sp.factor(UA))"
   ]
  },
  {
   "cell_type": "markdown",
   "metadata": {},
   "source": [
    "Si on utilise un pont composé de résistances dont la valeur nominale est $R$, et chacune varie de  $\\pm \\Delta R$ selon son branchement dans le pont :"
   ]
  },
  {
   "cell_type": "code",
   "execution_count": 9,
   "metadata": {},
   "outputs": [
    {
     "data": {
      "image/png": "[encoded data removed]",
      "text/latex": [
       "$\\displaystyle U_{A} = \\frac{4 R U \\Delta R}{\\left(R - \\Delta R\\right) \\left(R + \\Delta R\\right)}$"
      ],
      "text/plain": [
       "              4⋅R⋅U⋅\\Delta R       \n",
       "U_A = ─────────────────────────────\n",
       "      (R - \\Delta R)⋅(R + \\Delta R)"
      ]
     },
     "execution_count": 9,
     "metadata": {},
     "output_type": "execute_result"
    }
   ],
   "source": [
    "DR=sp.Symbol(\"\\Delta R\")\n",
    "R=sp.Symbol(\"R\")\n",
    "\n",
    "R1= R-DR\n",
    "R2= R+DR\n",
    "R3= R+DR\n",
    "R4= R-DR\n",
    "Ug=U/(R1/(R1+R2))\n",
    "Ud=U/(R3/(R3+R4))\n",
    "\n",
    "UA=Ug-Ud\n",
    "deq(\"U_A\",sp.factor(UA))"
   ]
  },
  {
   "cell_type": "markdown",
   "metadata": {},
   "source": [
    "Le dénominateur de l'expression ci-dessus fait intervenir $\\Delta R^2$ qui peut être négligé. Formellement, on peut linéariser cette expression pour obtenir une expression simplifiée :"
   ]
  },
  {
   "cell_type": "code",
   "execution_count": 11,
   "metadata": {},
   "outputs": [
    {
     "data": {
      "image/png": "[encoded data removed]",
      "text/latex": [
       "$\\displaystyle U_{A lin} = \\frac{4 U \\Delta R}{R}$"
      ],
      "text/plain": [
       "            4⋅U⋅\\Delta R\n",
       "U_{A lin} = ────────────\n",
       "                 R      "
      ]
     },
     "execution_count": 11,
     "metadata": {},
     "output_type": "execute_result"
    }
   ],
   "source": [
    "## Linéarisation pour $\\Delta R$ petit\n",
    "\n",
    "UAlin=UA.diff(DR).subs(DR,0)*(DR)\n",
    "deq(\"U_{A lin}\",UAlin)"
   ]
  },
  {
   "cell_type": "markdown",
   "metadata": {},
   "source": [
    "Cette expression montre que la tension est proportionnelle au rapport de la variation de résistance à la résistance. La valeur est donc moins sensible à la température."
   ]
  },
  {
   "cell_type": "code",
   "execution_count": null,
   "metadata": {},
   "outputs": [],
   "source": []
  }
 ],
 "metadata": {
  "kernelspec": {
   "display_name": "Python 3 (ipykernel)",
   "language": "python",
   "name": "python3"
  },
  "language_info": {
   "codemirror_mode": {
    "name": "ipython",
    "version": 3
   },
   "file_extension": ".py",
   "mimetype": "text/x-python",
   "name": "python",
   "nbconvert_exporter": "python",
   "pygments_lexer": "ipython3",
   "version": "3.11.5"
  }
 },
 "nbformat": 4,
 "nbformat_minor": 4
}
