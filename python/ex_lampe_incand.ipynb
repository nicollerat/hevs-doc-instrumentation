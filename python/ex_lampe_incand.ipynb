{
 "cells": [
  {
   "cell_type": "markdown",
   "id": "e0339c0d-9ce6-4020-9dbf-20b00ac7aa32",
   "metadata": {},
   "source": [
    "ex_lampe_incandescente"
   ]
  },
  {
   "cell_type": "code",
   "execution_count": 35,
   "id": "4c8c4c13-71e1-43cd-bbb0-f2ef8c6481b4",
   "metadata": {},
   "outputs": [],
   "source": [
    "import sympy as sp\n",
    "from sympy import init_printing\n",
    "init_printing() \n",
    "\n",
    "R,R0,alpha,T,T0,k,Ta,R,U,P=sp.symbols(\"R,R0,alpha,T,T0,k,Ta,R,U,P\", positive=True)"
   ]
  },
  {
   "cell_type": "code",
   "execution_count": 38,
   "id": "70baf8b9-c7b4-4c90-88a2-020c0889692c",
   "metadata": {},
   "outputs": [
    {
     "data": {
      "image/png": "[encoded data removed]",
      "text/latex": [
       "$\\displaystyle \\left[ \\left( \\sqrt{R_{0}} \\sqrt{k} \\sqrt{T^{5} \\alpha - T^{4} T_{0} \\alpha + T^{4} - T Ta^{4} \\alpha + T_{0} Ta^{4} \\alpha - Ta^{4}}, \\  R_{0} \\left(T \\alpha - T_{0} \\alpha + 1\\right), \\  k \\left(T^{4} - Ta^{4}\\right)\\right)\\right]$"
      ],
      "text/plain": [
       "⎡⎛             ________________________________________________               \n",
       "⎢⎜  ____      ╱  5      4         4       4          4       4                \n",
       "⎣⎝╲╱ R₀ ⋅√k⋅╲╱  T ⋅α - T ⋅T₀⋅α + T  - T⋅Ta ⋅α + T₀⋅Ta ⋅α - Ta  , R₀⋅(T⋅α - T₀⋅\n",
       "\n",
       "                    ⎞⎤\n",
       "          ⎛ 4     4⎞⎟⎥\n",
       "α + 1), k⋅⎝T  - Ta ⎠⎠⎦"
      ]
     },
     "execution_count": 38,
     "metadata": {},
     "output_type": "execute_result"
    }
   ],
   "source": [
    "eq1=sp.Eq(R,R0*(1+alpha*(T-T0)))\n",
    "eq2=sp.Eq(P,U**2/R)\n",
    "eq3=sp.Eq(P,k*(T**4-Ta**4))\n",
    "SOL=sp.solve([eq1,eq2,eq3],[U,R,P])\n",
    "SOL"
   ]
  },
  {
   "cell_type": "code",
   "execution_count": 40,
   "id": "dadb2721-2e3b-4a6a-9db6-381a06c4343a",
   "metadata": {},
   "outputs": [
    {
     "data": {
      "image/png": "[encoded data removed]",
      "text/latex": [
       "$\\displaystyle \\sqrt{R_{0}} \\sqrt{k} \\sqrt{\\left(T - Ta\\right) \\left(T \\alpha - T_{0} \\alpha + 1\\right)} \\sqrt{T + Ta} \\sqrt{T^{2} + Ta^{2}}$"
      ],
      "text/plain": [
       "                                                      __________\n",
       "  ____      ___________________________   ________   ╱  2     2 \n",
       "╲╱ R₀ ⋅√k⋅╲╱ (T - Ta)⋅(T⋅α - T₀⋅α + 1) ⋅╲╱ T + Ta ⋅╲╱  T  + Ta  "
      ]
     },
     "execution_count": 40,
     "metadata": {},
     "output_type": "execute_result"
    }
   ],
   "source": [
    "# 1. Expression de U comme fonction de T\n",
    "U=sp.factor(SOL[0][0],T)\n",
    "U"
   ]
  },
  {
   "cell_type": "code",
   "execution_count": 41,
   "id": "0fbd0dea-1a69-4064-b64c-f3533b27fded",
   "metadata": {},
   "outputs": [
    {
     "data": {
      "image/png": "[encoded data removed]",
      "text/latex": [
       "$\\displaystyle 219.997085750698$"
      ],
      "text/plain": [
       "219.997085750698"
      ]
     },
     "execution_count": 41,
     "metadata": {},
     "output_type": "execute_result"
    }
   ],
   "source": [
    "# 2. Valeur numérique et tension pour T=2000K\n",
    "valeurs={alpha:0.004, R0:484, T0:2000, Ta:300, k:6.253e-12}\n",
    "U.subs(valeurs).subs(T,2000).evalf()"
   ]
  },
  {
   "cell_type": "code",
   "execution_count": 43,
   "id": "2f7bf11e-7b81-4d2e-9843-e183c4e41e70",
   "metadata": {},
   "outputs": [
    {
     "data": {
      "image/png": "[encoded data removed]",
      "text/latex": [
       "$\\displaystyle \\frac{\\sqrt{R_{0}} \\sqrt{k} \\sqrt{- \\left(T - Ta\\right) \\left(- T \\alpha + T_{0} \\alpha - 1\\right)} \\left(- 5 T^{4} \\alpha + 4 T^{3} T_{0} \\alpha - 4 T^{3} + Ta^{4} \\alpha\\right)}{2 \\left(T - Ta\\right) \\sqrt{T + Ta} \\sqrt{T^{2} + Ta^{2}} \\left(- T \\alpha + T_{0} \\alpha - 1\\right)}$"
      ],
      "text/plain": [
       "  ____      _____________________________ ⎛     4        3           3     4  \n",
       "╲╱ R₀ ⋅√k⋅╲╱ -(T - Ta)⋅(-T⋅α + T₀⋅α - 1) ⋅⎝- 5⋅T ⋅α + 4⋅T ⋅T₀⋅α - 4⋅T  + Ta ⋅α\n",
       "──────────────────────────────────────────────────────────────────────────────\n",
       "                                      __________                              \n",
       "                          ________   ╱  2     2                               \n",
       "             2⋅(T - Ta)⋅╲╱ T + Ta ⋅╲╱  T  + Ta  ⋅(-T⋅α + T₀⋅α - 1)            \n",
       "\n",
       "⎞\n",
       "⎠\n",
       "─\n",
       " \n",
       " \n",
       " "
      ]
     },
     "execution_count": 43,
     "metadata": {},
     "output_type": "execute_result"
    }
   ],
   "source": [
    "# 3. Linéarisation autour du point T=2000\n",
    "DU=U.diff(T)\n",
    "sp.factor(DU)"
   ]
  },
  {
   "cell_type": "code",
   "execution_count": 46,
   "id": "bcb5535e-0d42-4323-939a-518f8a4fc8b8",
   "metadata": {},
   "outputs": [
    {
     "data": {
      "image/png": "[encoded data removed]",
      "text/latex": [
       "$\\displaystyle \\frac{\\sqrt{R_{0}} \\sqrt{k} \\left(T_{0}^{4} \\alpha + 4 T_{0}^{3} - Ta^{4} \\alpha\\right)}{2 \\sqrt{T_{0}^{4} - Ta^{4}}}$"
      ],
      "text/plain": [
       "  ____    ⎛  4         3     4  ⎞\n",
       "╲╱ R₀ ⋅√k⋅⎝T₀ ⋅α + 4⋅T₀  - Ta ⋅α⎠\n",
       "─────────────────────────────────\n",
       "              ___________        \n",
       "             ╱   4     4         \n",
       "         2⋅╲╱  T₀  - Ta          "
      ]
     },
     "execution_count": 46,
     "metadata": {},
     "output_type": "execute_result"
    }
   ],
   "source": [
    "# 3.2 On évalue en T=T0, ce qui permet de simplifier un peu...\n",
    "sp.simplify(DU.subs(T,T0))"
   ]
  },
  {
   "cell_type": "code",
   "execution_count": 44,
   "id": "bb951270-fe1e-4a9f-90d1-a6ee16208995",
   "metadata": {},
   "outputs": [
    {
     "data": {
      "image/png": "[encoded data removed]",
      "text/latex": [
       "$\\displaystyle 0.660102687188161$"
      ],
      "text/plain": [
       "0.660102687188161"
      ]
     },
     "execution_count": 44,
     "metadata": {},
     "output_type": "execute_result"
    }
   ],
   "source": [
    "ST=DU.subs(valeurs).subs(T,2000).evalf()\n",
    "ST"
   ]
  },
  {
   "cell_type": "code",
   "execution_count": 15,
   "id": "7c6ad220-6759-4f00-9f8b-a5417a208c2c",
   "metadata": {},
   "outputs": [
    {
     "data": {
      "image/png": "[encoded data removed]",
      "text/latex": [
       "$\\displaystyle T_{0} - 1.51491581447684 U_{0} + 1.51491581447684 Ulin$"
      ],
      "text/plain": [
       "T₀ - 1.51491581447684⋅U₀ + 1.51491581447684⋅Ulin"
      ]
     },
     "execution_count": 15,
     "metadata": {},
     "output_type": "execute_result"
    }
   ],
   "source": [
    "# 4. Expression de la tension linéarisée et inversion de la caractéristique pour trouver T\n",
    "Ulin,U0=sp.symbols('Ulin,U0')\n",
    "Tlin=sp.solve(sp.Eq(Ulin,U0+ST*(T-T0)),T)\n",
    "Tlin[0]\n",
    "#sp.simplify(Tlin[0])"
   ]
  },
  {
   "cell_type": "code",
   "execution_count": 27,
   "id": "1aeaa1c6-e560-44b7-9eba-979e89190701",
   "metadata": {},
   "outputs": [],
   "source": [
    "SU=Tlin[0].coeff(Ulin)"
   ]
  },
  {
   "cell_type": "code",
   "execution_count": 28,
   "id": "f6e24c44-aa57-45f6-9409-118b4d1f6a40",
   "metadata": {},
   "outputs": [],
   "source": [
    "# Intensité lumineuse émise par le filament\n",
    "Ii,Ii0,eta,P0=sp.symbols('Ii,Ii0,eta,P0')\n",
    "valeurs2={P0:100, eta:0.05}"
   ]
  },
  {
   "cell_type": "code",
   "execution_count": 29,
   "id": "e83c5f92-cc50-41b9-a781-125ca11abd4d",
   "metadata": {},
   "outputs": [
    {
     "data": {
      "image/png": "[encoded data removed]",
      "text/latex": [
       "$\\displaystyle 0.005$"
      ],
      "text/plain": [
       "0.00500000000000000"
      ]
     },
     "execution_count": 29,
     "metadata": {},
     "output_type": "execute_result"
    }
   ],
   "source": [
    "# 5.1 Linéarisation autour de T0\n",
    "Ii=eta*P0*T**2/T0**2\n",
    "SI=Ii.diff(T).subs(T,T0).subs(valeurs2).subs(valeurs).evalf()\n",
    "SI"
   ]
  },
  {
   "cell_type": "code",
   "execution_count": 32,
   "id": "5c3ff5c0-a536-40ae-bde2-5a41536a9aa8",
   "metadata": {},
   "outputs": [
    {
     "data": {
      "image/png": "[encoded data removed]",
      "text/latex": [
       "$\\displaystyle P_{0} \\eta - 0.00757457907238418 U_{0} + 0.00757457907238418 Ul$"
      ],
      "text/plain": [
       "P₀⋅η - 0.00757457907238418⋅U₀ + 0.00757457907238418⋅Ul"
      ]
     },
     "execution_count": 32,
     "metadata": {},
     "output_type": "execute_result"
    }
   ],
   "source": [
    "# 5.2 Variation de l'intensité comme fonction de U\n",
    "Ul=sp.symbols('Ul')\n",
    "Ilin=(SI*(T-T0)+eta*P0).subs(T,T0+SU*(Ul-U0))\n",
    "Ilin"
   ]
  },
  {
   "cell_type": "code",
   "execution_count": 52,
   "id": "72653bd6-acea-4042-bd8d-6925f1ad785f",
   "metadata": {},
   "outputs": [
    {
     "data": {
      "image/png": "[encoded data removed]",
      "text/latex": [
       "$\\displaystyle 0.00757457907238418$"
      ],
      "text/plain": [
       "0.00757457907238418"
      ]
     },
     "execution_count": 52,
     "metadata": {},
     "output_type": "execute_result"
    }
   ],
   "source": [
    "Siu=Ilin.coeff(Ul)\n",
    "Siu"
   ]
  },
  {
   "cell_type": "code",
   "execution_count": 47,
   "id": "f253c3d6-2fe2-4302-bcd9-6abdb295fe30",
   "metadata": {},
   "outputs": [
    {
     "data": {
      "image/png": "[encoded data removed]",
      "text/latex": [
       "$\\displaystyle \\left[ \\left( \\sqrt{R_{0}} \\sqrt{k} \\sqrt{\\left(T - Ta\\right) \\left(T \\alpha - T_{0} \\alpha + 1\\right)} \\sqrt{T + Ta} \\sqrt{T^{2} + Ta^{2}}, \\  R_{0} \\left(T \\alpha - T_{0} \\alpha + 1\\right), \\  k \\left(T^{4} - Ta^{4}\\right), \\  \\frac{P_{0} T^{2} \\eta}{T_{0}^{2}}\\right)\\right]$"
      ],
      "text/plain": [
       "⎡⎛                                                      __________            \n",
       "⎢⎜  ____      ___________________________   ________   ╱  2     2             \n",
       "⎢⎜╲╱ R₀ ⋅√k⋅╲╱ (T - Ta)⋅(T⋅α - T₀⋅α + 1) ⋅╲╱ T + Ta ⋅╲╱  T  + Ta  , R₀⋅(T⋅α - \n",
       "⎢⎜                                                                            \n",
       "⎣⎝                                                                            \n",
       "\n",
       "                             2  ⎞⎤\n",
       "             ⎛ 4     4⎞  P₀⋅T ⋅η⎟⎥\n",
       "T₀⋅α + 1), k⋅⎝T  - Ta ⎠, ───────⎟⎥\n",
       "                             2  ⎟⎥\n",
       "                           T₀   ⎠⎦"
      ]
     },
     "execution_count": 47,
     "metadata": {},
     "output_type": "execute_result"
    }
   ],
   "source": [
    "eq1=sp.Eq(R,R0*(1+alpha*(T-T0)))\n",
    "eq2=sp.Eq(P,U**2/R)\n",
    "eq3=sp.Eq(P,k*(T**4-Ta**4))\n",
    "eq4=sp.Eq(Ii,eta*P0*T**2/T0**2)\n",
    "SOL=sp.solve([eq1,eq2,eq3,eq4],[U,R,P,Ii])\n",
    "SOL"
   ]
  },
  {
   "cell_type": "code",
   "execution_count": 50,
   "id": "945f2325-ce70-4017-952a-e6e175285615",
   "metadata": {},
   "outputs": [
    {
     "data": {
      "image/png": "[encoded data removed]",
      "text/latex": [
       "$\\displaystyle \\left[ \\right]$"
      ],
      "text/plain": [
       "[]"
      ]
     },
     "execution_count": 50,
     "metadata": {},
     "output_type": "execute_result"
    }
   ],
   "source": [
    "sp.solve(sp.Eq(U,SOL[0][0]),T)"
   ]
  },
  {
   "cell_type": "code",
   "execution_count": null,
   "id": "e8c164b8-8110-4a01-ac63-2e345cbff11b",
   "metadata": {},
   "outputs": [],
   "source": []
  }
 ],
 "metadata": {
  "kernelspec": {
   "display_name": "Python 3 (ipykernel)",
   "language": "python",
   "name": "python3"
  },
  "language_info": {
   "codemirror_mode": {
    "name": "ipython",
    "version": 3
   },
   "file_extension": ".py",
   "mimetype": "text/x-python",
   "name": "python",
   "nbconvert_exporter": "python",
   "pygments_lexer": "ipython3",
   "version": "3.11.2"
  }
 },
 "nbformat": 4,
 "nbformat_minor": 5
}
