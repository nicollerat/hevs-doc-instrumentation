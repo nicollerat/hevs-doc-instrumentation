{
 "cells": [
  {
   "cell_type": "code",
   "execution_count": 1,
   "id": "bf051c18-9dd7-43c5-9901-34a2d312036a",
   "metadata": {},
   "outputs": [],
   "source": [
    "import sympy as sp"
   ]
  },
  {
   "cell_type": "code",
   "execution_count": 2,
   "id": "f2ebce77-a0f8-4896-a4d3-b248966385cb",
   "metadata": {},
   "outputs": [],
   "source": [
    "f = sp.symbols(\"f\", positive=True)\n",
    "t= sp.symbols(\"t\")"
   ]
  },
  {
   "cell_type": "code",
   "execution_count": 3,
   "id": "42dbf464-3352-402e-ae7d-3f8464884822",
   "metadata": {},
   "outputs": [],
   "source": [
    "I=sp.integrate(sp.exp(-1j*2*sp.pi*t*f),(t,-0.5,0.5))"
   ]
  },
  {
   "cell_type": "code",
   "execution_count": 4,
   "id": "bd799572-4845-424b-8711-1408dd81c69c",
   "metadata": {},
   "outputs": [
    {
     "data": {
      "text/latex": [
       "$\\displaystyle \\frac{1.0 \\sin{\\left(\\pi f \\right)}}{\\pi f}$"
      ],
      "text/plain": [
       "1.0*sin(pi*f)/(pi*f)"
      ]
     },
     "execution_count": 4,
     "metadata": {},
     "output_type": "execute_result"
    }
   ],
   "source": [
    "sp.simplify(I)"
   ]
  },
  {
   "cell_type": "code",
   "execution_count": 18,
   "id": "1058cc60-c4c1-4d96-be47-7d3374ae334a",
   "metadata": {},
   "outputs": [],
   "source": [
    "I=sp.integrate(sp.sin(2*sp.pi*t*f)*sp.exp(-1j*2*sp.pi*t*f),(t,-sp.oo,sp.oo))"
   ]
  },
  {
   "cell_type": "code",
   "execution_count": 19,
   "id": "070905a7-6ea5-4156-9480-4be9b9c8d114",
   "metadata": {},
   "outputs": [
    {
     "data": {
      "text/latex": [
       "$\\displaystyle \\int\\limits_{-\\infty}^{\\infty} e^{- 2.0 i \\pi f t} \\sin{\\left(2 \\pi f t \\right)}\\, dt$"
      ],
      "text/plain": [
       "Integral(exp(-2.0*I*pi*f*t)*sin(2*pi*f*t), (t, -oo, oo))"
      ]
     },
     "execution_count": 19,
     "metadata": {},
     "output_type": "execute_result"
    }
   ],
   "source": [
    "I"
   ]
  },
  {
   "cell_type": "code",
   "execution_count": null,
   "id": "7a1a1df8-ed2c-4d14-8d7a-9843ea7ee256",
   "metadata": {},
   "outputs": [],
   "source": []
  }
 ],
 "metadata": {
  "kernelspec": {
   "display_name": "Python 3 (ipykernel)",
   "language": "python",
   "name": "python3"
  },
  "language_info": {
   "codemirror_mode": {
    "name": "ipython",
    "version": 3
   },
   "file_extension": ".py",
   "mimetype": "text/x-python",
   "name": "python",
   "nbconvert_exporter": "python",
   "pygments_lexer": "ipython3",
   "version": "3.11.5"
  }
 },
 "nbformat": 4,
 "nbformat_minor": 5
}
