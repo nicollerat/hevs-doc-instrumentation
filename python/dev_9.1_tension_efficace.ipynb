{
 "cells": [
  {
   "cell_type": "markdown",
   "metadata": {},
   "source": [
    "## Calculs sur les valeurs efficaces\n"
   ]
  },
  {
   "cell_type": "code",
   "execution_count": 2,
   "metadata": {},
   "outputs": [],
   "source": [
    "import sympy as sp\n",
    "import numpy as np\n",
    "import matplotlib.pyplot as plt\n",
    "# Fonction utilisée pour afficher la valeur d'une expression sous la forme \"nom = valeur\"\n",
    "def deq(name, value):\n",
    "    return sp.Eq(sp.Symbol(name),value)"
   ]
  },
  {
   "cell_type": "code",
   "execution_count": 3,
   "metadata": {},
   "outputs": [],
   "source": [
    "Up,w,t=sp.symbols(\"Up,w,t\", positive=True)"
   ]
  },
  {
   "cell_type": "code",
   "execution_count": 4,
   "metadata": {},
   "outputs": [],
   "source": [
    "uac=Up*sp.sin(w*t)"
   ]
  },
  {
   "cell_type": "code",
   "execution_count": 5,
   "metadata": {},
   "outputs": [
    {
     "data": {
      "text/latex": [
       "$\\displaystyle U_{eff} = \\frac{\\sqrt{2} Up}{2}$"
      ],
      "text/plain": [
       "Eq(U_eff, sqrt(2)*Up/2)"
      ]
     },
     "execution_count": 5,
     "metadata": {},
     "output_type": "execute_result"
    }
   ],
   "source": [
    "T=2*sp.pi/w\n",
    "Ueff=sp.sqrt(1/T*(uac**2).integrate((t,0,T)))\n",
    "deq(\"U_eff\",Ueff)"
   ]
  },
  {
   "cell_type": "markdown",
   "metadata": {},
   "source": [
    "### Fonction triangulaire"
   ]
  },
  {
   "cell_type": "code",
   "execution_count": 6,
   "metadata": {},
   "outputs": [],
   "source": [
    "# Equation de la première partie de la courbe\n",
    "T1=Up*(4*t-1)"
   ]
  },
  {
   "cell_type": "code",
   "execution_count": 7,
   "metadata": {},
   "outputs": [],
   "source": [
    "I1=(T1**2).integrate((t,0,0.5))"
   ]
  },
  {
   "cell_type": "code",
   "execution_count": 8,
   "metadata": {},
   "outputs": [
    {
     "data": {
      "text/latex": [
       "$\\displaystyle 0.166666666666667 Up^{2}$"
      ],
      "text/plain": [
       "0.166666666666667*Up**2"
      ]
     },
     "execution_count": 8,
     "metadata": {},
     "output_type": "execute_result"
    }
   ],
   "source": [
    "I1"
   ]
  },
  {
   "cell_type": "code",
   "execution_count": 9,
   "metadata": {},
   "outputs": [],
   "source": [
    "# La seconde partie est simétrique, donc l'integrale vaut\n",
    "I=2*I1"
   ]
  },
  {
   "cell_type": "code",
   "execution_count": 10,
   "metadata": {},
   "outputs": [
    {
     "data": {
      "text/latex": [
       "$\\displaystyle Ueff_{tri} = 0.577350269189626 Up$"
      ],
      "text/plain": [
       "Eq(Ueff_tri, 0.577350269189626*Up)"
      ]
     },
     "execution_count": 10,
     "metadata": {},
     "output_type": "execute_result"
    }
   ],
   "source": [
    "#La tension efficace est la racine de l'intégrale\n",
    "Ueff_tri=sp.sqrt(I)\n",
    "deq(\"Ueff_tri\", Ueff_tri)"
   ]
  },
  {
   "cell_type": "code",
   "execution_count": 11,
   "metadata": {},
   "outputs": [
    {
     "data": {
      "text/plain": [
       "0.5773502691896258"
      ]
     },
     "execution_count": 11,
     "metadata": {},
     "output_type": "execute_result"
    }
   ],
   "source": [
    "# Ce qui est équivalent à 1/sqrt(3)\n",
    "1/np.sqrt(3)"
   ]
  },
  {
   "cell_type": "markdown",
   "metadata": {},
   "source": [
    "## Relations avec les valeurs efficaces"
   ]
  },
  {
   "cell_type": "code",
   "execution_count": 15,
   "metadata": {},
   "outputs": [
    {
     "data": {
      "text/latex": [
       "$\\displaystyle I U \\cos{\\left(t \\right)} \\cos{\\left(\\phi + t \\right)}$"
      ],
      "text/plain": [
       "I*U*cos(t)*cos(phi + t)"
      ]
     },
     "execution_count": 15,
     "metadata": {},
     "output_type": "execute_result"
    }
   ],
   "source": [
    "phi,U,I=sp.symbols(\"phi,U,I\")\n",
    "P=U*sp.cos(t)*I*sp.cos(t+phi)\n",
    "P"
   ]
  },
  {
   "cell_type": "code",
   "execution_count": 17,
   "metadata": {},
   "outputs": [
    {
     "data": {
      "text/latex": [
       "$\\displaystyle \\frac{I U \\cos{\\left(\\phi \\right)}}{2}$"
      ],
      "text/plain": [
       "I*U*cos(phi)/2"
      ]
     },
     "execution_count": 17,
     "metadata": {},
     "output_type": "execute_result"
    }
   ],
   "source": [
    "P.integrate((t,0,2*sp.pi))/(2*sp.pi)"
   ]
  },
  {
   "cell_type": "code",
   "execution_count": null,
   "metadata": {},
   "outputs": [],
   "source": []
  }
 ],
 "metadata": {
  "kernelspec": {
   "display_name": "Python 3",
   "language": "python",
   "name": "python3"
  },
  "language_info": {
   "codemirror_mode": {
    "name": "ipython",
    "version": 3
   },
   "file_extension": ".py",
   "mimetype": "text/x-python",
   "name": "python",
   "nbconvert_exporter": "python",
   "pygments_lexer": "ipython3",
   "version": "3.11.5"
  }
 },
 "nbformat": 4,
 "nbformat_minor": 2
}
