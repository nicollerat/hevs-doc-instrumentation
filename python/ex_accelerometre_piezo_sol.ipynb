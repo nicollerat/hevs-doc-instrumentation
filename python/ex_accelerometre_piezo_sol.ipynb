{
 "cells": [
  {
   "cell_type": "markdown",
   "metadata": {},
   "source": [
    "# Accéléromètre Piézoélectrique\n",
    "\n",
    "Selon l'exercice 4.20\n",
    "![schema](../images/exo-accelerometre.png)\n",
    "![Accelerometre](../images/exo-accelerometre-accel.png)\n",
    "\n",
    "Un accéléromètre piézoélectrique (voir schéma\n",
    "de principe) est utilisé pour détecter les\n",
    "oscillations d’une masse M suspendue à un\n",
    "ressort de constante élastique K."
   ]
  },
  {
   "cell_type": "code",
   "execution_count": 1,
   "metadata": {},
   "outputs": [],
   "source": [
    "vK=100 # [N/m]"
   ]
  },
  {
   "cell_type": "markdown",
   "metadata": {},
   "source": [
    "Le cristal a les propriétés suivantes\n",
    "\n"
   ]
  },
  {
   "cell_type": "code",
   "execution_count": 2,
   "metadata": {},
   "outputs": [],
   "source": [
    "vD=3 # diamètre en [mm]\n",
    "vH=1 # hauteur en [mm]\n",
    "vE=8e12 # Module d'élasticité [N/m^2]\n",
    "vBeta = 2.26e-12 # [C/N]\n",
    "vEpsilon0 = 8.85e-12 # [A s / V m]\n",
    "vEpsilon_r = 4.5"
   ]
  },
  {
   "cell_type": "markdown",
   "metadata": {},
   "source": [
    "Les connecteurs du capteur on une capacité en parallèle avec le cristal"
   ]
  },
  {
   "cell_type": "code",
   "execution_count": 3,
   "metadata": {},
   "outputs": [],
   "source": [
    "vCstray=2 # pF"
   ]
  },
  {
   "cell_type": "markdown",
   "metadata": {},
   "source": [
    "L'accéléromètre mesure une accélération subie par la masse sismique $M_s$ qui vaut :"
   ]
  },
  {
   "cell_type": "code",
   "execution_count": 4,
   "metadata": {},
   "outputs": [],
   "source": [
    "vMs=1 # poids de la masse sismique du capteur [g]"
   ]
  },
  {
   "cell_type": "markdown",
   "metadata": {},
   "source": [
    "### Q1 \n",
    "- Quelle est la sensibilité du capteur S en [V/(m/s^2)] en prenant en compte la capacité parasite C_stray ?"
   ]
  },
  {
   "cell_type": "markdown",
   "metadata": {},
   "source": [
    "On cherche la tension qui apparaît sur la sortie lorsqu'on applique une accélération de $1[m/s^2]$"
   ]
  },
  {
   "cell_type": "code",
   "execution_count": 5,
   "metadata": {},
   "outputs": [
    {
     "data": {
      "image/png": "[encoded data removed]",
      "text/latex": [
       "$\\displaystyle \\frac{M_{s} a \\beta}{C_{stray} + \\frac{\\pi D^{2} \\epsilon_{0} \\epsilon_{r}}{4 H}}$"
      ],
      "text/plain": [
       "       Mₛ⋅a⋅β       \n",
       "────────────────────\n",
       "             2      \n",
       "          π⋅D ⋅ε₀⋅εᵣ\n",
       "C_stray + ──────────\n",
       "             4⋅H    "
      ]
     },
     "execution_count": 5,
     "metadata": {},
     "output_type": "execute_result"
    }
   ],
   "source": [
    "# Import du module pour calcul litteral\n",
    "import sympy as sp\n",
    "sp.init_printing()\n",
    "\n",
    "# Declaration des variables litterales\n",
    "Ms,a, beta,D,H,epsilon_0, epsilon_r = sp.symbols('M_s,a, beta,D,H,epsilon_0, epsilon_r')\n",
    "Cstray=sp.symbols('C_stray')\n",
    "E=sp.symbols('E')\n",
    "\n",
    "# Equations\n",
    "F = Ms * a         # Newton\n",
    "Q = beta * F      # equation du piézo\n",
    "S=sp.pi *(D/2)**2 # surface du piézo\n",
    "Cq =  S /H * epsilon_0 * epsilon_r # Capacité du piézo\n",
    "Ctot=Cq + Cstray  # Capacité totale\n",
    "Uc = Q / Ctot     # Relation tension-charge de la capacité\n",
    "Uc                # Expression de U"
   ]
  },
  {
   "cell_type": "code",
   "execution_count": 6,
   "metadata": {},
   "outputs": [],
   "source": [
    "# Valeurs numériques de l'exercice\n",
    "valeurs={a:1,Ms:vMs*1e-3,beta:vBeta, Cstray:vCstray*1e-12, D:vD*1e-3, H:vH*1e-3, epsilon_0:vEpsilon0, epsilon_r:vEpsilon_r, E:vE}"
   ]
  },
  {
   "cell_type": "code",
   "execution_count": 7,
   "metadata": {},
   "outputs": [
    {
     "name": "stdout",
     "output_type": "stream",
     "text": [
      "la sensibilité est de  0.000990573623938871 [V/(m/s^2)]\n"
     ]
    }
   ],
   "source": [
    "# Valeur numérique pour la tension\n",
    "# On a posé a=1, si bien que ceci correspond à la *sensibilité*\n",
    "vS=Uc.subs(valeurs).evalf()\n",
    "print(\"la sensibilité est de \",vS,\"[V/(m/s^2)]\")"
   ]
  },
  {
   "cell_type": "code",
   "execution_count": 8,
   "metadata": {},
   "outputs": [
    {
     "data": {
      "image/png": "[encoded data removed]",
      "text/latex": [
       "$\\displaystyle 2.8150633671573 \\cdot 10^{-13}$"
      ],
      "text/plain": [
       "2.81506336715730e-13"
      ]
     },
     "execution_count": 8,
     "metadata": {},
     "output_type": "execute_result"
    }
   ],
   "source": [
    "Cq.subs(valeurs).evalf()"
   ]
  },
  {
   "cell_type": "markdown",
   "metadata": {},
   "source": [
    "### Q2 Fréquence propre du capteur\n",
    "\n",
    "La fréquence propre est donnée par :"
   ]
  },
  {
   "cell_type": "code",
   "execution_count": 9,
   "metadata": {},
   "outputs": [
    {
     "data": {
      "image/png": "[encoded data removed]",
      "text/latex": [
       "$\\displaystyle \\frac{\\sqrt{\\frac{D^{2} E}{H M_{s}}}}{4 \\sqrt{\\pi}}$"
      ],
      "text/plain": [
       "     ______\n",
       "    ╱  2   \n",
       "   ╱  D ⋅E \n",
       "  ╱   ──── \n",
       "╲╱    H⋅Mₛ \n",
       "───────────\n",
       "    4⋅√π   "
      ]
     },
     "execution_count": 9,
     "metadata": {},
     "output_type": "execute_result"
    }
   ],
   "source": [
    "# Constante d'élasticité du piézo\n",
    "Kf=E*S/H # [N/m]=[N/m2]*S[m2]/H[m]\n",
    "\n",
    "# Relation entre masse, constante et pulsation propre\n",
    "w=sp.sqrt(Kf/Ms)\n",
    "\n",
    "# Fréquence propre\n",
    "f=w/(2*sp.pi)\n",
    "f"
   ]
  },
  {
   "cell_type": "code",
   "execution_count": 10,
   "metadata": {},
   "outputs": [
    {
     "data": {
      "image/png": "[encoded data removed]",
      "text/latex": [
       "$\\displaystyle \\frac{\\pi D^{2} E}{4 H}$"
      ],
      "text/plain": [
       "   2  \n",
       "π⋅D ⋅E\n",
       "──────\n",
       " 4⋅H  "
      ]
     },
     "execution_count": 10,
     "metadata": {},
     "output_type": "execute_result"
    }
   ],
   "source": [
    "Kf"
   ]
  },
  {
   "cell_type": "code",
   "execution_count": 11,
   "metadata": {},
   "outputs": [
    {
     "name": "stdout",
     "output_type": "stream",
     "text": [
      "La fréquence propre est de  1196826.84120430 [Hz]\n"
     ]
    }
   ],
   "source": [
    "# Valeur numérique\n",
    "print(\"La fréquence propre est de \",f.subs(valeurs).evalf(),\"[Hz]\")"
   ]
  },
  {
   "cell_type": "markdown",
   "metadata": {},
   "source": [
    "## Q3 \n",
    "\n",
    "Le capteur complet pèse 5g, on observe une fréquence propre de l'ensemble de f=10Hz\n",
    "- Quelle est la masse M ?\n",
    "- Quelle est l'oscillation sans le capteur ?\n",
    "- Quelle est l'erreur de fréquence introduite ?"
   ]
  },
  {
   "cell_type": "code",
   "execution_count": 12,
   "metadata": {},
   "outputs": [
    {
     "data": {
      "image/png": "[encoded data removed]",
      "text/latex": [
       "$\\displaystyle \\left[ \\left( \\frac{K}{4 \\pi^{2} fp^{2}} - M_{acc}, \\  \\frac{K}{4 \\pi^{2} fp^{2}}\\right)\\right]$"
      ],
      "text/plain": [
       "⎡⎛   K                 K    ⎞⎤\n",
       "⎢⎜──────── - M_acc, ────────⎟⎥\n",
       "⎢⎜   2   2             2   2⎟⎥\n",
       "⎣⎝4⋅π ⋅fp           4⋅π ⋅fp ⎠⎦"
      ]
     },
     "execution_count": 12,
     "metadata": {},
     "output_type": "execute_result"
    }
   ],
   "source": [
    "# On cherche la masse à partir de la relation entre K,M et la pulsation\n",
    "# Déclaration des variables littérales\n",
    "Mtot, fp, Macc, M, K = sp.symbols('Mtot, fp, M_acc, M, K')\n",
    "\n",
    "# Equations \n",
    "Eq1=sp.Eq(fp,sp.sqrt(K/Mtot)/(2*sp.pi)) # Pulsation propre\n",
    "Eq2=sp.Eq(Mtot, M+Macc)                   # Masse totale\n",
    "\n",
    "# Résolution des equations pour M, on élimine Mtot\n",
    "sol=sp.solve([Eq1,Eq2],[M, Mtot])    \n",
    "sol"
   ]
  },
  {
   "cell_type": "code",
   "execution_count": 13,
   "metadata": {},
   "outputs": [
    {
     "name": "stdout",
     "output_type": "stream",
     "text": [
      "La masse pèse  20.3302959105844 [g]\n"
     ]
    }
   ],
   "source": [
    "# On a les valeurs numériques suivantes :\n",
    "valeurs2={fp:10, Macc:5e-3, K:vK}\n",
    "\n",
    "# Ce qui permet de calculer la valeur numérique\n",
    "vM=sol[0][0].subs(valeurs).subs(valeurs2).evalf()\n",
    "print(\"La masse pèse \",vM*1e3,\"[g]\")"
   ]
  },
  {
   "cell_type": "code",
   "execution_count": 14,
   "metadata": {},
   "outputs": [
    {
     "name": "stdout",
     "output_type": "stream",
     "text": [
      "la fréquence d'oscillation libre est  11.1621609824216 [Hz]\n"
     ]
    }
   ],
   "source": [
    "# Calcul de la fréquence d'oscillation sans la masse du capteur\n",
    "ff=(sp.sqrt(K/M)/(2*sp.pi)).subs(valeurs).subs(valeurs2).subs(M,vM)\n",
    "print(\"la fréquence d'oscillation libre est \",ff.evalf(),\"[Hz]\")"
   ]
  },
  {
   "cell_type": "code",
   "execution_count": 15,
   "metadata": {},
   "outputs": [
    {
     "name": "stdout",
     "output_type": "stream",
     "text": [
      "L'erreur est de  -10.4116128073391 [%]\n"
     ]
    }
   ],
   "source": [
    "# L'erreur de fréquence est donnée par\n",
    "e=((10-ff)/ff).evalf()\n",
    "print(\"L'erreur est de \",e*100,\"[%]\")"
   ]
  },
  {
   "cell_type": "markdown",
   "metadata": {},
   "source": [
    "## Q4\n",
    "\n",
    "La tension est mesurée avec une résolution de 10uV.\n",
    "- Quelle est l'accélération minimale qu'on peut mesurer\n",
    "- Quelle est l'amplitude minimale en $[m]$ des vibrations que le capteur peut détecter\n"
   ]
  },
  {
   "cell_type": "code",
   "execution_count": 16,
   "metadata": {},
   "outputs": [
    {
     "name": "stdout",
     "output_type": "stream",
     "text": [
      "Le capteur a une sensibilité minimale de  0.0100951607819280 [m/s^2]\n"
     ]
    }
   ],
   "source": [
    "# a * Uc = 10 [uV]\n",
    "vVmin=10e-6 # Tension minimale\n",
    "va0 = (vVmin/vS) # accélération minimale\n",
    "print(\"Le capteur a une sensibilité minimale de \",va0,\"[m/s^2]\")"
   ]
  },
  {
   "cell_type": "code",
   "execution_count": 17,
   "metadata": {},
   "outputs": [
    {
     "name": "stdout",
     "output_type": "stream",
     "text": [
      "La position comme fonction du temps est x(t)= -a0*sin(t*w)/w**2\n"
     ]
    }
   ],
   "source": [
    "# Calcul de l'amplitude minimale.\n",
    "\n",
    "# Déclaration des variables\n",
    "a0,t=sp.symbols('a0,t')\n",
    "\n",
    "# on indique que w est positif pour simplifier la solution\n",
    "w=sp.symbols('w', positive=True) \n",
    "\n",
    "# Equation de l'accélération et calcul de la position dans le temps\n",
    "a=a0*sp.sin(w * t)\n",
    "v=a.integrate(t)\n",
    "x=v.integrate(t)\n",
    "print(\"La position comme fonction du temps est x(t)=\",x)"
   ]
  },
  {
   "cell_type": "code",
   "execution_count": 18,
   "metadata": {},
   "outputs": [
    {
     "data": {
      "image/png": "[encoded data removed]",
      "text/latex": [
       "$\\displaystyle \\frac{a_{0}}{w^{2}}$"
      ],
      "text/plain": [
       "a₀\n",
       "──\n",
       " 2\n",
       "w "
      ]
     },
     "execution_count": 18,
     "metadata": {},
     "output_type": "execute_result"
    }
   ],
   "source": [
    "# L'amplitude du mouvement est donc\n",
    "x0=-x/a*a0\n",
    "x0"
   ]
  },
  {
   "cell_type": "code",
   "execution_count": 19,
   "metadata": {},
   "outputs": [
    {
     "data": {
      "image/png": "[encoded data removed]",
      "text/latex": [
       "$\\displaystyle 2.55713409871164 \\cdot 10^{-6}$"
      ],
      "text/plain": [
       "2.55713409871164e-6"
      ]
     },
     "execution_count": 19,
     "metadata": {},
     "output_type": "execute_result"
    }
   ],
   "source": [
    "x0.subs(a0, va0).subs(w,10*2*sp.pi).evalf()"
   ]
  },
  {
   "cell_type": "markdown",
   "metadata": {},
   "source": [
    "## Q5\n",
    "\n",
    "Un autre capteur est 10x plus sensible mais la masse sismique est 10x plus grande\n",
    "\n",
    "- Que devient la fréquence d'oscillation libre ?\n",
    "- Quelle est l'amplitude des vibrations que le capteur peut détecter ?\n"
   ]
  },
  {
   "cell_type": "code",
   "execution_count": 20,
   "metadata": {},
   "outputs": [
    {
     "data": {
      "image/png": "[encoded data removed]",
      "text/latex": [
       "$\\displaystyle \\frac{\\sqrt{10}}{10}$"
      ],
      "text/plain": [
       "√10\n",
       "───\n",
       " 10"
      ]
     },
     "execution_count": 20,
     "metadata": {},
     "output_type": "execute_result"
    }
   ],
   "source": [
    "f2=sp.sqrt(Kf/(Ms*10))/(2*sp.pi)\n",
    "f2/f"
   ]
  },
  {
   "cell_type": "markdown",
   "metadata": {},
   "source": [
    "La fréquence est $\\sqrt{10}$ fois plus petite"
   ]
  },
  {
   "cell_type": "code",
   "execution_count": 21,
   "metadata": {},
   "outputs": [
    {
     "data": {
      "image/png": "[encoded data removed]",
      "text/latex": [
       "$\\displaystyle \\frac{a_{0}}{\\omega_{0}^{2}}$"
      ],
      "text/plain": [
       "   a₀   \n",
       "────────\n",
       "       2\n",
       "\\omega₀ "
      ]
     },
     "execution_count": 21,
     "metadata": {},
     "output_type": "execute_result"
    }
   ],
   "source": [
    "# S est 10 x plus grande, donc on peut mesurer a_min 10x plus petit\n",
    "# x=a0/w0^2 => x=10*a0/(w0/sqrt(10))**2\n",
    "w0=sp.symbols('\\omega_0')\n",
    "x_min=a0/10/(w0/sp.sqrt(10))**2\n",
    "x_min"
   ]
  },
  {
   "cell_type": "markdown",
   "metadata": {},
   "source": [
    "L'amplitude détectable ne change pas."
   ]
  },
  {
   "cell_type": "code",
   "execution_count": null,
   "metadata": {},
   "outputs": [],
   "source": []
  }
 ],
 "metadata": {
  "kernelspec": {
   "display_name": "Python 3 (ipykernel)",
   "language": "python",
   "name": "python3"
  },
  "language_info": {
   "codemirror_mode": {
    "name": "ipython",
    "version": 3
   },
   "file_extension": ".py",
   "mimetype": "text/x-python",
   "name": "python",
   "nbconvert_exporter": "python",
   "pygments_lexer": "ipython3",
   "version": "3.11.5"
  }
 },
 "nbformat": 4,
 "nbformat_minor": 4
}
