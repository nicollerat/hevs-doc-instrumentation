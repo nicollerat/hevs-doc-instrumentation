{
 "cells": [
  {
   "cell_type": "code",
   "execution_count": 1,
   "metadata": {},
   "outputs": [],
   "source": [
    "import sympy as sp\n",
    "import numpy as np\n",
    "import matplotlib.pyplot as plt"
   ]
  },
  {
   "cell_type": "markdown",
   "metadata": {},
   "source": [
    "Define a function **gaussian**"
   ]
  },
  {
   "cell_type": "code",
   "execution_count": null,
   "metadata": {},
   "outputs": [],
   "source": [
    "sigma, nu, x = sp.symbols(\"sigma nu x\", positive=True, real=True)\n",
    "\n",
    "g=sp.Lambda(x,1/(sigma * sp.sqrt(2*sp.pi))*sp.exp(-(x-nu)**2/(2*sigma**2)))\n",
    "g"
   ]
  },
  {
   "cell_type": "markdown",
   "metadata": {},
   "source": [
    "Plot the function for different parameters"
   ]
  },
  {
   "cell_type": "code",
   "execution_count": null,
   "metadata": {},
   "outputs": [],
   "source": [
    "valeurs={sigma:1, nu:0}\n",
    "rx=np.arange(-10,10,0.1)\n",
    "ry=np.zeros(len(rx))\n",
    "vg=g.subs(valeurs)\n",
    "for i,vx in enumerate(rx):\n",
    "    ry[i]=vg(vx)\n",
    "\n",
    "plt.plot(rx,ry)\n",
    "plt.grid()"
   ]
  },
  {
   "cell_type": "markdown",
   "metadata": {},
   "source": [
    "Why $\\frac{1}{\\sigma \\sqrt(2 \\pi)}$ ? Let's compute the integral !"
   ]
  },
  {
   "cell_type": "code",
   "execution_count": null,
   "metadata": {},
   "outputs": [],
   "source": [
    "sp.integrate(g(x),(x,-sp.oo,sp.oo))"
   ]
  }
 ],
 "metadata": {
  "kernelspec": {
   "display_name": "Python 3",
   "language": "python",
   "name": "python3"
  },
  "language_info": {
   "codemirror_mode": {
    "name": "ipython",
    "version": 3
   },
   "file_extension": ".py",
   "mimetype": "text/x-python",
   "name": "python",
   "nbconvert_exporter": "python",
   "pygments_lexer": "ipython3",
   "version": "3.11.5"
  }
 },
 "nbformat": 4,
 "nbformat_minor": 2
}
