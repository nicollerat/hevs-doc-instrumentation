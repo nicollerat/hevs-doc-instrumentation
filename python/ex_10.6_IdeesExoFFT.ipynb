{
 "cells": [
  {
   "cell_type": "code",
   "execution_count": 45,
   "metadata": {},
   "outputs": [],
   "source": [
    "import numpy as np \n",
    "import scipy as cp\n",
    "import matplotlib.pyplot as plt"
   ]
  },
  {
   "cell_type": "markdown",
   "metadata": {},
   "source": [
    "## Exercice FFT\n",
    "\n",
    "### Exercice 1\n",
    "- Pour une fréquence d'échantillonnage de 8kHz, quelle est le nombre d'échantillons minimal requis pour représenter un signal DTMF (cf ex.10.5) si on veut que sa FFT ait une séparation de fréquence minimale de 5 échantillons. \n",
    "\n"
   ]
  },
  {
   "cell_type": "markdown",
   "metadata": {},
   "source": [
    "### Exercice 2\n",
    "\n",
    "On mesure l'amplitude d'un signal avec un système d'acquisition qui l'échantillonne avec une période d'échantillonnage $f_s$ de 20kHz. La mémoire permet de mesurer 8192 échantillons. La fréquence $f_0$ du signal mesuré change lentement entre 999 et 1001 Hz. On suppose que la variation est négligeable sur une acquisition du signal.\n",
    "- Quelle est la variation d'amplitude observée par une FFT du signal si on n'utilise pas de fenêtre ?\n",
    "    - A quel index de la FFT va-t'on trouver l'amplitude maximum du signal.\n",
    "    - On calculera la résolution en fréquence de la FFT (la résolution correspond au signal de plus basse fréquence qu'on peut représenter sur une période)\n",
    "    - On calcule la fréquence relative $f_r=f_0/{\\Delta f0}$. Les valeurs entières de $f_r$ correspondent aux échantillons retournés par la FFT\n",
    "    - L'amplitude rendue par la FFT pour une fréquence f est une fonction de la forme . \n",
    "    \n",
    "    $$\n",
    "    \\begin{align}\n",
    "        A(f)&=sinc(f-f_i)&=\\frac{sin(\\pi (f-f_i))}{\\pi (f-f_i)} \\\\\n",
    "        A(x)&=sinc(x)&=\\frac{sin(\\pi (x))}{\\pi (x)}\n",
    "    \\end{align}\n",
    "    $$\n",
    "    Cette fonction **doit être centrée** sur la fréquence *réelle* du signal. Quelles sont les valeurs d'amplitudes qu'on devrait observer aux alentours du maximum.\n",
    "- Vérifiez le résultat en calculant différentes FFT pour la plage de variation de fréquence du signal.\n",
    "- Pourrait-on calculer l'amplitude exacte du signal à partir d'une mesure (sachant que la fréquence se situe dans la plage définie dans l'exercice) ?"
   ]
  },
  {
   "cell_type": "markdown",
   "metadata": {},
   "source": [
    "## Exercice 3\n",
    "\n",
    "Pour la donnée ci-dessus, quelle serait la variation d'amplitude pour une fenêtre de Hanning ou Flattop ?"
   ]
  },
  {
   "cell_type": "markdown",
   "metadata": {},
   "source": [
    "# Solutions\n",
    "\n",
    "## Exercice 1"
   ]
  },
  {
   "cell_type": "code",
   "execution_count": 26,
   "metadata": {},
   "outputs": [
    {
     "data": {
      "text/plain": [
       "547.945205479452"
      ]
     },
     "execution_count": 26,
     "metadata": {},
     "output_type": "execute_result"
    }
   ],
   "source": [
    "fB=[1209,1336,1477,1633]\n",
    "fA=[697,770,852,941]\n",
    "fs=8000\n",
    "# Calculer la différence de fréquence minimum\n",
    "# En déduire le $\\Delta f$\n",
    "# En déduire la fréquence d'échantillonnage\n",
    "DF5=fA[1]-fA[0]\n",
    "DF=DF5/5\n",
    "# De DF=fs/N\n",
    "N=fs/DF\n",
    "N"
   ]
  },
  {
   "cell_type": "markdown",
   "metadata": {},
   "source": [
    "## Exercice 2"
   ]
  },
  {
   "cell_type": "code",
   "execution_count": 4,
   "metadata": {},
   "outputs": [],
   "source": [
    "# Donnée du problème\n",
    "fs=20000\n",
    "f0=1000\n",
    "N=8192\n",
    "vf=1 # variation de fréquence\n",
    "\n",
    "t=np.arange(N)/fs\n",
    "s=np.sin(2*np.pi*f0*t)"
   ]
  },
  {
   "cell_type": "code",
   "execution_count": 6,
   "metadata": {},
   "outputs": [
    {
     "name": "stdout",
     "output_type": "stream",
     "text": [
      "Le pas de fréquence de la FFT est de 2.44140625 [Hz]\n",
      "On trouvera le maximum à l'index 410\n"
     ]
    }
   ],
   "source": [
    "DF=fs/N # pas de fréquence de la FFT\n",
    "print(f\"Le pas de fréquence de la FFT est de {DF} [Hz]\")\n",
    "fr=f0/DF # fréquence du signal relative au pas\n",
    "fri=np.round(fr)\n",
    "print(f\"On trouvera le maximum à l'index {np.round(fri):.0f}\")"
   ]
  },
  {
   "cell_type": "code",
   "execution_count": 13,
   "metadata": {},
   "outputs": [
    {
     "data": {
      "text/plain": [
       "array([0.11679336, 0.18956471, 0.50490873, 0.7564696 , 0.21587953,\n",
       "       0.12578156])"
      ]
     },
     "execution_count": 13,
     "metadata": {},
     "output_type": "execute_result"
    }
   ],
   "source": [
    "ffts=np.abs(np.fft.fft(s))*2/N\n",
    "ffts[407:413]"
   ]
  },
  {
   "cell_type": "code",
   "execution_count": 14,
   "metadata": {},
   "outputs": [
    {
     "data": {
      "text/plain": [
       "0.7568267286406825"
      ]
     },
     "execution_count": 14,
     "metadata": {},
     "output_type": "execute_result"
    }
   ],
   "source": [
    "A=np.sinc(410-fr)\n",
    "A"
   ]
  },
  {
   "cell_type": "code",
   "execution_count": 15,
   "metadata": {},
   "outputs": [
    {
     "name": "stdout",
     "output_type": "stream",
     "text": [
      "Fréquence maximum fmax=1000.9765625\n"
     ]
    }
   ],
   "source": [
    "# Le signal varie de vf. L'amplitude sera maximum quand on est au plus proche de la fréquence qui correspond à l'index 410\n",
    "fmax=410*DF\n",
    "print(f\"Fréquence maximum fmax={fmax}\")"
   ]
  },
  {
   "cell_type": "code",
   "execution_count": 16,
   "metadata": {},
   "outputs": [
    {
     "data": {
      "text/plain": [
       "array([0.00190445, 0.00238232, 0.00317775, 0.0047648 , 0.00949574,\n",
       "       0.99983689, 0.00970309, 0.00483391, 0.00322127, 0.00241688])"
      ]
     },
     "execution_count": 16,
     "metadata": {},
     "output_type": "execute_result"
    }
   ],
   "source": [
    "# La fréquence 1000.97 (1001) donnera une valeur proche de 1\n",
    "s=np.sin(2*np.pi*(f0+vf)*t)\n",
    "ffts=np.abs(np.fft.fft(s))*2/N\n",
    "ffts[405:415]"
   ]
  },
  {
   "cell_type": "code",
   "execution_count": 17,
   "metadata": {},
   "outputs": [
    {
     "data": {
      "text/plain": [
       "array([0.04263394, 0.05604166, 0.08169155, 0.1504359 , 0.94128389,\n",
       "       0.22154379, 0.0991949 , 0.06393941, 0.04719264, 0.03740973])"
      ]
     },
     "execution_count": 17,
     "metadata": {},
     "output_type": "execute_result"
    }
   ],
   "source": [
    "# La fréquence 999 donnera la plus petite valeur\n",
    "s=np.sin(2*np.pi*(f0-vf)*t)\n",
    "ffts=np.abs(np.fft.fft(s))*2/N\n",
    "ffts[405:415]"
   ]
  },
  {
   "cell_type": "code",
   "execution_count": 18,
   "metadata": {},
   "outputs": [
    {
     "name": "stdout",
     "output_type": "stream",
     "text": [
      "On trouvera le maximum du signal à l'index 409\n"
     ]
    }
   ],
   "source": [
    "fr=(f0-vf)/DF # fréquence du signal relative au pas\n",
    "fri=np.round(fr)\n",
    "print(f\"On trouvera le maximum du signal à l'index {np.round(fri):.0f}\")"
   ]
  },
  {
   "cell_type": "code",
   "execution_count": 19,
   "metadata": {},
   "outputs": [
    {
     "data": {
      "text/plain": [
       "array([0.07111347, 0.09132314, 0.12770094, 0.2125831 , 0.6369958 ,\n",
       "       0.63624422, 0.21183151, 0.12694935, 0.09057154, 0.07036186])"
      ]
     },
     "execution_count": 19,
     "metadata": {},
     "output_type": "execute_result"
    }
   ],
   "source": [
    "# Le signal est plus proche du point précédent dans la FFT (409). Le signal le plus faible sera observé à la fréquence située entre les 2 points\n",
    "f_min= 409.5*DF\n",
    "s=np.sin(2*np.pi*(f_min)*t)\n",
    "ffts=np.abs(np.fft.fft(s))*2/N\n",
    "ffts[405:415]\n"
   ]
  },
  {
   "cell_type": "code",
   "execution_count": 20,
   "metadata": {},
   "outputs": [
    {
     "name": "stdout",
     "output_type": "stream",
     "text": [
      "L'amplitude minimum observée est 0.6366197723675814\n"
     ]
    }
   ],
   "source": [
    "A=np.sinc(0.5)\n",
    "print(f\"L'amplitude minimum observée est {A}\")"
   ]
  },
  {
   "cell_type": "markdown",
   "metadata": {},
   "source": [
    "Pour le dernier point, si on sait qu'on a un sinus pur, que sa FFT est donc un ensemble de points sur la courbe sinc(f), on peut chercher l'écart de fréquence qui fait correspondre les points mesurés à la fonction sinc. Il est par conséquent possible de retrouver l'amplitude et la fréquence exacte du signal."
   ]
  },
  {
   "cell_type": "markdown",
   "metadata": {},
   "source": [
    "## Exercice 3"
   ]
  },
  {
   "cell_type": "markdown",
   "metadata": {},
   "source": []
  },
  {
   "cell_type": "code",
   "execution_count": 54,
   "metadata": {},
   "outputs": [],
   "source": [
    "# On peut calculer la FFT en variant la fréquence relative dans la plage et faire un graphique. On s'attend à une valeur minimale lorsque la fréquence tombe entre 2 fréquences \"entières\".\n",
    "\n",
    "# On peut aussi calculer la valeur à partir de la fonction FFT de la fenêtre\n",
    "\n",
    "# Donnée du problème\n",
    "fs=20000\n",
    "f0=1000\n",
    "N=8192\n",
    "vf=1 # variation de fréquence\n",
    "\n",
    "t=np.arange(N)/fs\n",
    "s=np.sin(2*np.pi*f0*t)\n",
    "\n"
   ]
  },
  {
   "cell_type": "code",
   "execution_count": 55,
   "metadata": {},
   "outputs": [
    {
     "data": {
      "image/png": "[encoded data removed]",
      "text/plain": [
       "<Figure size 640x480 with 1 Axes>"
      ]
     },
     "metadata": {},
     "output_type": "display_data"
    }
   ],
   "source": [
    "w_large=np.zeros(N*10)\n",
    "w_large[0:N]=np.hanning(N)\n",
    "fftw=np.abs(np.fft.fft(w_large))*2/N\n",
    "rf=np.arange(N*10)/10\n",
    "plt.plot(rf[0:21],fftw[0:21],'-o')\n",
    "plt.grid()"
   ]
  },
  {
   "cell_type": "code",
   "execution_count": 56,
   "metadata": {},
   "outputs": [
    {
     "name": "stdout",
     "output_type": "stream",
     "text": [
      "Le facteur entre 2 fréquences serait 0.8487572797238906\n"
     ]
    }
   ],
   "source": [
    "print(f\"Le facteur entre 2 fréquences serait {fftw[5]}\")"
   ]
  },
  {
   "cell_type": "code",
   "execution_count": 57,
   "metadata": {},
   "outputs": [
    {
     "data": {
      "image/png": "[encoded data removed]",
      "text/plain": [
       "<Figure size 640x480 with 1 Axes>"
      ]
     },
     "metadata": {},
     "output_type": "display_data"
    }
   ],
   "source": [
    "w_large=np.zeros(N*10)\n",
    "w_large[0:N]=cp.signal.get_window('flattop',N)\n",
    "gw=np.sum(w_large[0:N])/N\n",
    "fftw=np.abs(np.fft.fft(w_large))/N/gw\n",
    "rf=np.arange(N*10)/10\n",
    "plt.plot(rf[0:21],fftw[0:21],'-o')\n",
    "plt.grid()"
   ]
  },
  {
   "cell_type": "code",
   "execution_count": 58,
   "metadata": {},
   "outputs": [
    {
     "name": "stdout",
     "output_type": "stream",
     "text": [
      "Le facteur entre 2 fréquences pour une fenêtre flattop serait 0.9988748927836447\n"
     ]
    }
   ],
   "source": [
    "print(f\"Le facteur entre 2 fréquences pour une fenêtre flattop serait {fftw[5]}\")"
   ]
  },
  {
   "cell_type": "code",
   "execution_count": null,
   "metadata": {},
   "outputs": [],
   "source": []
  }
 ],
 "metadata": {
  "kernelspec": {
   "display_name": "Python 3",
   "language": "python",
   "name": "python3"
  },
  "language_info": {
   "codemirror_mode": {
    "name": "ipython",
    "version": 3
   },
   "file_extension": ".py",
   "mimetype": "text/x-python",
   "name": "python",
   "nbconvert_exporter": "python",
   "pygments_lexer": "ipython3",
   "version": "3.11.2"
  }
 },
 "nbformat": 4,
 "nbformat_minor": 2
}
