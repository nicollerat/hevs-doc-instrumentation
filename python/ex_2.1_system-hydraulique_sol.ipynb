{
 "cells": [
  {
   "cell_type": "code",
   "execution_count": 9,
   "metadata": {},
   "outputs": [],
   "source": [
    "# Import des modules nécessaires et définition de fonctions pour tracer les courbes\n",
    "import numpy as np\n",
    "import matplotlib.pyplot as plt\n",
    "import seaborn\n",
    "from sklearn.linear_model import LinearRegression\n",
    "from IPython.display import display, Markdown\n",
    "#import sympy as sp\n",
    "\n",
    "def plotIt(x,y, title=\"sortie\", xlab=\"X\", ylab=\"Y\"):\n",
    "    fig, ax = plt.subplots()\n",
    "    ax.plot(x, y)\n",
    "    ax.set_xlabel(xlab)\n",
    "    ax.set_ylabel(ylab)\n",
    "    ax.set_title(title)\n",
    "    ax.grid(True, which='both')\n",
    "\n",
    "    seaborn.despine(ax=ax, offset=0)\n",
    "\n",
    "def plotScat(x,y, title=\"sortie\", xlab=\"X\", ylab=\"Y\"):\n",
    "    fig, ax = plt.subplots()\n",
    "    ax.scatter(x, y)\n",
    "    ax.set_xlabel(xlab)\n",
    "    ax.set_ylabel(ylab)\n",
    "    ax.set_title(title)\n",
    "    ax.grid(True, which='both')\n",
    "\n",
    "    seaborn.despine(ax=ax, offset=0)\n",
    "\n",
    "def plotIt2(x1,y1,x2,y2,title=\"sortie\", xlab=\"X\", ylab=\"Y\", legends=\"\"):\n",
    "    fig, ax = plt.subplots()\n",
    "    ax.plot(x1, y1, x2,y2)\n",
    "    ax.set_xlabel(xlab)\n",
    "    ax.set_ylabel(ylab)\n",
    "    ax.set_title(title)\n",
    "    ax.grid(True, which='both')\n",
    "    ax.legend(legends)\n",
    "\n",
    "    seaborn.despine(ax=ax, offset=0)\n",
    "\n",
    "def plotIt2s(x1,y1,x2,y2,title=\"sortie\", xlab=\"X\", ylab=\"Y\", legends=\"\"):\n",
    "    fig, ax = plt.subplots()\n",
    "    ax.plot(x1, y1,'rx')\n",
    "    ax.plot(x2, y2)\n",
    "    ax.set_xlabel(xlab)\n",
    "    ax.set_ylabel(ylab)\n",
    "    ax.set_title(title)\n",
    "    ax.grid(True, which='both')\n",
    "    ax.legend(legends)\n",
    "\n",
    "    seaborn.despine(ax=ax, offset=0)\n",
    "\n"
   ]
  },
  {
   "cell_type": "markdown",
   "metadata": {},
   "source": [
    "# Réservoir hydraulique"
   ]
  },
  {
   "cell_type": "markdown",
   "metadata": {},
   "source": [
    "### Q1 : Unité de k"
   ]
  },
  {
   "cell_type": "markdown",
   "metadata": {},
   "source": [
    "### Q2 : Valeur de k"
   ]
  },
  {
   "cell_type": "code",
   "execution_count": 4,
   "metadata": {},
   "outputs": [],
   "source": [
    "import sympy as sp\n",
    "k,rho, H, Pa, g=sp.symbols('k rho H Pa g', positive = True, real = True)\n",
    "Pf=rho*g*H\n",
    "q_m=k*sp.sqrt((Pf-Pa))\n",
    "q=k*sp.sqrt(sp.Abs(Pf-Pa))*sp.sign(Pf-Pa)"
   ]
  },
  {
   "cell_type": "code",
   "execution_count": 6,
   "metadata": {},
   "outputs": [
    {
     "data": {
      "text/latex": [
       "$\\displaystyle k \\sqrt{\\left|{H g \\rho - Pa}\\right|} \\operatorname{sign}{\\left(H g \\rho - Pa \\right)}$"
      ],
      "text/plain": [
       "k*sqrt(Abs(H*g*rho - Pa))*sign(H*g*rho - Pa)"
      ]
     },
     "execution_count": 6,
     "metadata": {},
     "output_type": "execute_result"
    }
   ],
   "source": [
    "q"
   ]
  },
  {
   "cell_type": "code",
   "execution_count": 7,
   "metadata": {},
   "outputs": [
    {
     "data": {
      "text/latex": [
       "$\\displaystyle 5.23405154908422 \\cdot 10^{-7}$"
      ],
      "text/plain": [
       "5.23405154908422e-7"
      ]
     },
     "execution_count": 7,
     "metadata": {},
     "output_type": "execute_result"
    }
   ],
   "source": [
    "qmes=10 / 1000 / 60\n",
    "vg = 9.81\n",
    "rho_Hg=13600\n",
    "vPa = 760e-3*vg*rho_Hg\n",
    "vK=sp.solve(q.subs(H,20.672).subs(rho,1000).subs(g,vg).subs(Pa,vPa)-qmes, k)\n",
    "vK=vK[0]\n",
    "vK"
   ]
  },
  {
   "cell_type": "markdown",
   "metadata": {},
   "source": [
    "### Q3 : graphique de la hauteur"
   ]
  },
  {
   "cell_type": "code",
   "execution_count": 10,
   "metadata": {},
   "outputs": [
    {
     "data": {
      "image/png": "[encoded data removed]",
      "text/plain": [
       "<Figure size 640x480 with 1 Axes>"
      ]
     },
     "metadata": {},
     "output_type": "display_data"
    }
   ],
   "source": [
    "def vQ(vH):\n",
    "    v=q.subs(H,vH).subs(rho,1000).subs(g,vg).subs(Pa,vPa).subs(k,vK)\n",
    "    if v<0:\n",
    "        v=0\n",
    "    return v\n",
    "\n",
    "rH=np.arange(0,30,1)\n",
    "\n",
    "rQ=np.zeros(len(rH))\n",
    "for i in range(len(rH)):\n",
    "    rQ[i]=vQ(rH[i])\n",
    "\n",
    "plotIt(rH, rQ)"
   ]
  },
  {
   "cell_type": "markdown",
   "metadata": {},
   "source": [
    "### Q4 : Sensibilité du débit par rapport à la hauteur d'eau\n",
    "\n",
    "- H0 = 20[m]\n",
    "- Pa0 = 760 [mmHg]"
   ]
  },
  {
   "cell_type": "code",
   "execution_count": 11,
   "metadata": {},
   "outputs": [
    {
     "data": {
      "text/latex": [
       "$\\displaystyle \\frac{g k \\rho}{2 \\sqrt{H g \\rho - Pa}}$"
      ],
      "text/plain": [
       "g*k*rho/(2*sqrt(H*g*rho - Pa))"
      ]
     },
     "execution_count": 11,
     "metadata": {},
     "output_type": "execute_result"
    }
   ],
   "source": [
    "\n",
    "q_m.diff(H)"
   ]
  },
  {
   "cell_type": "code",
   "execution_count": 12,
   "metadata": {},
   "outputs": [
    {
     "data": {
      "text/latex": [
       "$\\displaystyle 8.3380413200551 \\cdot 10^{-6}$"
      ],
      "text/plain": [
       "8.33804132005510e-6"
      ]
     },
     "execution_count": 12,
     "metadata": {},
     "output_type": "execute_result"
    }
   ],
   "source": [
    "vPa=760e-3*rho_Hg*vg\n",
    "S0=q_m.diff(H).subs(H,20).subs(rho,1000).subs(g,vg).subs(Pa,vPa).subs(k,vK)\n",
    "S0"
   ]
  },
  {
   "cell_type": "markdown",
   "metadata": {},
   "source": [
    "### Q5 : Sensibilité par rapport à la pression"
   ]
  },
  {
   "cell_type": "code",
   "execution_count": 13,
   "metadata": {},
   "outputs": [
    {
     "data": {
      "text/latex": [
       "$\\displaystyle -8.49953243634566 \\cdot 10^{-10}$"
      ],
      "text/plain": [
       "-8.49953243634566e-10"
      ]
     },
     "execution_count": 13,
     "metadata": {},
     "output_type": "execute_result"
    }
   ],
   "source": [
    "S1=q_m.diff(Pa).subs(H,20).subs(rho,1000).subs(g,vg).subs(Pa,vPa).subs(k,vK)\n",
    "S1"
   ]
  },
  {
   "cell_type": "markdown",
   "metadata": {},
   "source": [
    "### Q6 : Relation"
   ]
  },
  {
   "cell_type": "code",
   "execution_count": 14,
   "metadata": {},
   "outputs": [
    {
     "data": {
      "text/latex": [
       "$\\displaystyle 0.000161157662634025$"
      ],
      "text/plain": [
       "0.000161157662634025"
      ]
     },
     "execution_count": 14,
     "metadata": {},
     "output_type": "execute_result"
    }
   ],
   "source": [
    "q0=q_m.subs(H,20).subs(rho,1000).subs(g,vg).subs(Pa,vPa).subs(k,vK)\n",
    "q0"
   ]
  },
  {
   "cell_type": "code",
   "execution_count": 15,
   "metadata": {},
   "outputs": [
    {
     "data": {
      "text/latex": [
       "$\\displaystyle 8.3380413200551 \\cdot 10^{-6} H - 8.49953243634566 \\cdot 10^{-10} Pa + 8.05788313170124 \\cdot 10^{-5}$"
      ],
      "text/plain": [
       "8.3380413200551e-6*H - 8.49953243634566e-10*Pa + 8.05788313170124e-5"
      ]
     },
     "execution_count": 15,
     "metadata": {},
     "output_type": "execute_result"
    }
   ],
   "source": [
    "qlin_20=q0+S0*(H-20)+S1*(Pa-vPa)\n",
    "qlin_20"
   ]
  },
  {
   "cell_type": "code",
   "execution_count": 16,
   "metadata": {},
   "outputs": [
    {
     "data": {
      "text/latex": [
       "$\\displaystyle 0.000204034539954933$"
      ],
      "text/plain": [
       "0.000204034539954933"
      ]
     },
     "execution_count": 16,
     "metadata": {},
     "output_type": "execute_result"
    }
   ],
   "source": [
    "qlin_20.subs(H,25).subs(Pa,100000)"
   ]
  },
  {
   "cell_type": "code",
   "execution_count": 17,
   "metadata": {},
   "outputs": [
    {
     "data": {
      "text/latex": [
       "$\\displaystyle 8.3380413200551 \\cdot 10^{-6} H - 8.49953243634566 \\cdot 10^{-10} Pa + 8.05788313170124 \\cdot 10^{-5}$"
      ],
      "text/plain": [
       "8.3380413200551e-6*H - 8.49953243634566e-10*Pa + 8.05788313170124e-5"
      ]
     },
     "execution_count": 17,
     "metadata": {},
     "output_type": "execute_result"
    }
   ],
   "source": [
    "qlin_20"
   ]
  },
  {
   "cell_type": "code",
   "execution_count": null,
   "metadata": {},
   "outputs": [],
   "source": []
  },
  {
   "cell_type": "code",
   "execution_count": null,
   "metadata": {},
   "outputs": [],
   "source": []
  }
 ],
 "metadata": {
  "kernelspec": {
   "display_name": "Python 3 (ipykernel)",
   "language": "python",
   "name": "python3"
  },
  "language_info": {
   "codemirror_mode": {
    "name": "ipython",
    "version": 3
   },
   "file_extension": ".py",
   "mimetype": "text/x-python",
   "name": "python",
   "nbconvert_exporter": "python",
   "pygments_lexer": "ipython3",
   "version": "3.11.5"
  }
 },
 "nbformat": 4,
 "nbformat_minor": 4
}
