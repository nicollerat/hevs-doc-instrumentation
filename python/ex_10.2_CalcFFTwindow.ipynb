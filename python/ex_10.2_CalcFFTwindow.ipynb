{
 "cells": [
  {
   "cell_type": "markdown",
   "metadata": {},
   "source": [
    "## Compute the FFT of a window\n",
    "\n",
    "The principle is to use a large amount of points. Then define a window on a fraction of the points"
   ]
  },
  {
   "cell_type": "code",
   "execution_count": null,
   "metadata": {},
   "outputs": [],
   "source": [
    "import numpy as np\n",
    "import matplotlib.pyplot as plt\n",
    "N=512\n",
    "P=64\n",
    "k=np.arange(N)\n",
    "\n",
    "# definition of a rectangle of P points over a sample of N points\n",
    "rectw=np.zeros(N)\n",
    "rectw[0:P]=np.ones(P)\n",
    "\n",
    "plt.plot(rectw)\n",
    "plt.show()"
   ]
  },
  {
   "cell_type": "code",
   "execution_count": null,
   "metadata": {},
   "outputs": [],
   "source": [
    "# Computation of the FFT\n",
    "fftrect=np.abs(np.fft.fft(rectw))\n",
    "\n",
    "plt.plot(fftrect[0:100])"
   ]
  },
  {
   "cell_type": "markdown",
   "metadata": {},
   "source": [
    "Use the following windows and compute their FFT\n",
    "- bartlet(N)\n",
    "- blackman(N)\n",
    "- hamming(N)\n",
    "- hanning(N)\n",
    "- flattop(N)\n",
    "\n",
    "Compare the results."
   ]
  },
  {
   "cell_type": "code",
   "execution_count": null,
   "metadata": {},
   "outputs": [],
   "source": [
    "import scipy as sp\n",
    "my_window=np.zeros(N)\n",
    "my_window[0:P]=sp.signal.windows.flattop(P)\n",
    "plt.plot(my_window)"
   ]
  },
  {
   "cell_type": "code",
   "execution_count": null,
   "metadata": {},
   "outputs": [],
   "source": [
    "# your code here.... try it !\n",
    "fft_my= np.abs(np.fft.fft(my_window))\n",
    "plt.semilogy(fft_my)\n",
    "plt.semilogy(fftrect)"
   ]
  },
  {
   "cell_type": "markdown",
   "metadata": {},
   "source": [
    "## Compute the FFT of a windowed signal\n",
    "\n",
    "- Generate a signal of some complexity\n",
    "- Compute the FFT and plot it\n",
    "- Compute a window as done above\n",
    "- Multiply the signal by the window\n",
    "- Compute the FFT of the windowed signal"
   ]
  },
  {
   "cell_type": "code",
   "execution_count": null,
   "metadata": {},
   "outputs": [],
   "source": [
    "N=32\n",
    "P=128\n",
    "n=np.arange(N)\n",
    "\n",
    "f=3;g1=1\n",
    "f2=3.5; g2=0\n",
    "f3=6; g3=0\n",
    "mon_signal = g1*np.sin(2*np.pi*f*n/N)+g2*np.sin(2*np.pi*f2*n/N)+np.cos(2*np.pi*f3*n/N)*g3\n",
    "plt.plot(mon_signal)"
   ]
  }
 ],
 "metadata": {
  "kernelspec": {
   "display_name": "Python 3",
   "language": "python",
   "name": "python3"
  },
  "language_info": {
   "codemirror_mode": {
    "name": "ipython",
    "version": 3
   },
   "file_extension": ".py",
   "mimetype": "text/x-python",
   "name": "python",
   "nbconvert_exporter": "python",
   "pygments_lexer": "ipython3",
   "version": "3.12.7"
  }
 },
 "nbformat": 4,
 "nbformat_minor": 4
}
