{
 "cells": [
  {
   "cell_type": "code",
   "execution_count": 69,
   "id": "b2a10368-07a0-4ded-8ec4-9dddde1c5616",
   "metadata": {},
   "outputs": [],
   "source": [
    "import sympy as sp\n",
    "sp.init_printing()\n",
    "def deq(name, value):\n",
    "    return sp.Eq(sp.Symbol(name),value)"
   ]
  },
  {
   "cell_type": "markdown",
   "id": "d0e70959-4c18-4fb0-95ba-ec2f0cc2bbfe",
   "metadata": {},
   "source": [
    "# Exercices sur les accéléromètres\n",
    "\n",
    "## 7.1 Accéléromètre capacitif\n",
    "\n",
    "On a un accéléromètre capacitif constitué d'une masse sismique de masse $m$ montée sur un ressort de coefficient $K_f$. L'air ambiant cause un amortissement $c$ proportionnel à la vitesse de déplacement de la masse. La masse est un disque de diamètre $d$ et d'épaisseur $e$.\n",
    "\n",
    "La distance entre les électrodes externes et la masse est de x0 au repos. La masse est centrée entre les électrodes.\n",
    "\n",
    "On soumet l'accéléromètre à une vibration sinusoïdale $x=x_0 \\sin(\\omega t)$.\n",
    "\n",
    "La position est déduite de la mesure de capacité entre la masse et chacune des électrodes. \n",
    "\n",
    "1. Quelle est la fréquence maximum de la vibration si veut rester 10x sous la fréquence propre du capteur ?\n",
    "2. Quelle accélération maximum le capteur peut-il mesurer ?\n",
    "3. Donner l'expression des capacités comme fonction du déplacement. Comment tirer profit des 2 valeurs pour augmenter la résolution ?\n",
    "\n"
   ]
  },
  {
   "cell_type": "code",
   "execution_count": 70,
   "id": "159117fb-a89b-4f3b-82fb-2607a3fbe6e6",
   "metadata": {},
   "outputs": [
    {
     "name": "stdout",
     "output_type": "stream",
     "text": [
      "La fréquence max est de \n"
     ]
    },
    {
     "data": {
      "image/png": "[encoded data removed]",
      "text/latex": [
       "$\\displaystyle f_{0} = \\frac{\\sqrt{\\frac{K_{f}}{m}}}{20 \\pi}$"
      ],
      "text/plain": [
       "         _____\n",
       "        ╱ K_f \n",
       "       ╱  ─── \n",
       "     ╲╱    m  \n",
       "f₀ = ─────────\n",
       "        20⋅π  "
      ]
     },
     "execution_count": 70,
     "metadata": {},
     "output_type": "execute_result"
    }
   ],
   "source": [
    "# 1. Fréquence maximum mesurable\n",
    "\n",
    "Kf, c, m, e, d, x0, omega, t = sp.symbols('K_f, c, m, e, d, x_0, omega, t')\n",
    "\n",
    "w0=sp.sqrt(Kf/m)\n",
    "print(\"La fréquence max est de \")\n",
    "deq(\"f0\",w0/10/2/sp.pi)"
   ]
  },
  {
   "cell_type": "code",
   "execution_count": 71,
   "id": "ae4a4ea9-3b45-4d51-9828-4afbabee3898",
   "metadata": {},
   "outputs": [
    {
     "name": "stdout",
     "output_type": "stream",
     "text": [
      "L'accélération maximum est :\n"
     ]
    },
    {
     "data": {
      "image/png": "[encoded data removed]",
      "text/latex": [
       "$\\displaystyle a_{max} = \\frac{K_{f} x_{0}}{m}$"
      ],
      "text/plain": [
       "       K_f⋅x₀\n",
       "aₘₐₓ = ──────\n",
       "         m   "
      ]
     },
     "execution_count": 71,
     "metadata": {},
     "output_type": "execute_result"
    }
   ],
   "source": [
    "\n",
    "# L'accélération maximum est atteinte quand le déplacement vaut x0\n",
    "a_max=sp.symbols('a_max')\n",
    "sol=sp.solve(sp.Eq(m*a_max , x0 * Kf),a_max)\n",
    "print(\"L'accélération maximum est :\")\n",
    "deq(\"a_max\",sol[0])"
   ]
  },
  {
   "cell_type": "code",
   "execution_count": 72,
   "id": "b8a9ac58-cbfa-4102-8432-c4804fa100ec",
   "metadata": {},
   "outputs": [
    {
     "data": {
      "image/png": "[encoded data removed]",
      "text/latex": [
       "$\\displaystyle \\left[ \\frac{S \\epsilon_{0}}{\\Delta x + x_{0}}, \\  \\frac{S \\epsilon_{0}}{- \\Delta x + x_{0}}\\right]$"
      ],
      "text/plain": [
       "⎡     S⋅ε₀           S⋅ε₀     ⎤\n",
       "⎢─────────────, ──────────────⎥\n",
       "⎣\\Delta x + x₀  -\\Delta x + x₀⎦"
      ]
     },
     "execution_count": 72,
     "metadata": {},
     "output_type": "execute_result"
    }
   ],
   "source": [
    "# 3. Calcul de la variation de capacité pour un déplacement dx:\n",
    "e0,S=sp.symbols('epsilon_0,S')\n",
    "dx=sp.Symbol(\"\\Delta x\")\n",
    "C1= S/(x0+dx)*e0\n",
    "C2= S/(x0-dx)*e0\n",
    "[C1,C2]"
   ]
  },
  {
   "cell_type": "code",
   "execution_count": 73,
   "id": "2f1b142f-09fd-45b8-b2d0-415698be230e",
   "metadata": {},
   "outputs": [
    {
     "data": {
      "image/png": "[encoded data removed]",
      "text/latex": [
       "$\\displaystyle \\frac{2 S \\Delta x \\epsilon_{0}}{\\left(\\Delta x - x_{0}\\right) \\left(\\Delta x + x_{0}\\right)}$"
      ],
      "text/plain": [
       "        2⋅S⋅\\Delta x⋅ε₀        \n",
       "───────────────────────────────\n",
       "(\\Delta x - x₀)⋅(\\Delta x + x₀)"
      ]
     },
     "execution_count": 73,
     "metadata": {},
     "output_type": "execute_result"
    }
   ],
   "source": [
    "sp.simplify(C1-C2) # On soustrait les 2 valeurs pour augmenter la sensibilité"
   ]
  },
  {
   "cell_type": "markdown",
   "id": "de4afe8c-3a90-4f04-a420-36190cbc8fdd",
   "metadata": {},
   "source": [
    "On peut approximer le dénominateur avec $- x_0^2$, ce qui donne pour la variation de capacité\n",
    "$$\n",
    "\\Delta C = -\\frac{2S \\epsilon_0}{x_0^2}\\cdot \\Delta x = -2 \\cdot C_0 \\cdot \\frac{\\Delta x}{x_0}\n",
    "$$"
   ]
  },
  {
   "cell_type": "markdown",
   "id": "a9a00be8-acb5-4b80-a938-8eff1e366626",
   "metadata": {},
   "source": [
    "## 7.2 Briquet Piézo-électrique\n",
    "\n",
    "Un cristal piézo-électrique est construit avec un matériel qui a les propriétés suivantes dans une direction :\n",
    "- coefficient $\\beta_l$ exprimé en [C/mm/N] qui représente la charge induite par unité de force et de longueur du cristal.\n",
    "- perméabilité relative $\\epsilon_r$ du cristal\n",
    "- Un module d'élasticité $E$ [N/m^2]\n",
    "\n",
    "On décide d'employer un cristal cylindrique, définit par une hauteur $h$ et un diamètre $d$.\n",
    "  \n",
    "On aimerait générer une étincelle pour un briquet. Pour celà, la tension doit atteindre V1 volts. Le briquet comporte une gachette qui permet de tendre un ressort avec une masse $m$ et de le relâcher d'un coup contre le cristal piézo-électrique. On a besoin que la force lors de l'impact soit suffisante pour créer une tension qui provoque l'étincelle. La charge électrique générée charge la capacité du cristal et crée ainsi une tension.\n",
    "\n",
    "Une capacité en parallèle de $C_{stray}$ est présente.\n",
    "\n",
    "1. Calculer la sensibilité du cristal comme fonction de sa longueur et la capacité électrique comme fonction de la longeur et de la surface. Calculer la tension induite qui en résulte.\n",
    "2. Comment choisir le rapport entre largeur et longeur ?\n",
    "3. Quelle force est nécessaire pour créer la tension requise ?\n",
    "4. Supposont que la masse soit tirée sur un ressort de charge lié à la gachette d'une distance $x1$, que l'énergie est complètement transférée en énergie de compression sur le cristal et que la force est maximum juste avant l'arrêt. A partir du calcul sur l'énergie stockée par la masse sur un ressort, écrivez une relation entre $x1$ et la force $F$ juste avant l'arrêt.\n",
    "5. Sur la base des valeurs numériques proposées, quelle est la force nécessaire pour tirer la gachette ?"
   ]
  },
  {
   "cell_type": "code",
   "execution_count": 74,
   "id": "c087ec46-b661-4f54-8c43-87d6c1648fee",
   "metadata": {},
   "outputs": [
    {
     "name": "stdout",
     "output_type": "stream",
     "text": [
      "Tension obtenue pour une force F\n"
     ]
    },
    {
     "data": {
      "image/png": "[encoded data removed]",
      "text/latex": [
       "$\\displaystyle \\frac{F \\beta_{l} h}{C_{stray} + \\frac{\\pi d^{2} e_{0} e_{r}}{4 h}}$"
      ],
      "text/plain": [
       "       F⋅βₗ⋅h       \n",
       "────────────────────\n",
       "             2      \n",
       "          π⋅d ⋅e₀⋅eᵣ\n",
       "C_stray + ──────────\n",
       "             4⋅h    "
      ]
     },
     "execution_count": 74,
     "metadata": {},
     "output_type": "execute_result"
    }
   ],
   "source": [
    "# 1. Sensibilité et capacité du cristal\n",
    "beta_l, d,h,er,e0,F,Cstray = sp.symbols('beta_l,d,h,e_r,e_0,F,C_stray', positive=True)\n",
    "Se=beta_l*h # Sensibilité du cristal complet\n",
    "C=sp.pi*d**2/(4*h)*er*e0\n",
    "C\n",
    "# Tension pour une force F\n",
    "U= Se * F / (C+Cstray)\n",
    "print(\"Tension obtenue pour une force F\")\n",
    "U"
   ]
  },
  {
   "cell_type": "code",
   "execution_count": 75,
   "id": "ecbca748-56d3-46f4-a1e5-cfcc4312f85a",
   "metadata": {},
   "outputs": [],
   "source": [
    "# 2. Le diamètre à intérêt à être petit et la hauteur grande. \n",
    "#    On a plutôt un cylindre allongé qu'une pastille."
   ]
  },
  {
   "cell_type": "code",
   "execution_count": 76,
   "id": "8e5a92a5-1879-4268-a8fc-4c25d06b8eb2",
   "metadata": {},
   "outputs": [
    {
     "name": "stdout",
     "output_type": "stream",
     "text": [
      "Force nécessaire pour obtenir V1\n"
     ]
    },
    {
     "data": {
      "image/png": "[encoded data removed]",
      "text/latex": [
       "$\\displaystyle \\frac{V_{1} \\cdot \\left(4 C_{stray} h + \\pi d^{2} e_{0} e_{r}\\right)}{4 \\beta_{l} h^{2}}$"
      ],
      "text/plain": [
       "   ⎛                 2      ⎞\n",
       "V₁⋅⎝4⋅C_stray⋅h + π⋅d ⋅e₀⋅eᵣ⎠\n",
       "─────────────────────────────\n",
       "                 2           \n",
       "           4⋅βₗ⋅h            "
      ]
     },
     "execution_count": 76,
     "metadata": {},
     "output_type": "execute_result"
    }
   ],
   "source": [
    "# 3. La force minimale nécessaire pour obtenir une tension V1 est \n",
    "V1=sp.symbols('V_1', positive=True)\n",
    "F_min=sp.solve(sp.Eq(V1,U),F)[0]\n",
    "print(\"Force nécessaire pour obtenir V1\")\n",
    "F_min"
   ]
  },
  {
   "cell_type": "code",
   "execution_count": 77,
   "id": "c1755305-fd06-47e3-92b1-611e6ae78ca6",
   "metadata": {},
   "outputs": [
    {
     "name": "stdout",
     "output_type": "stream",
     "text": [
      "Energie contenue dans un ressort\n"
     ]
    },
    {
     "data": {
      "image/png": "[encoded data removed]",
      "text/latex": [
       "$\\displaystyle E_{r} = \\frac{K_{ressort} x_{1}^{2}}{2}$"
      ],
      "text/plain": [
       "                2\n",
       "     Kᵣₑₛₛₒᵣₜ⋅x₁ \n",
       "Eᵣ = ────────────\n",
       "          2      "
      ]
     },
     "execution_count": 77,
     "metadata": {},
     "output_type": "execute_result"
    }
   ],
   "source": [
    "# 4.1 Relation de l'énergie d'une masse sur un ressort\n",
    "Kr,x,x1,m,v0,E = sp.symbols('K_ressort,x,x_1,m,v_0,E', positive=True)\n",
    "F=Kr*x\n",
    "E_r=F.integrate((x,0,x1))\n",
    "print(\"Energie contenue dans un ressort\")\n",
    "deq(\"E_r\",E_r)"
   ]
  },
  {
   "cell_type": "code",
   "execution_count": 78,
   "id": "112d5d87-301e-48cf-b100-e23b7d3c141c",
   "metadata": {},
   "outputs": [],
   "source": [
    "# La force maximum qu'une masse subit en ralentissant sur un ressort est données par\n",
    "F_max=Kr*x1\n",
    "\n"
   ]
  },
  {
   "cell_type": "code",
   "execution_count": 79,
   "id": "5c10adbf-7e32-48db-8ecd-0ebe065977e1",
   "metadata": {},
   "outputs": [],
   "source": [
    "# L'énergie sur le ressort de la poignée doit être égale à l'énergie nécessaire pour obtenir la tension"
   ]
  },
  {
   "cell_type": "code",
   "execution_count": 80,
   "id": "d7ddd910-8cdd-45bb-845b-c18070585d2b",
   "metadata": {},
   "outputs": [
    {
     "name": "stdout",
     "output_type": "stream",
     "text": [
      "Constante d'élasticité du cristal\n"
     ]
    },
    {
     "data": {
      "image/png": "[encoded data removed]",
      "text/latex": [
       "$\\displaystyle K_{cristal} = \\frac{\\pi E d^{2}}{4 h}$"
      ],
      "text/plain": [
       "                 2\n",
       "            π⋅E⋅d \n",
       "K_cristal = ──────\n",
       "             4⋅h  "
      ]
     },
     "execution_count": 80,
     "metadata": {},
     "output_type": "execute_result"
    }
   ],
   "source": [
    "# 4.2 Pour obtenir une relation entre v0 et la force maximum, on a l'énergie cinétique avant l'impact\n",
    "#        qui doit être égale à l'énergie sur le ressort\n",
    "\n",
    "# a) On calcule la constante de compressibilité du cristal\n",
    "E=sp.symbols('E') # Module de compressibilité du cristal\n",
    "K_cristal, E_min=sp.symbols('K_cristal, E_min', positive=True)\n",
    "# Pour le cristal piézoélectrique, le module d'élasticité est\n",
    "K_cristal = E*d**2*sp.pi/(4*h)\n",
    "print(\"Constante d'élasticité du cristal\")\n",
    "deq(\"K_cristal\",K_cristal)"
   ]
  },
  {
   "cell_type": "code",
   "execution_count": 81,
   "id": "0123acc7-0fbb-4c18-9dfc-5433886134db",
   "metadata": {},
   "outputs": [
    {
     "data": {
      "image/png": "[encoded data removed]",
      "text/latex": [
       "$\\displaystyle x_{1} = \\frac{F}{\\sqrt{K_{c}} \\sqrt{K_{ressort}}}$"
      ],
      "text/plain": [
       "              F          \n",
       "x₁ = ────────────────────\n",
       "       _____   __________\n",
       "     ╲╱ K_c ⋅╲╱ Kᵣₑₛₛₒᵣₜ "
      ]
     },
     "execution_count": 81,
     "metadata": {},
     "output_type": "execute_result"
    }
   ],
   "source": [
    "# b) La force maximum est liée à l'énergie stockée dans le cristal par la valeur de K_cristal.\n",
    "#       L'énergie sur le ressort de la poignée doit être la même que celle nécessaire pour générer l'étincelle\n",
    "Kc=sp.Symbol(\"K_c\", positive=True)\n",
    "x_charge=sp.Symbol(\"x_charge\", positive=True)\n",
    "F=sp.Symbol(\"F\", positive=True)\n",
    "\n",
    "# Relation entre x1 et la force\n",
    "x1_min=F / Kc\n",
    "\n",
    "# Résolution de l'équivalence des énergies pour x1\n",
    "ex1=sp.solve(sp.Eq(x_charge**2/2*Kr, x1_min**2/2*Kc), x_charge)[0]\n",
    "deq(\"x1\",ex1)"
   ]
  },
  {
   "cell_type": "code",
   "execution_count": 82,
   "id": "42f84447-d3a7-42b9-9b61-6c609e2ca522",
   "metadata": {},
   "outputs": [],
   "source": [
    "# 5. Force nécessaire sur le ressort de la poignée (constante Kr) pour obtenir la force nécessaire\n",
    "#     même formulation... on a un rapport entre la contraction et la constante du ressort\n"
   ]
  },
  {
   "cell_type": "code",
   "execution_count": 86,
   "id": "3ab7250b-f3b6-4a0d-af0e-3691ae65ce7e",
   "metadata": {},
   "outputs": [
    {
     "data": {
      "image/png": "[encoded data removed]",
      "text/latex": [
       "$\\displaystyle 886.201355472194$"
      ],
      "text/plain": [
       "886.201355472194"
      ]
     },
     "execution_count": 86,
     "metadata": {},
     "output_type": "execute_result"
    }
   ],
   "source": [
    "# Valeur numériques. Force sur le piezzo\n",
    "valeurs={d:0.003, e0:8.85e-12, er:4.5, E:8e12,beta_l:2.26e-12/0.001, V1:1000, Kr:10/0.01, Cstray:20e-12, h:0.01}\n",
    "F_min.subs(valeurs).subs(h,0.01).evalf()"
   ]
  },
  {
   "cell_type": "code",
   "execution_count": 87,
   "id": "7acd5c6d-874c-4537-869f-2ae5df63fbc1",
   "metadata": {},
   "outputs": [
    {
     "data": {
      "image/png": "[encoded data removed]",
      "text/latex": [
       "$\\displaystyle \\frac{F \\sqrt{K_{ressort}}}{\\sqrt{K_{c}}}$"
      ],
      "text/plain": [
       "    __________\n",
       "F⋅╲╱ Kᵣₑₛₛₒᵣₜ \n",
       "──────────────\n",
       "     _____    \n",
       "   ╲╱ K_c     "
      ]
     },
     "execution_count": 87,
     "metadata": {},
     "output_type": "execute_result"
    }
   ],
   "source": [
    "# Force pour armer le ressort\n",
    "F_ressort = ex1*Kr\n",
    "F_ressort"
   ]
  },
  {
   "cell_type": "code",
   "execution_count": 91,
   "id": "e1fc3a6d-6a61-4f4a-96db-5c99f1335de4",
   "metadata": {},
   "outputs": [
    {
     "data": {
      "image/png": "[encoded data removed]",
      "text/latex": [
       "$\\displaystyle 0.372667243508373$"
      ],
      "text/plain": [
       "0.372667243508373"
      ]
     },
     "execution_count": 91,
     "metadata": {},
     "output_type": "execute_result"
    }
   ],
   "source": [
    "F_ressort.subs(Kc,K_cristal).subs(F,F_min).subs(valeurs).evalf()"
   ]
  },
  {
   "cell_type": "code",
   "execution_count": 92,
   "id": "64b5917c-01ad-417a-8c30-b92d80b50417",
   "metadata": {},
   "outputs": [
    {
     "data": {
      "image/png": "[encoded data removed]",
      "text/latex": [
       "$\\displaystyle 2.8150633671573 \\cdot 10^{-14}$"
      ],
      "text/plain": [
       "2.81506336715730e-14"
      ]
     },
     "execution_count": 92,
     "metadata": {},
     "output_type": "execute_result"
    }
   ],
   "source": [
    "C.subs(valeurs).subs(h,0.01).evalf()"
   ]
  },
  {
   "cell_type": "code",
   "execution_count": 94,
   "id": "7505d66a-c3df-4ec4-ab2b-a00c69a3289b",
   "metadata": {},
   "outputs": [
    {
     "data": {
      "image/png": "[encoded data removed]",
      "text/latex": [
       "$\\displaystyle \\left[ 1800000000.0 \\pi, \\  1000.0\\right]$"
      ],
      "text/plain": [
       "[1800000000.0⋅π, 1000.0]"
      ]
     },
     "execution_count": 94,
     "metadata": {},
     "output_type": "execute_result"
    }
   ],
   "source": [
    "[K_cristal.subs(valeurs), Kr.subs(valeurs)]"
   ]
  },
  {
   "cell_type": "markdown",
   "id": "37eca9e5-a55b-489f-9612-9c0d1631c18c",
   "metadata": {},
   "source": [
    "## 7.3 Equilibrage d'une roue\n",
    "\n",
    "Une installation permet de faire tourner une roue de voiture. Le moteur est monté sur une suspension avec un accéléromètre. Un codeur incrémental permet d'avoir la position angulaire de la roue. Un index est utilisé pour repérer la position absolue.\n",
    "\n",
    "Le moteur fait tourner la roue à une vitesse N[rpm]. Le compteur associé au codeur incrémental de $N$ stries compte toutes les transitions des signaux A et B. \n",
    "\n",
    "Le signal venant de l'accéléromètre est de forme sinusoïdale $s(t)=V_0 \\cdot \\sin(\\omega t)[V]$. On a relevé que le compteur atteint une valeur M1 lorsque le signal est en début de période ($t=0$). \n",
    "\n",
    "On utilise un accéléromètre piézo-électrique de sensibilité $S$ connecté à un amplificateur de charge de gain $g$[V/C]. Il est monté sur le moteur. L'ensemble d'entraînement a une masse $m_E$.\n",
    "\n",
    "A quelle position M2 du compteur faut-il placer une masse d'équilibrage, et de quelle grandeur ?"
   ]
  },
  {
   "cell_type": "code",
   "execution_count": null,
   "id": "718b0fd3-9d8e-4007-b6ea-2c9cec8aca10",
   "metadata": {},
   "outputs": [],
   "source": []
  },
  {
   "cell_type": "code",
   "execution_count": 97,
   "id": "020b8eea-cb0b-4223-92f6-1c8abef78d67",
   "metadata": {},
   "outputs": [
    {
     "name": "stdout",
     "output_type": "stream",
     "text": [
      "la masse doit être de \n"
     ]
    },
    {
     "data": {
      "image/png": "[encoded data removed]",
      "text/latex": [
       "$\\displaystyle m_{eq} = \\frac{F_{c}}{d \\omega^{2}}$"
      ],
      "text/plain": [
       "       F_c \n",
       "m_eq = ────\n",
       "          2\n",
       "       d⋅ω "
      ]
     },
     "execution_count": 97,
     "metadata": {},
     "output_type": "execute_result"
    }
   ],
   "source": [
    "# L'accélération observée correspond à un excès de masse dans une direction. Cet excès \n",
    "# de masse provoque une force qui \"secoue\" le moteur.\n",
    "m_e,a,w,d,m, F_c=sp.symbols('m_e,a,omega,d,m,F_c')\n",
    "\n",
    "# Expression de la force centrifuge\n",
    "eF_c=w**2*d*m\n",
    "\n",
    "# La force centrige est équivalent à une masse à une distance de l'axe\n",
    "print(\"la masse doit être de \")\n",
    "deq(\"m_eq\",sp.solve(sp.Eq(F_c,eF_c),m)[0])"
   ]
  },
  {
   "cell_type": "code",
   "execution_count": 98,
   "id": "e6575272-1a30-4046-b91a-a8b646237160",
   "metadata": {},
   "outputs": [],
   "source": [
    "# La position est doit être à l'opposé du pic d'accélération. La position M1 correspond \n",
    "# à 90° avant le pic. Il faut mettre la masse à M2=M1-2*N"
   ]
  },
  {
   "cell_type": "code",
   "execution_count": null,
   "id": "7edf3980-bb81-4274-912b-76b453b1d6c9",
   "metadata": {},
   "outputs": [],
   "source": []
  }
 ],
 "metadata": {
  "kernelspec": {
   "display_name": "Python 3 (ipykernel)",
   "language": "python",
   "name": "python3"
  },
  "language_info": {
   "codemirror_mode": {
    "name": "ipython",
    "version": 3
   },
   "file_extension": ".py",
   "mimetype": "text/x-python",
   "name": "python",
   "nbconvert_exporter": "python",
   "pygments_lexer": "ipython3",
   "version": "3.11.2"
  }
 },
 "nbformat": 4,
 "nbformat_minor": 5
}
