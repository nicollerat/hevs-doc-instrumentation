{
 "cells": [
  {
   "cell_type": "code",
   "execution_count": 2,
   "id": "b2a10368-07a0-4ded-8ec4-9dddde1c5616",
   "metadata": {},
   "outputs": [],
   "source": [
    "import sympy as sp\n",
    "sp.init_printing()"
   ]
  },
  {
   "cell_type": "markdown",
   "id": "d0e70959-4c18-4fb0-95ba-ec2f0cc2bbfe",
   "metadata": {},
   "source": [
    "# Exercices sur les accéléromètres\n",
    "\n",
    "## 7.1 Accéléromètre capacitif\n",
    "\n",
    "On a un accéléromètre capacitif constitué d'une masse sismique de masse $m$ montée sur un ressort de coefficient $K_r$. L'air ambiant cause un amortissement $K_f$ proportionnel à la vitesse de déplacement de la masse. La masse est un disque de diamètre $d$ et d'épaisseur $e$.\n",
    "\n",
    "La distance entre les électrodes externes et la masse est de x0 au repos. La masse est centrée entre les électrodes.\n",
    "\n",
    "On soumet l'accéléromètre à une vibration sinusoïdale $x=x_0 \\sin(\\omega t)$.\n",
    "\n",
    "La position est déduite de la mesure de capacité entre la masse et chacune des électrodes. \n",
    "\n",
    "1. Quelle est la fréquence maximum de la vibration si veut rester 10x sous la fréquence propre du capteur ?\n",
    "2. Quelle accélération maximum le capteur peut-il mesurer ?\n",
    "3. Donner l'expression des capacités comme fonction du déplacement. Comment tirer profit des 2 valeurs pour augmenter la résolution ?\n",
    "\n"
   ]
  },
  {
   "cell_type": "code",
   "execution_count": 38,
   "id": "159117fb-a89b-4f3b-82fb-2607a3fbe6e6",
   "metadata": {},
   "outputs": [
    {
     "name": "stdout",
     "output_type": "stream",
     "text": [
      "La fréquence max est de \n"
     ]
    },
    {
     "data": {
      "image/png": "[encoded data removed]",
      "text/latex": [
       "$\\displaystyle \\frac{\\sqrt{\\frac{K_{f}}{m}}}{20 \\pi}$"
      ],
      "text/plain": [
       "    _____\n",
       "   ╱ K_f \n",
       "  ╱  ─── \n",
       "╲╱    m  \n",
       "─────────\n",
       "   20⋅π  "
      ]
     },
     "execution_count": 38,
     "metadata": {},
     "output_type": "execute_result"
    }
   ],
   "source": [
    "# 1. Fréquence maximum mesurable\n",
    "\n",
    "Kf, Kr, m, e, d, x0, omega, t = sp.symbols('K_f, K_r, m, e, d, x_0, omega, t')\n",
    "\n",
    "w0=sp.sqrt(Kf/m)\n",
    "print(\"La fréquence max est de \")\n",
    "w0/10/2/sp.pi"
   ]
  },
  {
   "cell_type": "code",
   "execution_count": 39,
   "id": "ae4a4ea9-3b45-4d51-9828-4afbabee3898",
   "metadata": {},
   "outputs": [
    {
     "name": "stdout",
     "output_type": "stream",
     "text": [
      "L'accélération maximum est :\n"
     ]
    },
    {
     "data": {
      "image/png": "[encoded data removed]",
      "text/latex": [
       "$\\displaystyle \\frac{K_{f} x_{0}}{m}$"
      ],
      "text/plain": [
       "K_f⋅x₀\n",
       "──────\n",
       "  m   "
      ]
     },
     "execution_count": 39,
     "metadata": {},
     "output_type": "execute_result"
    }
   ],
   "source": [
    "\n",
    "# L'accélération maximum est atteinte quand le déplacement vaut x0\n",
    "a_max=sp.symbols('a_max')\n",
    "sol=sp.solve(sp.Eq(m*a_max , x0 * Kf),a_max)\n",
    "print(\"L'accélération maximum est :\")\n",
    "sol[0]"
   ]
  },
  {
   "cell_type": "code",
   "execution_count": 40,
   "id": "b8a9ac58-cbfa-4102-8432-c4804fa100ec",
   "metadata": {},
   "outputs": [
    {
     "data": {
      "image/png": "[encoded data removed]",
      "text/latex": [
       "$\\displaystyle \\left[ \\frac{S \\epsilon_{0}}{\\Delta x + x_{0}}, \\  \\frac{S \\epsilon_{0}}{- \\Delta x + x_{0}}\\right]$"
      ],
      "text/plain": [
       "⎡     S⋅ε₀           S⋅ε₀     ⎤\n",
       "⎢─────────────, ──────────────⎥\n",
       "⎣\\Delta x + x₀  -\\Delta x + x₀⎦"
      ]
     },
     "execution_count": 40,
     "metadata": {},
     "output_type": "execute_result"
    }
   ],
   "source": [
    "# 3. Calcul de la variation de capacité :\n",
    "e0,S=sp.symbols('epsilon_0,S')\n",
    "dx=sp.Symbol(\"\\Delta x\")\n",
    "C1= S/(x0+dx)*e0\n",
    "C2= S/(x0-dx)*e0\n",
    "[C1,C2]"
   ]
  },
  {
   "cell_type": "code",
   "execution_count": 41,
   "id": "2f1b142f-09fd-45b8-b2d0-415698be230e",
   "metadata": {},
   "outputs": [
    {
     "data": {
      "image/png": "[encoded data removed]",
      "text/latex": [
       "$\\displaystyle \\frac{2 S \\Delta x \\epsilon_{0}}{\\left(\\Delta x - x_{0}\\right) \\left(\\Delta x + x_{0}\\right)}$"
      ],
      "text/plain": [
       "        2⋅S⋅\\Delta x⋅ε₀        \n",
       "───────────────────────────────\n",
       "(\\Delta x - x₀)⋅(\\Delta x + x₀)"
      ]
     },
     "execution_count": 41,
     "metadata": {},
     "output_type": "execute_result"
    }
   ],
   "source": [
    "sp.simplify(C1-C2) # On soustrait les 2 valeurs pour augmenter la sensibilité"
   ]
  },
  {
   "cell_type": "markdown",
   "id": "a9a00be8-acb5-4b80-a938-8eff1e366626",
   "metadata": {},
   "source": [
    "## 7.2 Capteur Piézo-électrique\n",
    "\n",
    "Un cristal piézo-électrique est construit avec un matériel qui a les propriétés suivantes dans une direction :\n",
    "- coefficient $\\beta$ exprimé en [C/mm/N] qui représente la charge induite par unité de force et de longueur du cristal.\n",
    "- perméabilité relative $\\epsilon_r$ du cristal\n",
    "- Un module d'élasticité $E$ [N/m^2]\n",
    "\n",
    "On décide d'employer un cristal cylindrique, définit par une hauteur $h$ et un diamètre $d$.\n",
    "  \n",
    "On aimerait générer une étincelle pour un briquet. Pour celà, la tension doit atteindre V1 volts. Le briquet comporte une gachette qui permet de tendre un ressort avec une masse $m$ et de le relâcher d'un coup contre le cristal piézo-électrique. On a besoin que la force lors de l'impact soit suffisante pour créer une tension qui provoque l'étincelle. La charge électrique générée charge la capacité du cristal et crée ainsi une tension.\n",
    "\n",
    "1. Calculer la sensibilité du cristal comme fonction de sa longueur et la capacité électrique comme fonction de la longeur et de la surface. Calculer la tension induite qui en résulte.\n",
    "2. Comment choisir le rapport entre largeur et longeur ?\n",
    "3. Quelle force est nécessaire pour créer la tension requise ?\n",
    "4. En supposant que la masse arrive contre le cristal à une vitesse $v0$, elle comprime le cristal jusqu'à l'arrêt. La force est maximum juste avant l'arrêt. A partir du calcul sur l'énergie stockée par la masse sur un ressort, écrivez une relation entre $v0$ et la force $F$ juste avant l'arrêt.\n",
    "5. Si la masse est chargée sur un ressort d'une course de 10mm avant d'être relâchée, quelle est la force nécessaire pour tirer la gachette ?"
   ]
  },
  {
   "cell_type": "code",
   "execution_count": 48,
   "id": "c087ec46-b661-4f54-8c43-87d6c1648fee",
   "metadata": {},
   "outputs": [
    {
     "name": "stdout",
     "output_type": "stream",
     "text": [
      "Tension obtenue pour une force F\n"
     ]
    },
    {
     "data": {
      "image/png": "[encoded data removed]",
      "text/latex": [
       "$\\displaystyle \\frac{4 F \\beta h^{2}}{\\pi d^{2} e_{0} e_{r}}$"
      ],
      "text/plain": [
       "        2 \n",
       " 4⋅F⋅β⋅h  \n",
       "──────────\n",
       "   2      \n",
       "π⋅d ⋅e₀⋅eᵣ"
      ]
     },
     "execution_count": 48,
     "metadata": {},
     "output_type": "execute_result"
    }
   ],
   "source": [
    "# 1. Sensibilité et capacité du cristal\n",
    "beta, d,h,er,e0,F = sp.symbols('beta,d,h,e_r,e_0,F', positive=True)\n",
    "Se=beta*h # Sensibilité du cristal complet\n",
    "C=sp.pi*d**2/(4*h)*er*e0\n",
    "\n",
    "# Tension pour une force F\n",
    "U= Se * F / C\n",
    "print(\"Tension obtenue pour une force F\")\n",
    "U"
   ]
  },
  {
   "cell_type": "code",
   "execution_count": 49,
   "id": "ecbca748-56d3-46f4-a1e5-cfcc4312f85a",
   "metadata": {},
   "outputs": [],
   "source": [
    "# 2. Le diamètre à intérêt à être petit et la hauteur grande. \n",
    "#    On a plutôt un cylindre allongé qu'une pastille."
   ]
  },
  {
   "cell_type": "code",
   "execution_count": 50,
   "id": "8e5a92a5-1879-4268-a8fc-4c25d06b8eb2",
   "metadata": {},
   "outputs": [
    {
     "name": "stdout",
     "output_type": "stream",
     "text": [
      "Force nécessaire pour obtenir V1\n"
     ]
    },
    {
     "data": {
      "image/png": "[encoded data removed]",
      "text/latex": [
       "$\\displaystyle \\frac{\\pi V_{1} d^{2} e_{0} e_{r}}{4 \\beta h^{2}}$"
      ],
      "text/plain": [
       "      2      \n",
       "π⋅V₁⋅d ⋅e₀⋅eᵣ\n",
       "─────────────\n",
       "         2   \n",
       "    4⋅β⋅h    "
      ]
     },
     "execution_count": 50,
     "metadata": {},
     "output_type": "execute_result"
    }
   ],
   "source": [
    "# 3. La force minimale nécessaire pour obtenir une tension V1 est \n",
    "V1=sp.symbols('V_1', positive=True)\n",
    "F_min=sp.solve(sp.Eq(V1,U),F)[0]\n",
    "print(\"Force nécessaire pour obtenir V1\")\n",
    "F_min"
   ]
  },
  {
   "cell_type": "code",
   "execution_count": 51,
   "id": "c1755305-fd06-47e3-92b1-611e6ae78ca6",
   "metadata": {},
   "outputs": [
    {
     "name": "stdout",
     "output_type": "stream",
     "text": [
      "Energie contenue dans un ressort\n"
     ]
    },
    {
     "data": {
      "image/png": "[encoded data removed]",
      "text/latex": [
       "$\\displaystyle \\frac{K_{r} x_{1}^{2}}{2}$"
      ],
      "text/plain": [
       "     2\n",
       "Kᵣ⋅x₁ \n",
       "──────\n",
       "  2   "
      ]
     },
     "execution_count": 51,
     "metadata": {},
     "output_type": "execute_result"
    }
   ],
   "source": [
    "# 4.1 Relation de l'énergie d'une masse sur un ressort\n",
    "Kr,x,x1,m,v0,E = sp.symbols('K_r,x,x_1,m,v_0,E', positive=True)\n",
    "F=Kr*x\n",
    "E_r=F.integrate((x,0,x1))\n",
    "print(\"Energie contenue dans un ressort\")\n",
    "E_r"
   ]
  },
  {
   "cell_type": "code",
   "execution_count": 52,
   "id": "112d5d87-301e-48cf-b100-e23b7d3c141c",
   "metadata": {},
   "outputs": [
    {
     "data": {
      "image/png": "[encoded data removed]",
      "text/latex": [
       "$\\displaystyle \\left( \\left( K_{r}, \\  E_{0}\\right) \\mapsto \\sqrt{2} \\sqrt{E_{0}} \\sqrt{K_{r}} \\right)$"
      ],
      "text/plain": [
       "                ____   ____\n",
       "(Kᵣ, E₀) ↦ √2⋅╲╱ E₀ ⋅╲╱ Kᵣ "
      ]
     },
     "execution_count": 52,
     "metadata": {},
     "output_type": "execute_result"
    }
   ],
   "source": [
    "# La force maximum qu'une masse subit en ralentissant sur un ressort est données par\n",
    "F_max=Kr*x1\n",
    "# On peut calculer pour une énergie donnée quelle est la force maximum\n",
    "\n",
    "E0=sp.symbols('E_0', positive=True)\n",
    "x1_max=sp.solve(sp.Eq(E0, E_r),x1)[0]\n",
    "F_max=sp.Lambda((Kr, E0),Kr*x1_max)\n",
    "F_max"
   ]
  },
  {
   "cell_type": "code",
   "execution_count": 61,
   "id": "d7ddd910-8cdd-45bb-845b-c18070585d2b",
   "metadata": {},
   "outputs": [
    {
     "name": "stdout",
     "output_type": "stream",
     "text": [
      "Constante d'élasticité du cristal\n"
     ]
    },
    {
     "data": {
      "image/png": "[encoded data removed]",
      "text/latex": [
       "$\\displaystyle \\frac{\\pi E d^{2}}{4 h}$"
      ],
      "text/plain": [
       "     2\n",
       "π⋅E⋅d \n",
       "──────\n",
       " 4⋅h  "
      ]
     },
     "execution_count": 61,
     "metadata": {},
     "output_type": "execute_result"
    }
   ],
   "source": [
    "# 4.2 Pour obtenir une relation entre v0 et la force maximum, on a l'énergie cinétique avant l'impact\n",
    "#        qui doit être égale à l'énergie sur le ressort\n",
    "\n",
    "# a) On calcule la constante de compressibilité du cristal\n",
    "E=sp.symbols('E') # Module de compressibilité du cristal\n",
    "K_cristal, E_min=sp.symbols('K_cristal, E_min', positive=True)\n",
    "# Pour le cristal piézoélectrique, le module d'élasticité est\n",
    "K_cristal = E*d**2*sp.pi/(4*h)\n",
    "print(\"Constante d'élasticité du cristal\")\n",
    "K_cristal"
   ]
  },
  {
   "cell_type": "code",
   "execution_count": 62,
   "id": "0123acc7-0fbb-4c18-9dfc-5433886134db",
   "metadata": {},
   "outputs": [
    {
     "data": {
      "image/png": "[encoded data removed]",
      "text/latex": [
       "$\\displaystyle \\frac{\\sqrt{\\pi} V_{1} d e_{0} e_{r} \\sqrt{\\frac{1}{E}}}{2 \\beta h^{\\frac{3}{2}} \\sqrt{m}}$"
      ],
      "text/plain": [
       "                  ___\n",
       "                 ╱ 1 \n",
       "√π⋅V₁⋅d⋅e₀⋅eᵣ⋅  ╱  ─ \n",
       "              ╲╱   E \n",
       "─────────────────────\n",
       "          3/2        \n",
       "     2⋅β⋅h   ⋅√m     "
      ]
     },
     "execution_count": 62,
     "metadata": {},
     "output_type": "execute_result"
    }
   ],
   "source": [
    "# b) La force maximum est liée à l'énergie stockée dans le cristal par la valeur de K_r.\n",
    "#       La force donne x1, x1 donne E_r et E_r = 1/2 m v0^2\n",
    "x1_min=F_min / K_cristal\n",
    "E_min = K_cristal * x1_min**2/2\n",
    "v0 = sp.sqrt(E_min*2 / m)\n",
    "sp.simplify(v)"
   ]
  },
  {
   "cell_type": "code",
   "execution_count": 70,
   "id": "42f84447-d3a7-42b9-9b61-6c609e2ca522",
   "metadata": {},
   "outputs": [
    {
     "data": {
      "image/png": "[encoded data removed]",
      "text/latex": [
       "$\\displaystyle \\frac{0.886226925452758 \\sqrt{K_{r}} V_{1} d e_{0} e_{r} \\sqrt{\\frac{1}{E}}}{\\beta h^{\\frac{3}{2}}}$"
      ],
      "text/plain": [
       "                                        ___\n",
       "                    ____               ╱ 1 \n",
       "0.886226925452758⋅╲╱ Kᵣ ⋅V₁⋅d⋅e₀⋅eᵣ⋅  ╱  ─ \n",
       "                                    ╲╱   E \n",
       "───────────────────────────────────────────\n",
       "                      3/2                  \n",
       "                   β⋅h                     "
      ]
     },
     "execution_count": 70,
     "metadata": {},
     "output_type": "execute_result"
    }
   ],
   "source": [
    "# 5. Force sur le ressort de la poignée (constante Kr)\n",
    "#     même formulation... on a un rapport entre la contraction et la constante du ressort\n",
    "xr=sp.symbols('x_r', positive=True)\n",
    "xr_sol=sp.solve(sp.Eq(Kr*xr**2/2, 1/2*m*v0**2), xr)\n",
    "F_arm=xr_sol[1]*Kr\n",
    "F_arm"
   ]
  },
  {
   "cell_type": "code",
   "execution_count": 68,
   "id": "3ab7250b-f3b6-4a0d-af0e-3691ae65ce7e",
   "metadata": {},
   "outputs": [
    {
     "data": {
      "image/png": "[encoded data removed]",
      "text/latex": [
       "$\\displaystyle 1.24560325980412$"
      ],
      "text/plain": [
       "1.24560325980412"
      ]
     },
     "execution_count": 68,
     "metadata": {},
     "output_type": "execute_result"
    }
   ],
   "source": [
    "# Valeur numériques. Force sur le piezzo\n",
    "valeurs={d:0.003, e0:8.85e-12, er:4.5, E:8e12,beta:2.26e-9, V1:1000}\n",
    "F_min.subs(valeurs).subs(h,0.01).evalf()"
   ]
  },
  {
   "cell_type": "code",
   "execution_count": 72,
   "id": "7acd5c6d-874c-4537-869f-2ae5df63fbc1",
   "metadata": {},
   "outputs": [
    {
     "data": {
      "image/png": "[encoded data removed]",
      "text/latex": [
       "$\\displaystyle 1.65641268313904 \\cdot 10^{-5} K_{r}^{0.5}$"
      ],
      "text/plain": [
       "                      0.5\n",
       "1.65641268313904e-5⋅Kᵣ   "
      ]
     },
     "execution_count": 72,
     "metadata": {},
     "output_type": "execute_result"
    }
   ],
   "source": [
    "# Force pour armer le ressort\n",
    "F_arm.subs(valeurs).subs(h,0.01).evalf()"
   ]
  },
  {
   "cell_type": "code",
   "execution_count": 74,
   "id": "e1fc3a6d-6a61-4f4a-96db-5c99f1335de4",
   "metadata": {},
   "outputs": [
    {
     "data": {
      "image/png": "[encoded data removed]",
      "text/latex": [
       "$\\displaystyle 1.65641268313904 \\cdot 10^{-5}$"
      ],
      "text/plain": [
       "1.65641268313904e-5"
      ]
     },
     "execution_count": 74,
     "metadata": {},
     "output_type": "execute_result"
    }
   ],
   "source": [
    "F_arm.subs(valeurs).subs(h,0.01).subs(Kr,1)"
   ]
  },
  {
   "cell_type": "markdown",
   "id": "37eca9e5-a55b-489f-9612-9c0d1631c18c",
   "metadata": {},
   "source": [
    "## 7.3 Equilibrage d'une roue\n",
    "\n",
    "Une installation permet de faire tourner une roue de voiture. Le moteur est monté sur une suspension avec un accéléromètre. Un codeur incrémental permet d'avoir la position angulaire de la roue. Un index est utilisé pour repérer la position absolue.\n",
    "\n",
    "Le moteur fait tourner la roue à une vitesse N[rpm]. Le compteur associé au codeur incrémental de S stries compte toutes les transitions des signaux A et B. \n",
    "\n",
    "Le signal venant de l'accéléromètre est de forme sinusoïdale $s(t)=V_0 \\cdot \\sin(\\omega t)[V]$. On a relevé que le compteur atteint une valeur M1 lorsque le signal est en début de période ($t=0$). \n",
    "\n",
    "On utilise un accéléromètre piézo-électrique de sensibilité $S$ connecté à un amplificateur de charge de gain $g$[V/C]. Il est monté sur le moteur. L'ensemble d'entraînement a une masse $m_E$.\n",
    "\n",
    "A quelle position M2 du compteur faut-il placer une masse d'équilibrage, et de quelle grandeur ?"
   ]
  },
  {
   "cell_type": "code",
   "execution_count": null,
   "id": "718b0fd3-9d8e-4007-b6ea-2c9cec8aca10",
   "metadata": {},
   "outputs": [],
   "source": []
  },
  {
   "cell_type": "code",
   "execution_count": 27,
   "id": "020b8eea-cb0b-4223-92f6-1c8abef78d67",
   "metadata": {},
   "outputs": [
    {
     "name": "stdout",
     "output_type": "stream",
     "text": [
      "la masse doit être de \n"
     ]
    },
    {
     "data": {
      "image/png": "[encoded data removed]",
      "text/latex": [
       "$\\displaystyle \\frac{a m_{e}}{d \\omega^{2}}$"
      ],
      "text/plain": [
       "a⋅mₑ\n",
       "────\n",
       "   2\n",
       "d⋅ω "
      ]
     },
     "execution_count": 27,
     "metadata": {},
     "output_type": "execute_result"
    }
   ],
   "source": [
    "# L'accélération observée correspond à un excès de masse dans une direction. Cet excès \n",
    "# de masse provoque une force qui \"secoue\" le moteur.\n",
    "m_e,a,w,d,m=sp.symbols('m_e,a,omega,d,m')\n",
    "F_c=m_e*a\n",
    "\n",
    "# La force centrige est équivalent à une masse à une distance de l'axe\n",
    "print(\"la masse doit être de \")\n",
    "sp.solve(sp.Eq(F_c,w**2*d*m),m)[0]"
   ]
  },
  {
   "cell_type": "code",
   "execution_count": null,
   "id": "e6575272-1a30-4046-b91a-a8b646237160",
   "metadata": {},
   "outputs": [],
   "source": [
    "# La position est doit être à l'opposé du pic d'accélération. La position M1 correspond \n",
    "# à 90° avant le pic. Il faut mettre la masse à M2=-M1"
   ]
  }
 ],
 "metadata": {
  "kernelspec": {
   "display_name": "Python 3 (ipykernel)",
   "language": "python",
   "name": "python3"
  },
  "language_info": {
   "codemirror_mode": {
    "name": "ipython",
    "version": 3
   },
   "file_extension": ".py",
   "mimetype": "text/x-python",
   "name": "python",
   "nbconvert_exporter": "python",
   "pygments_lexer": "ipython3",
   "version": "3.11.5"
  }
 },
 "nbformat": 4,
 "nbformat_minor": 5
}
