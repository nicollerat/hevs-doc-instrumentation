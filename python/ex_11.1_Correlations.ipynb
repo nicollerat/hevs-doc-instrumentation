{
 "cells": [
  {
   "cell_type": "code",
   "execution_count": 1,
   "metadata": {},
   "outputs": [],
   "source": [
    "import numpy as np\n",
    "import matplotlib.pyplot as plt"
   ]
  },
  {
   "cell_type": "markdown",
   "metadata": {},
   "source": [
    "## Exercices sur la corrélation\n",
    "\n",
    "A) Corréler les signaux suivants :\n",
    "\n",
    "        S1=[1,0,0,-2,0,0,1]\n",
    "        S2=[-1,0,0,2,0,0,-1]\n",
    "\n",
    "B) Corrélez le signal S1 ci-dessus avec le signal suivant :\n",
    "\n",
    "        CR=[0,0,0,1,0,0,0]\n",
    "\n",
    "C) Générez un signal $S_a= (rand()-0.5) + \\frac{1}{10}sin(2\\pi f_0 t)$. Générez un signal de 1000 point, et sélectionnez f0 pour avoir 20 périodes environ.\n",
    "\n",
    "- Corrélez ce signal avec lui-même\n",
    "- Corrélez ce signal avec $sin(2\\pi f_0 t)$\n",
    "- Observez les résultats. Quel avantage aurait la corrélation dans ce cas.\n",
    "- Calculez une convolution de $S_a$ avec lui-même. Commentez le résultat."
   ]
  },
  {
   "cell_type": "markdown",
   "metadata": {},
   "source": [
    "## Solution"
   ]
  },
  {
   "cell_type": "code",
   "execution_count": null,
   "metadata": {},
   "outputs": [],
   "source": [
    "S11=np.array([1,0,0,-2,0,0,1])\n",
    "S12=np.array([-1,0,0,2,0,0,-1])\n"
   ]
  }
 ],
 "metadata": {
  "kernelspec": {
   "display_name": "Python 3",
   "language": "python",
   "name": "python3"
  },
  "language_info": {
   "codemirror_mode": {
    "name": "ipython",
    "version": 3
   },
   "file_extension": ".py",
   "mimetype": "text/x-python",
   "name": "python",
   "nbconvert_exporter": "python",
   "pygments_lexer": "ipython3",
   "version": "3.11.5"
  }
 },
 "nbformat": 4,
 "nbformat_minor": 2
}
