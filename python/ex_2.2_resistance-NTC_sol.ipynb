{
 "cells": [
  {
   "cell_type": "code",
   "execution_count": 40,
   "id": "a1193c47-b599-4c8e-ac2c-8b8b882f8be6",
   "metadata": {},
   "outputs": [],
   "source": [
    "# Import des modules nécessaires et définition de fonctions pour tracer les courbes\n",
    "import numpy as np\n",
    "import matplotlib.pyplot as plt\n",
    "import seaborn\n",
    "from sklearn.linear_model import LinearRegression\n",
    "from IPython.display import display, Markdown\n",
    "\n",
    "def plotIt(x,y, title=\"sortie\", xlab=\"X\", ylab=\"Y\"):\n",
    "    fig, ax = plt.subplots()\n",
    "    ax.plot(x, y)\n",
    "    ax.set_xlabel(xlab)\n",
    "    ax.set_ylabel(ylab)\n",
    "    ax.set_title(title)\n",
    "    ax.grid(True, which='both')\n",
    "\n",
    "    seaborn.despine(ax=ax, offset=0)\n",
    "\n",
    "def plotScat(x,y, title=\"sortie\", xlab=\"X\", ylab=\"Y\"):\n",
    "    fig, ax = plt.subplots()\n",
    "    ax.scatter(x, y)\n",
    "    ax.set_xlabel(xlab)\n",
    "    ax.set_ylabel(ylab)\n",
    "    ax.set_title(title)\n",
    "    ax.grid(True, which='both')\n",
    "\n",
    "    seaborn.despine(ax=ax, offset=0)\n",
    "\n",
    "def plotIt2(x1,y1,x2,y2,title=\"sortie\", xlab=\"X\", ylab=\"Y\", legends=\"\"):\n",
    "    fig, ax = plt.subplots()\n",
    "    ax.plot(x1, y1, x2,y2)\n",
    "    ax.set_xlabel(xlab)\n",
    "    ax.set_ylabel(ylab)\n",
    "    ax.set_title(title)\n",
    "    ax.grid(True, which='both')\n",
    "    ax.legend(legends)\n",
    "\n",
    "    seaborn.despine(ax=ax, offset=0)\n",
    "\n",
    "def plotIt2s(x1,y1,x2,y2,title=\"sortie\", xlab=\"X\", ylab=\"Y\", legends=\"\"):\n",
    "    fig, ax = plt.subplots()\n",
    "    ax.plot(x1, y1,'rx')\n",
    "    ax.plot(x2, y2)\n",
    "    ax.set_xlabel(xlab)\n",
    "    ax.set_ylabel(ylab)\n",
    "    ax.set_title(title)\n",
    "    ax.grid(True, which='both')\n",
    "    ax.legend(legends)\n",
    "\n",
    "    seaborn.despine(ax=ax, offset=0)\n",
    "\n",
    "# a=np.arange(0,10,0.1)\n",
    "# b=a**2\n",
    "# plotIt(a,b, title=\"test\")"
   ]
  },
  {
   "cell_type": "markdown",
   "id": "8f6f9c68-b5e7-4049-b054-138d2a3fbff9",
   "metadata": {},
   "source": [
    "Linéarisation d'un sonde de température NTC\n",
    "===========================================\n",
    "\n",
    "La linéarisation d'une caractéristique consiste à calculer l'équation de la tangente à la courbe autour d'un point donné. Le cas échéant, l'inversion de la courbe est plus simple.\n",
    "\n",
    "## Exemple avec une thermo-résistance NTC\n",
    "\n",
    "La caractéristique de la sonde NTC est donnée par une relation de la forme suivante :\n",
    "\n",
    "$$\n",
    "R(T) = R_0 \\left( e^{\\beta ( {1 \\over T} - {1 \\over {T_0}}) } \\right)\n",
    "$$\n",
    "\n",
    "**Attention :** Les températures sont exprimées en Kelvin !\n",
    "\n",
    "Le coefficient $\\beta$ peut être calculé pour deux points connus d'une sonde par la relation\n",
    "\n",
    "$$\n",
    "\\beta = \\frac{T_1 \\cdot T_2}{T_2-T_1} \\cdot \\ln{\\left(\\frac{R_1}{R_2}\\right)}\n",
    "$$\n",
    "\n",
    "En pratique, le coefficient $\\beta$ est donné par le fabricant pour une plage de température donnée. (cf. datasheet NTCS0603)\n",
    "\n",
    "## Courbe de la thermorésistance\n",
    "\n",
    "Pour tracer la courbe de la thermorésistance, on définit la relation et on calcule la valeur de la résistance pour une plage de températures."
   ]
  },
  {
   "cell_type": "code",
   "execution_count": 41,
   "id": "ec30fdcb-0577-4478-9861-97512b26d087",
   "metadata": {},
   "outputs": [],
   "source": [
    "def Rntc(T, T0, R0, B):\n",
    "    K0=273\n",
    "    Tk=T+K0\n",
    "    T0k=T0+K0\n",
    "    return R0*np.exp(B*(1/Tk-1/T0k))\n",
    "    "
   ]
  },
  {
   "cell_type": "code",
   "execution_count": 42,
   "id": "947da63e-f7d4-4803-8d74-232b0d9f3945",
   "metadata": {},
   "outputs": [],
   "source": [
    "vBETA=3965\n",
    "vR0=10000\n",
    "vT0=25\n",
    "vRho0=1.29\n",
    "\n",
    "# Définition d'une plage de température et calcul des valeurs de résistance.\n",
    "vT=np.arange(-20, 70, 0.1)\n",
    "vRt = Rntc(vT, T0=vT0, R0=vR0, B=vBETA)"
   ]
  },
  {
   "cell_type": "code",
   "execution_count": 43,
   "id": "6ba01851-4104-42c1-b9bf-fed92a4c4751",
   "metadata": {},
   "outputs": [
    {
     "data": {
      "image/png": "[encoded data removed]",
      "text/plain": [
       "<Figure size 640x480 with 1 Axes>"
      ]
     },
     "metadata": {},
     "output_type": "display_data"
    }
   ],
   "source": [
    "plotIt(vT,vRt/1000, xlab=\"T[°C]\", ylab=\"R[$k\\Omega$]\", title=\"Caractéristique d'une résistance NTC\")\n",
    "# plt.savefig(\"../images/caracteristiqueNTC.png\")"
   ]
  },
  {
   "cell_type": "markdown",
   "id": "541624c7-2253-43cf-8d5c-0f6baa7eedcb",
   "metadata": {},
   "source": [
    "## Linéarisation\n",
    "\n",
    "\n",
    "On veut linéariser cette caractéristique autour de 20°C en utilisant la *tangente*. On part de la relation qui donne la valeur de la résistance comme fonction de la température. \n",
    "\n",
    "On utilise *sympy* pour nous aider à résoudre le problème. La fonction qui nous intéresse peut être définie algébriquement comme suit :"
   ]
  },
  {
   "cell_type": "code",
   "execution_count": 44,
   "id": "7ce1c3ba-6782-44a1-92d5-b462a6e076cb",
   "metadata": {},
   "outputs": [],
   "source": [
    "import sympy as sp\n",
    "T, T0, R0, B = sp.symbols('T T0 R0 B')\n",
    "eqR = R0*sp.exp(B*(1/T-1/T0))"
   ]
  },
  {
   "cell_type": "code",
   "execution_count": 45,
   "id": "6490fc78-4602-4e65-8ddc-65681c9187bd",
   "metadata": {},
   "outputs": [
    {
     "data": {
      "text/latex": [
       "$\\displaystyle R_{0} e^{B \\left(- \\frac{1}{T_{0}} + \\frac{1}{T}\\right)}$"
      ],
      "text/plain": [
       "R0*exp(B*(-1/T0 + 1/T))"
      ]
     },
     "execution_count": 45,
     "metadata": {},
     "output_type": "execute_result"
    }
   ],
   "source": [
    "eqR"
   ]
  },
  {
   "cell_type": "markdown",
   "id": "67376792-e8ad-491c-a6cf-4a1087aaa091",
   "metadata": {},
   "source": [
    "Pour faire une linéarisation, on calcule la pente de la courbe à un point de la courbe. Les valeurs proches peuvent être calculées avec une relation de la forme ci-dessous.\n",
    "$$\n",
    "y = f(x), \\quad y_{lin} = f(x_0) + S \\cdot (x-x_0),\n",
    "\\quad\n",
    "S = \\frac {d f(m)}{dm} \\bigg|_{m_0}\n",
    "$$\n",
    "$S$ est la pente de la fonction à un point $x0$.\n",
    "\n",
    "Le module *sympy* permet de trouver la dérifée d'une expression assez simplement. \n",
    "\n",
    "- On obtient la dérivée de la fonction qu'on a définit *eqR* avec l'expression *eqR.diff(T)*\n",
    "- On peut évalue la valeur du résultat avec *res.subs(variable, valeur)*. Pour remplacer plusieurs valeurs, il suffit d'itérer (res.subs().subs()...)"
   ]
  },
  {
   "cell_type": "markdown",
   "id": "7ba2198f-c187-44cd-806a-d4ff2f03f1e0",
   "metadata": {},
   "source": [
    "### EX1 : Calculez la fonction linéarisée $y_{lin}$ autour d'un point T = 25 °C."
   ]
  },
  {
   "cell_type": "markdown",
   "id": "af49be39-7a18-496d-9299-8efe03c8955a",
   "metadata": {},
   "source": [
    "## Solution"
   ]
  },
  {
   "cell_type": "code",
   "execution_count": 46,
   "id": "de3273dd-253e-41a0-8bf2-3074afa577c2",
   "metadata": {},
   "outputs": [],
   "source": [
    "dR=eqR.diff(T)"
   ]
  },
  {
   "cell_type": "code",
   "execution_count": 47,
   "id": "77ae22df-da6b-4856-b4df-9f2274a300bc",
   "metadata": {},
   "outputs": [
    {
     "data": {
      "text/latex": [
       "$\\displaystyle - \\frac{B R_{0} e^{B \\left(- \\frac{1}{T_{0}} + \\frac{1}{T}\\right)}}{T^{2}}$"
      ],
      "text/plain": [
       "-B*R0*exp(B*(-1/T0 + 1/T))/T**2"
      ]
     },
     "execution_count": 47,
     "metadata": {},
     "output_type": "execute_result"
    }
   ],
   "source": [
    "dR"
   ]
  },
  {
   "cell_type": "code",
   "execution_count": 48,
   "id": "cbcc9106-bb72-4604-9a62-9b252b5c9157",
   "metadata": {},
   "outputs": [
    {
     "name": "stdout",
     "output_type": "stream",
     "text": [
      "Equation linéaire : R = 10000.0000000000 + -446.039750578846 * (T-25)\n"
     ]
    }
   ],
   "source": [
    "K0=273.15\n",
    "vT1=25\n",
    "valeurs={B:vBETA, T0:vT0+K0, R0:vR0, T:vT1+K0}\n",
    "S20=dR.subs(valeurs)\n",
    "R20=eqR.subs(valeurs)\n",
    "print(\"Equation linéaire : R = {} + {} * (T-{})\".format(R20,S20, vT1))"
   ]
  },
  {
   "cell_type": "markdown",
   "id": "567267f3-df20-46ad-892e-c26344b9e40d",
   "metadata": {},
   "source": [
    "Fonction linéarisée"
   ]
  },
  {
   "cell_type": "code",
   "execution_count": 49,
   "id": "3735bed7-80c4-4c0c-b3a9-e16e8b25cda6",
   "metadata": {},
   "outputs": [],
   "source": [
    "def Rntc_lin(T):\n",
    "    return R20 + S20*(T-vT1)"
   ]
  },
  {
   "cell_type": "code",
   "execution_count": 50,
   "id": "be28779c-cc2d-4aab-a6c7-1e4a2be7553f",
   "metadata": {},
   "outputs": [
    {
     "data": {
      "text/latex": [
       "$\\displaystyle 12230.1987528942$"
      ],
      "text/plain": [
       "12230.1987528942"
      ]
     },
     "execution_count": 50,
     "metadata": {},
     "output_type": "execute_result"
    }
   ],
   "source": [
    "Rntc_lin(20)"
   ]
  },
  {
   "cell_type": "markdown",
   "id": "8bf61598-b975-4980-8f9b-527ea1dfc49a",
   "metadata": {},
   "source": [
    "### EX2 : Tracez la nouvelle fonction sur un graphique avec la caractéristique de la résistance NTC"
   ]
  },
  {
   "cell_type": "markdown",
   "id": "0fba9653-9988-4c34-a98b-fa5046cac3c9",
   "metadata": {},
   "source": [
    "## Solution"
   ]
  },
  {
   "cell_type": "code",
   "execution_count": 51,
   "id": "4b28c419-0963-44ce-b084-9d15fc6a8eb7",
   "metadata": {},
   "outputs": [
    {
     "data": {
      "image/png": "[encoded data removed]",
      "text/plain": [
       "<Figure size 640x480 with 1 Axes>"
      ]
     },
     "metadata": {},
     "output_type": "display_data"
    }
   ],
   "source": [
    "vTl=np.arange(0,40)\n",
    "vRl=Rntc_lin(vTl)\n",
    "plotIt2(vT,vRt, vTl, vRl, xlab=\"T[°C]\", ylab=\"R[ohms]\", title=\"Caractéristique d'une résistance NTC\")"
   ]
  },
  {
   "cell_type": "markdown",
   "id": "ec724b7b-1fc9-4857-82ae-7e417f101248",
   "metadata": {},
   "source": [
    "### EX2.2 : Quelle est l'erreur maximum sur une plage de 20 à 30°C ?"
   ]
  },
  {
   "cell_type": "code",
   "execution_count": 74,
   "id": "fc8040b7-1228-426c-8045-9376e9bedf26",
   "metadata": {},
   "outputs": [
    {
     "data": {
      "text/plain": [
       "[33819.09180370368, 21150.9937644712, 12668.0980392325, 37.4584217481712]"
      ]
     },
     "execution_count": 74,
     "metadata": {},
     "output_type": "execute_result"
    }
   ],
   "source": [
    "vT2=0\n",
    "# Calcul de la différence de valeur de résistance calculée par la fonction\n",
    "vR=Rntc(vT2, T0=vT0, R0=vR0, B=vBETA)\n",
    "vRlin=Rntc_lin(vT2)\n",
    "[vR, vRlin, vR-vRlin, (vR-vRlin)/vR*100]"
   ]
  },
  {
   "cell_type": "code",
   "execution_count": 53,
   "id": "489c2810-b252-4edf-8524-a45a6a42b4a3",
   "metadata": {},
   "outputs": [
    {
     "data": {
      "text/plain": [
       "839.0057761304375"
      ]
     },
     "execution_count": 53,
     "metadata": {},
     "output_type": "execute_result"
    }
   ],
   "source": [
    "Rntc(30, T0=25, R0=1000, B=3170)"
   ]
  },
  {
   "cell_type": "code",
   "execution_count": 54,
   "id": "84591be4-8576-42b5-a221-cac38eaef56b",
   "metadata": {},
   "outputs": [
    {
     "data": {
      "text/latex": [
       "$\\displaystyle 7769.80124710577$"
      ],
      "text/plain": [
       "7769.80124710577"
      ]
     },
     "execution_count": 54,
     "metadata": {},
     "output_type": "execute_result"
    }
   ],
   "source": [
    "Rntc_lin(30)"
   ]
  },
  {
   "cell_type": "markdown",
   "id": "54597ea2",
   "metadata": {},
   "source": [
    "## EX3 : Circuit de lecture\n",
    "\n",
    "### Source de courant"
   ]
  },
  {
   "cell_type": "code",
   "execution_count": 83,
   "id": "d1ef35ed",
   "metadata": {},
   "outputs": [
    {
     "name": "stdout",
     "output_type": "stream",
     "text": [
      "U Non linérarisé [8.45477295 2.5       ] [V]\n",
      "U Linéarisé [5.28774844111779 2.50000000000000] [V]\n"
     ]
    }
   ],
   "source": [
    "I=0.25e-3 # 0.25 mA\n",
    "Unl=np.array([Rntc(0,T0=vT0, R0=vR0, B=vBETA), Rntc(25,T0=vT0, R0=vR0, B=vBETA)])*I # Tension \n",
    "Ulin=np.array([Rntc_lin(0), Rntc_lin(25)])*I\n",
    "print(\"U Non linérarisé\",Unl,\"[V]\")\n",
    "print(\"U Linéarisé\",Ulin,\"[V]\")"
   ]
  },
  {
   "cell_type": "code",
   "execution_count": 81,
   "id": "59c1fb08",
   "metadata": {},
   "outputs": [
    {
     "name": "stdout",
     "output_type": "stream",
     "text": [
      "Non linérarisé [5.29921233 2.5       ]\n",
      "Linéarisé [4.13501130825778 2.50000000000000]\n"
     ]
    }
   ],
   "source": [
    "# Avec résistance et source de tension\n",
    "# U = Rntc/(Rup+Rntc)*U\n",
    "U=10\n",
    "Rup=30000\n",
    "Rnl=np.array([Rntc(0,T0=vT0, R0=vR0, B=vBETA), Rntc(25,T0=vT0, R0=vR0, B=vBETA)])\n",
    "Rlin=np.array([Rntc_lin(0), Rntc_lin(25)])\n",
    "Unl=Rnl/(Rnl+Rup)*U # Tension \n",
    "Ulin=Rlin/(Rlin+Rup)*U\n",
    "print(\"U Non linérarisé\",Unl,\"[V]\")\n",
    "print(\"U Linéarisé\",Ulin,\"[V]\")"
   ]
  },
  {
   "cell_type": "markdown",
   "id": "18b0d19c-b58d-42f3-bb85-b0c6ea9b33a5",
   "metadata": {},
   "source": [
    "### EX4 : Calculez quelle sera l'erreur d'estimation de la température si on utilise la courbe linéarisée inverse au lieu de la caractéristique réelle"
   ]
  },
  {
   "cell_type": "code",
   "execution_count": 55,
   "id": "cb0eeb27-1a01-4027-9aab-a05099a3e321",
   "metadata": {},
   "outputs": [
    {
     "data": {
      "text/plain": [
       "<function __main__.Rntc(T, T0, R0, B)>"
      ]
     },
     "execution_count": 55,
     "metadata": {},
     "output_type": "execute_result"
    }
   ],
   "source": [
    "Rntc"
   ]
  },
  {
   "cell_type": "code",
   "execution_count": 56,
   "id": "3bb838f1-afa9-4413-ba08-26c21411917b",
   "metadata": {},
   "outputs": [],
   "source": [
    "Rm=sp.Symbol('Rm')\n",
    "Tr=sp.solve(eqR-Rm,T)"
   ]
  },
  {
   "cell_type": "code",
   "execution_count": 57,
   "id": "6c372fc8-5f6e-4f4a-be74-3b02e1047a97",
   "metadata": {},
   "outputs": [
    {
     "data": {
      "text/plain": [
       "[B/log(Rm*exp(B/T0)/R0)]"
      ]
     },
     "execution_count": 57,
     "metadata": {},
     "output_type": "execute_result"
    }
   ],
   "source": [
    "Tr"
   ]
  },
  {
   "cell_type": "code",
   "execution_count": 58,
   "id": "f2d3f526-e51d-440e-98ed-01c5d9c747b8",
   "metadata": {},
   "outputs": [
    {
     "name": "stdout",
     "output_type": "stream",
     "text": [
      "La fonction linéarisée donnera 33.1 °C pour une température réelle de 30 °C. L'erreur d'estimation sera de 3.1 °C.\n"
     ]
    }
   ],
   "source": [
    "Tlin=Tr[0].subs(Rm,756).subs(T0,25+K0).subs( R0,1000).subs(B,3170)-K0\n",
    "print(\"La fonction linéarisée donnera {:.1f} °C pour une température réelle de 30 °C. L'erreur d'estimation sera de {:.1f} °C.\".format(Tlin, Tlin-30))"
   ]
  },
  {
   "cell_type": "markdown",
   "id": "de3e2513-856e-4d78-b4c2-51fedf7c807d",
   "metadata": {},
   "source": [
    "### EX5 : Comment réduire l'erreur due à la fonction de linéarisation ?"
   ]
  },
  {
   "cell_type": "markdown",
   "id": "ec2aa764-58ca-4900-a65a-1fd595048c88",
   "metadata": {},
   "source": [
    "### Solution\n",
    "\n",
    "On pourrait ajouter un petit offset pour équilibrer l'erreur."
   ]
  },
  {
   "cell_type": "markdown",
   "id": "fa7bea1e",
   "metadata": {},
   "source": [
    "### EX6: Le capteur est alimenté par un courant constant de 0.25mA. \n",
    "- Quelle est la tension à ses bornes pour 25° selon la relation non linéaire\n",
    "- Quelle est la  tension à ses bornes pour la relation linéarisée"
   ]
  },
  {
   "cell_type": "code",
   "execution_count": 59,
   "id": "32a978e9-9d51-400e-9c71-a45754047c79",
   "metadata": {},
   "outputs": [
    {
     "data": {
      "text/plain": [
       "array([2.5, 2.50000000000000], dtype=object)"
      ]
     },
     "execution_count": 59,
     "metadata": {},
     "output_type": "execute_result"
    }
   ],
   "source": [
    "vT2=25\n",
    "courant = 0.25e-3\n",
    "# Calcul de la différence de valeur de résistance calculée par la fonction\n",
    "vR=Rntc(vT2, T0=vT0, R0=vR0, B=vBETA)\n",
    "vRlin=Rntc_lin(vT2)\n",
    "np.array([vR, vRlin])*courant"
   ]
  },
  {
   "cell_type": "code",
   "execution_count": 60,
   "id": "98f9e169",
   "metadata": {},
   "outputs": [
    {
     "data": {
      "text/plain": [
       "array([8.454772950925921, 5.28774844111779], dtype=object)"
      ]
     },
     "execution_count": 60,
     "metadata": {},
     "output_type": "execute_result"
    }
   ],
   "source": [
    "vT2=0\n",
    "courant = 0.25e-3\n",
    "# Calcul de la différence de valeur de résistance calculée par la fonction\n",
    "vR=Rntc(vT2, T0=vT0, R0=vR0, B=vBETA)\n",
    "vRlin=Rntc_lin(vT2)\n",
    "np.array([vR, vRlin])*courant"
   ]
  },
  {
   "cell_type": "markdown",
   "id": "974766d4",
   "metadata": {},
   "source": [
    "Modification du circuit pour générer le courant avec une source de tension et une résistance."
   ]
  },
  {
   "cell_type": "code",
   "execution_count": 61,
   "id": "58420855",
   "metadata": {},
   "outputs": [
    {
     "data": {
      "text/plain": [
       "[5.299212327828993, 4.13501130825778]"
      ]
     },
     "execution_count": 61,
     "metadata": {},
     "output_type": "execute_result"
    }
   ],
   "source": [
    "Rs=30e3\n",
    "U0=10\n",
    "vT2=0\n",
    "\n",
    "vR=Rntc(vT2, T0=vT0, R0=vR0, B=vBETA)\n",
    "vRlin=Rntc_lin(vT2)\n",
    "Rtot=vR+Rs\n",
    "Rtot_lin=vRlin+Rs\n",
    "\n",
    "i=U0/Rtot\n",
    "UR=i*vR\n",
    "\n",
    "i_lin=U0/Rtot_lin\n",
    "UR_lin=i_lin*vRlin\n",
    "[UR, UR_lin]"
   ]
  },
  {
   "cell_type": "markdown",
   "id": "5522df24",
   "metadata": {},
   "source": [
    "### Linéarisation \n",
    "\n",
    "En partant de la relation R=f(T) pour une résistance NTC, quelle serait la courbe qui comporte le moins d'erreur ?\n",
    "\n",
    "Comment la calculer ?\n",
    "\n"
   ]
  },
  {
   "cell_type": "code",
   "execution_count": 62,
   "id": "d6ca50ab",
   "metadata": {},
   "outputs": [],
   "source": [
    "vBETA=3965\n",
    "vR0=10000\n",
    "vT0=25\n",
    "vRho0=1.29\n",
    "\n",
    "# Définition d'une plage de température et calcul des valeurs de résistance.\n",
    "vT=np.arange(0, 40, 0.1)\n",
    "vRt = Rntc(vT, T0=vT0, R0=vR0, B=vBETA)"
   ]
  },
  {
   "cell_type": "code",
   "execution_count": 63,
   "id": "1406123d",
   "metadata": {},
   "outputs": [],
   "source": [
    "def linRsegment(T,a,b):\n",
    "    return a*T+b"
   ]
  },
  {
   "cell_type": "code",
   "execution_count": 64,
   "id": "82297786",
   "metadata": {},
   "outputs": [],
   "source": [
    "# R=a*T+b\n",
    "vT=np.arange(0,40)\n",
    "Rt = Rntc(vT, T0=vT0, R0=vR0, B=vBETA)\n",
    "\n",
    "def toMinimize(ab):\n",
    "    \n",
    "    eR = np.max(np.abs(Rt-linRsegment(vT,ab[0],ab[1])))\n",
    "    return eR\n"
   ]
  },
  {
   "cell_type": "code",
   "execution_count": 65,
   "id": "3a616713",
   "metadata": {},
   "outputs": [],
   "source": [
    "import scipy as sp"
   ]
  },
  {
   "cell_type": "code",
   "execution_count": 66,
   "id": "abbe1663",
   "metadata": {},
   "outputs": [
    {
     "data": {
      "image/png": "[encoded data removed]",
      "text/plain": [
       "<Figure size 640x480 with 1 Axes>"
      ]
     },
     "metadata": {},
     "output_type": "display_data"
    }
   ],
   "source": [
    "linR=linRsegment(vT,-1000,40000)\n",
    "plt.plot(Rt)\n",
    "plt.plot(linR)\n",
    "plt.grid()"
   ]
  },
  {
   "cell_type": "code",
   "execution_count": 67,
   "id": "d64d2ad5",
   "metadata": {},
   "outputs": [
    {
     "data": {
      "text/plain": [
       "11032.438686321624"
      ]
     },
     "execution_count": 67,
     "metadata": {},
     "output_type": "execute_result"
    }
   ],
   "source": [
    "toMinimize([-885,40000])"
   ]
  },
  {
   "cell_type": "code",
   "execution_count": 68,
   "id": "6fc4cf9e",
   "metadata": {},
   "outputs": [
    {
     "data": {
      "text/plain": [
       "4019.0918037036827"
      ]
     },
     "execution_count": 68,
     "metadata": {},
     "output_type": "execute_result"
    }
   ],
   "source": [
    "eTab=Rt-linRsegment(vT,-7.260e+02,2.98e+04)\n",
    "eR = np.max(np.abs(eTab))\n",
    "eR"
   ]
  },
  {
   "cell_type": "code",
   "execution_count": 69,
   "id": "faa28d8d",
   "metadata": {},
   "outputs": [],
   "source": [
    "res=sp.optimize.minimize(toMinimize, [-1000,40000], method=\"Nelder-Mead\")"
   ]
  },
  {
   "cell_type": "code",
   "execution_count": 70,
   "id": "eb6f68ab",
   "metadata": {},
   "outputs": [
    {
     "data": {
      "text/plain": [
       "       message: Optimization terminated successfully.\n",
       "       success: True\n",
       "        status: 0\n",
       "           fun: 3534.441492594444\n",
       "             x: [-7.260e+02  3.028e+04]\n",
       "           nit: 83\n",
       "          nfev: 156\n",
       " final_simplex: (array([[-7.260e+02,  3.028e+04],\n",
       "                       [-7.260e+02,  3.028e+04],\n",
       "                       [-7.260e+02,  3.028e+04]]), array([ 3.534e+03,  3.534e+03,  3.534e+03]))"
      ]
     },
     "execution_count": 70,
     "metadata": {},
     "output_type": "execute_result"
    }
   ],
   "source": [
    "\n",
    "res"
   ]
  },
  {
   "cell_type": "code",
   "execution_count": 71,
   "id": "d04afeb8",
   "metadata": {},
   "outputs": [
    {
     "data": {
      "image/png": "[encoded data removed]",
      "text/plain": [
       "<Figure size 640x480 with 1 Axes>"
      ]
     },
     "metadata": {},
     "output_type": "display_data"
    }
   ],
   "source": [
    "linR=linRsegment(vT,res.x[0], res.x[1])\n",
    "plt.plot(Rt)\n",
    "plt.plot(linR)\n",
    "plt.grid()"
   ]
  }
 ],
 "metadata": {
  "kernelspec": {
   "display_name": "Python 3 (ipykernel)",
   "language": "python",
   "name": "python3"
  },
  "language_info": {
   "codemirror_mode": {
    "name": "ipython",
    "version": 3
   },
   "file_extension": ".py",
   "mimetype": "text/x-python",
   "name": "python",
   "nbconvert_exporter": "python",
   "pygments_lexer": "ipython3",
   "version": "3.11.5"
  }
 },
 "nbformat": 4,
 "nbformat_minor": 5
}
