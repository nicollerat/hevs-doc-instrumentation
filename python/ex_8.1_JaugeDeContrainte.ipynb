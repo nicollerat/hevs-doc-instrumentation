{
 "cells": [
  {
   "cell_type": "code",
   "execution_count": 3,
   "metadata": {},
   "outputs": [],
   "source": [
    "# Import usuels\n",
    "import sympy as sp\n",
    "sp.init_printing()\n",
    "\n",
    "# Fonction utilisée pour afficher la valeur d'une expression sous la forme \"nom = valeur\"\n",
    "def deq(name, value):\n",
    "    return sp.Eq(sp.Symbol(name),value)"
   ]
  },
  {
   "cell_type": "markdown",
   "metadata": {},
   "source": [
    "## Exercice 8.1\n",
    "\n",
    "**La donnée a été changée, il faudrait adapter le notebook**\n",
    "\n",
    "Jauge de contrainte (ancien 4.12.1)"
   ]
  },
  {
   "cell_type": "code",
   "execution_count": 4,
   "metadata": {},
   "outputs": [],
   "source": [
    "#Pièce métallique\n",
    "\n",
    "vS = 20e-4 # 20 cm^2\n",
    "E = 210000  # Pour l'acier, 21'000 daN/mm^2\n",
    "vNu = 0.3   # Coefficient de contraction (coefficient de Poisson)\n",
    "vK = 2        # Coefficient de la jauge\n",
    "vU0 = 10   # Tension d'alimentation du pont"
   ]
  },
  {
   "cell_type": "markdown",
   "metadata": {},
   "source": [
    "2 Jauges sont utilisées, une soumise à la contrainte, et l'autre non.\n",
    "\n",
    "### Q1\n",
    "\n",
    "- Les jauges sont montées en série sur une des branches du pont.\n",
    "- L'autre branche du pont est vers le système de mesure, si bien que les fils ont une résistance qui influence le résultat."
   ]
  },
  {
   "cell_type": "markdown",
   "metadata": {},
   "source": [
    "### Q2\n",
    "\n",
    "Comment calculer la contrainte à partir de la tension mesurée sur le pont ?"
   ]
  },
  {
   "cell_type": "code",
   "execution_count": 5,
   "metadata": {},
   "outputs": [
    {
     "data": {
      "image/png": "[encoded data removed]",
      "text/latex": [
       "$\\displaystyle Um = - \\frac{0.5 U_{0} \\Delta R_{F}}{2 R + 2 R_{L} + \\Delta R_{F} + 2 \\Delta R_{T}}$"
      ],
      "text/plain": [
       "               -0.5⋅U₀⋅\\Delta R_F           \n",
       "Um = ───────────────────────────────────────\n",
       "     2⋅R + 2⋅R_L + \\Delta R_F + 2⋅\\Delta R_T"
      ]
     },
     "execution_count": 5,
     "metadata": {},
     "output_type": "execute_result"
    }
   ],
   "source": [
    "# Calcul de la tension \n",
    "U0, R, F, E, K, S, sigma, Um = sp.symbols(\"U0, R, F, E, K, S, sigma, Um \")\n",
    "DRT=sp.Symbol(\"\\Delta R_T\")\n",
    "DRF=sp.Symbol(\"\\Delta R_F\")\n",
    "epsilon=sigma/E\n",
    "# DRF=R*K*epsilon\n",
    "\n",
    "U = U0*((R+DRT)/(2*R+2*DRT+DRF) - 1/2)\n",
    "deq(\"Um\", sp.factor(U))"
   ]
  },
  {
   "cell_type": "code",
   "execution_count": 7,
   "metadata": {},
   "outputs": [
    {
     "data": {
      "image/png": "[encoded data removed]",
      "text/latex": [
       "$\\displaystyle Um = - \\frac{0.5 K R U_{0} \\sigma}{2 E \\left(R + R_{L} + \\Delta R_{T}\\right) + K R \\sigma}$"
      ],
      "text/plain": [
       "               -0.5⋅K⋅R⋅U₀⋅σ           \n",
       "Um = ──────────────────────────────────\n",
       "     2⋅E⋅(R + R_L + \\Delta R_T) + K⋅R⋅σ"
      ]
     },
     "execution_count": 7,
     "metadata": {},
     "output_type": "execute_result"
    }
   ],
   "source": [
    "U=sp.simplify(U.subs(DRF, R*K*epsilon))\n",
    "deq(\"Um\",U)"
   ]
  },
  {
   "cell_type": "code",
   "execution_count": 8,
   "metadata": {},
   "outputs": [
    {
     "data": {
      "image/png": "[encoded data removed]",
      "text/latex": [
       "$\\displaystyle \\sigma = \\frac{4.0 E Um \\left(- R - R_{L} - \\Delta R_{T}\\right)}{K R \\left(U_{0} + 2.0 Um\\right)}$"
      ],
      "text/plain": [
       "    4.0⋅E⋅Um⋅(-R - R_L - \\Delta R_T)\n",
       "σ = ────────────────────────────────\n",
       "           K⋅R⋅(U₀ + 2.0⋅Um)        "
      ]
     },
     "execution_count": 8,
     "metadata": {},
     "output_type": "execute_result"
    }
   ],
   "source": [
    "eSigma=sp.solve(sp.Eq(Um,U), sigma)\n",
    "eSigma=eSigma[0]\n",
    "deq(\"sigma\", eSigma)\n",
    "\n"
   ]
  },
  {
   "cell_type": "code",
   "execution_count": 9,
   "metadata": {},
   "outputs": [
    {
     "data": {
      "image/png": "[encoded data removed]",
      "text/latex": [
       "$\\displaystyle \\sigma = - \\frac{4.0 E Um}{K \\left(U_{0} + 2.0 Um\\right)}$"
      ],
      "text/plain": [
       "       -4.0⋅E⋅Um   \n",
       "σ = ───────────────\n",
       "    K⋅(U₀ + 2.0⋅Um)"
      ]
     },
     "execution_count": 9,
     "metadata": {},
     "output_type": "execute_result"
    }
   ],
   "source": [
    "eSigma_simpl=eSigma.subs(RL,0).subs(DRT,0)\n",
    "deq(\"sigma\", eSigma_simpl)"
   ]
  },
  {
   "cell_type": "markdown",
   "metadata": {},
   "source": [
    "## Comparaison entre compensation et non compensation"
   ]
  },
  {
   "cell_type": "code",
   "execution_count": 10,
   "metadata": {},
   "outputs": [
    {
     "data": {
      "image/png": "[encoded data removed]",
      "text/latex": [
       "$\\displaystyle \\frac{U_{0} \\cdot \\left(1.0 R_{L} + 0.5 \\Delta R_{F} + 0.5 \\Delta R_{T}\\right)}{2 R + 2 R_{L} + \\Delta R_{F} + \\Delta R_{T}}$"
      ],
      "text/plain": [
       "U₀⋅(1.0⋅R_L + 0.5⋅\\Delta R_F + 0.5⋅\\Delta R_T)\n",
       "──────────────────────────────────────────────\n",
       "    2⋅R + 2⋅R_L + \\Delta R_F + \\Delta R_T     "
      ]
     },
     "execution_count": 10,
     "metadata": {},
     "output_type": "execute_result"
    }
   ],
   "source": [
    "# Si on calcule la tension sans compensation de température\n",
    "U2 = U0*((R+DRT+DRF+2*RL)/(2*R+2*RL+DRT+DRF) - 1/2)\n",
    "U2.simplify()"
   ]
  },
  {
   "cell_type": "code",
   "execution_count": 9,
   "metadata": {},
   "outputs": [
    {
     "data": {
      "image/png": "[encoded data removed]",
      "text/latex": [
       "$\\displaystyle \\frac{0.5 U_{0} \\Delta R_{F}}{2 R + 2 R_{L} + \\Delta R_{F} + 2 \\Delta R_{T}}$"
      ],
      "text/plain": [
       "           0.5⋅U₀⋅\\Delta R_F           \n",
       "───────────────────────────────────────\n",
       "2⋅R + 2⋅R_L + \\Delta R_F + 2⋅\\Delta R_T"
      ]
     },
     "execution_count": 9,
     "metadata": {},
     "output_type": "execute_result"
    }
   ],
   "source": [
    "# Si on déporte la jauge inactive vers l'endroit de mesure\n",
    "U = U0*((R+DRF+DRT+RL)/(2*R+2*RL+2*DRT+DRF) - 1/2)\n",
    "U.simplify()"
   ]
  },
  {
   "cell_type": "code",
   "execution_count": 11,
   "metadata": {},
   "outputs": [
    {
     "ename": "NameError",
     "evalue": "name 'vR' is not defined",
     "output_type": "error",
     "traceback": [
      "\u001b[1;31m---------------------------------------------------------------------------\u001b[0m",
      "\u001b[1;31mNameError\u001b[0m                                 Traceback (most recent call last)",
      "Cell \u001b[1;32mIn[11], line 1\u001b[0m\n\u001b[1;32m----> 1\u001b[0m values\u001b[38;5;241m=\u001b[39m{U0:vU0, R:\u001b[43mvR\u001b[49m, F:vF, E:vE, K:vK, S:vS}\n",
      "\u001b[1;31mNameError\u001b[0m: name 'vR' is not defined"
     ]
    }
   ],
   "source": [
    "values={U0:vU0, R:vR, F:vF, E:vE, K:vK, S:vS}"
   ]
  },
  {
   "cell_type": "code",
   "execution_count": null,
   "metadata": {},
   "outputs": [],
   "source": []
  }
 ],
 "metadata": {
  "kernelspec": {
   "display_name": "Python 3 (ipykernel)",
   "language": "python",
   "name": "python3"
  },
  "language_info": {
   "codemirror_mode": {
    "name": "ipython",
    "version": 3
   },
   "file_extension": ".py",
   "mimetype": "text/x-python",
   "name": "python",
   "nbconvert_exporter": "python",
   "pygments_lexer": "ipython3",
   "version": "3.11.2"
  }
 },
 "nbformat": 4,
 "nbformat_minor": 4
}
