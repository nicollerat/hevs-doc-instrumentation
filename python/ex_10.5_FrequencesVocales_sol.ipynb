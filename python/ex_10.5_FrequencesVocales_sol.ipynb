{
 "cells": [
  {
   "cell_type": "markdown",
   "metadata": {},
   "source": [
    "# Fréquences vocales\n",
    "\n",
    "Le capitaine Larc du vaisseau Négoce a intercepté un message envoyé à l'aide d'un vieux téléphone. Cet appareil antique permet de composer un numéro en le codant avec des fréquences vocales (on peut les entendre).\n",
    "\n",
    "https://www.communityofcoders.com/2021/02/dtmf-decoder-and-encoder-signals.html\n",
    "\n",
    "Voici à quoi ça ressemble :"
   ]
  },
  {
   "cell_type": "code",
   "execution_count": 1,
   "metadata": {},
   "outputs": [],
   "source": [
    "import numpy as np\n",
    "import matplotlib.pyplot as plt\n",
    "import sounddevice as sd\n",
    "import soundfile as sf\n",
    "import scipy as sp"
   ]
  },
  {
   "cell_type": "code",
   "execution_count": 2,
   "metadata": {},
   "outputs": [
    {
     "name": "stdout",
     "output_type": "stream",
     "text": [
      "Play  1\n",
      "Play  2\n",
      "Play  3\n",
      "Play  4\n",
      "Play  5\n",
      "Play  6\n",
      "Play  7\n",
      "Play  8\n",
      "Play  9\n",
      "Play  0\n"
     ]
    },
    {
     "data": {
      "text/plain": [
       "array([0., 0., 0., ..., 0., 0., 0.])"
      ]
     },
     "execution_count": 2,
     "metadata": {},
     "output_type": "execute_result"
    }
   ],
   "source": [
    "\n",
    "Nums=\"1234567890\"\n",
    "fB=[1209,1336,1477,1633]\n",
    "fA=[697,770,852,941]\n",
    "\n",
    "fs=44100\n",
    "t=np.arange(fs//4)*1/fs\n",
    "\n",
    "Fcodes={'1':(0,0),'2':(0,1),'3':(0,2),\\\n",
    "        '4':(1,0),'5':(1,1),'6':(1,2),\\\n",
    "        '7':(2,0),'8':(2,1),'9':(2,2),\\\n",
    "        '*':(3,0),'0':(3,1),'#':(3,2)}\n",
    "\n",
    "def getCode(num):\n",
    "    code=Fcodes[num]\n",
    "    s=np.sin(2*np.pi*fA[code[0]]*t)+np.sin(2*np.pi*fB[code[1]]*t)\n",
    "    return s\n",
    "\n",
    "def playNumber(num, play=True):\n",
    "    ss=[]\n",
    "    ss.append(np.zeros(fs//5))\n",
    "    for c in num:\n",
    "        print(\"Play \",c)\n",
    "        s=getCode(c)\n",
    "        ss.append(s)\n",
    "        ss.append(np.zeros(fs//5))\n",
    "\n",
    "    s=np.concatenate(ss)\n",
    "    if play:\n",
    "        sd.play(s, fs)\n",
    "        sd.wait()\n",
    "    return s\n",
    "\n",
    "\n",
    "playNumber(Nums)"
   ]
  },
  {
   "cell_type": "code",
   "execution_count": 3,
   "metadata": {},
   "outputs": [
    {
     "name": "stdout",
     "output_type": "stream",
     "text": [
      "Play  0\n",
      "Play  7\n",
      "Play  4\n",
      "Play  1\n",
      "Play  #\n",
      "Play  #\n",
      "Play  1\n",
      "Play  9\n",
      "Play  2\n",
      "Play  0\n"
     ]
    }
   ],
   "source": [
    "# Generation du code secret\n",
    "s_secret= playNumber(\"0741##1920\", play=False)\n",
    "sf.write(\"secret_number.wav\",s_secret, fs)"
   ]
  },
  {
   "cell_type": "markdown",
   "metadata": {},
   "source": [
    "## Exercice \n",
    "\n",
    "Décodez le numéro"
   ]
  },
  {
   "cell_type": "code",
   "execution_count": 4,
   "metadata": {},
   "outputs": [
    {
     "data": {
      "text/plain": [
       "[<matplotlib.lines.Line2D at 0x160dad4cd50>]"
      ]
     },
     "execution_count": 4,
     "metadata": {},
     "output_type": "execute_result"
    },
    {
     "data": {
      "image/png": "[encoded data removed]",
      "text/plain": [
       "<Figure size 640x480 with 1 Axes>"
      ]
     },
     "metadata": {},
     "output_type": "display_data"
    }
   ],
   "source": [
    "data, fs=sf.read(\"secret_number.wav\")\n",
    "plt.plot(data)"
   ]
  },
  {
   "cell_type": "code",
   "execution_count": 5,
   "metadata": {},
   "outputs": [
    {
     "name": "stdout",
     "output_type": "stream",
     "text": [
      "0 [ 940.42553191 1336.17021277]\n",
      "1 [ 851.06382979 1208.5106383 ]\n",
      "2 [ 770.21276596 1208.5106383 ]\n",
      "3 [ 697.87234043 1208.5106383 ]\n",
      "4 [ 940.42553191 1476.59574468]\n",
      "5 [ 940.42553191 1476.59574468]\n",
      "6 [ 697.87234043 1208.5106383 ]\n",
      "7 [ 851.06382979 1476.59574468]\n",
      "8 [ 697.87234043 1336.17021277]\n",
      "9 [ 940.42553191 1336.17021277]\n"
     ]
    }
   ],
   "source": [
    "P=10 # Nombre de chiffres\n",
    "N=len(data)\n",
    "S=N//P # Longueur d'un sample (approximativement...)\n",
    "DF=fs/S\n",
    "for i in range(P):\n",
    "    sub=data[range(i*S,(i+1)*S)]\n",
    "    afft=np.abs(np.fft.fft(sub))\n",
    "    peaks,_=sp.signal.find_peaks(afft[0:S//2], height=S/12)\n",
    "    print(i,peaks*DF)"
   ]
  },
  {
   "cell_type": "markdown",
   "metadata": {},
   "source": [
    "Les paires de fréquence permettent de retrouver les numéros :\n",
    "\n",
    "940 / 1336 correspond à la coordonnée 3,1 dans le tableau, soit le '0'"
   ]
  },
  {
   "cell_type": "code",
   "execution_count": null,
   "metadata": {},
   "outputs": [],
   "source": []
  }
 ],
 "metadata": {
  "kernelspec": {
   "display_name": "Python 3",
   "language": "python",
   "name": "python3"
  },
  "language_info": {
   "codemirror_mode": {
    "name": "ipython",
    "version": 3
   },
   "file_extension": ".py",
   "mimetype": "text/x-python",
   "name": "python",
   "nbconvert_exporter": "python",
   "pygments_lexer": "ipython3",
   "version": "3.11.2"
  }
 },
 "nbformat": 4,
 "nbformat_minor": 2
}
