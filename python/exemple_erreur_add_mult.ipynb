{
 "cells": [
  {
   "cell_type": "markdown",
   "metadata": {},
   "source": [
    "# Erreurs d'offset et de linéarité"
   ]
  },
  {
   "cell_type": "markdown",
   "metadata": {},
   "source": [
    "Jauge de contrainte, remplacement par une résistance sur un pont de Wheatstone.\n",
    "\n",
    "Le pont est constitué de résistance $R$. La variation de résistance du pont est $\\Delta R$. Le pont est alimenté par $U0$ et on mesure $U$ sur les 2 branches du pont."
   ]
  },
  {
   "cell_type": "code",
   "execution_count": null,
   "metadata": {},
   "outputs": [],
   "source": [
    "from sympy import *\n",
    "from IPython.display import Markdown as md\n",
    "from sympy import init_printing\n",
    "\n",
    "init_printing() \n",
    "\n",
    "R, U0 =symbols('R, U0')\n",
    "DR = Symbol('\\Delta R')\n",
    "U = ((R+DR)/(2*R+DR)-R/(2*R))*U0\n",
    "U"
   ]
  },
  {
   "cell_type": "markdown",
   "metadata": {},
   "source": [
    "On a une relation linéarisée pour le gain qui est donnée comme suit :"
   ]
  },
  {
   "cell_type": "code",
   "execution_count": null,
   "metadata": {},
   "outputs": [],
   "source": [
    "g=U.diff(DR).subs(DR,0)\n",
    "g"
   ]
  },
  {
   "cell_type": "markdown",
   "metadata": {},
   "source": [
    "Pour une variation de résistance nulle ($\\Delta R$=0), on mesure une tension nulle :"
   ]
  },
  {
   "cell_type": "code",
   "execution_count": null,
   "metadata": {},
   "outputs": [],
   "source": [
    "U.subs(DR,0)"
   ]
  },
  {
   "cell_type": "markdown",
   "metadata": {},
   "source": [
    "## Influence multiplicative"
   ]
  },
  {
   "cell_type": "markdown",
   "metadata": {},
   "source": [
    "Le gain dépend de $U0$. L'erreur de mesure induite par une variation de $U0$ est donc proportionnelle. On n'a pas d'erreur si on mesure 0, et une erreur $\\frac{\\Delta U}{4R} \\cdot \\Delta R$ pour une variation."
   ]
  },
  {
   "cell_type": "markdown",
   "metadata": {},
   "source": [
    "## Influence additive.\n",
    "\n",
    "Si on a une différence entre la résistance du pont et celle de la jauge, on a des influences additive. \n",
    "\n",
    "Si la résistance de la jauge est $Rm=R+\\Delta Re+\\Delta R$, on obtient en sortie du pont :\n"
   ]
  },
  {
   "cell_type": "code",
   "execution_count": null,
   "metadata": {},
   "outputs": [],
   "source": [
    "DRe=Symbol('\\Delta Re')\n",
    "DRt=Symbol('\\Delta Rt')\n",
    "U = ((R+DRe+DRt)/(R+R+DRe+DRt)-R/(2*R))*U0\n",
    "U"
   ]
  },
  {
   "cell_type": "markdown",
   "metadata": {},
   "source": [
    "On linéarise cette expression pour $\\Delta Rt$ et $\\Delta Re$ pour chercher une relation\n",
    "\n",
    "$U \\cong S_t \\cdot \\Delta Rt + S_e \\cdot \\Delta Re + O$ avec $S_t = \\frac{\\partial U}{\\partial \\Delta Rt}\\bigg\\rvert _0$, $S_e = \\frac{\\partial U}{\\partial \\Delta Re}\\bigg\\rvert _0$ et $O = U(0)$ :"
   ]
  },
  {
   "cell_type": "code",
   "execution_count": null,
   "metadata": {},
   "outputs": [],
   "source": [
    "St=U.diff(DRt).subs(DRe,0).subs(DRt,0)\n",
    "St"
   ]
  },
  {
   "cell_type": "code",
   "execution_count": null,
   "metadata": {},
   "outputs": [],
   "source": [
    "Se=U.diff(DRt).subs(DRe,0).subs(DRt,0)\n",
    "Se"
   ]
  },
  {
   "cell_type": "code",
   "execution_count": null,
   "metadata": {},
   "outputs": [],
   "source": [
    "O=U.subs(DRe,0).subs(DRt,0)\n",
    "O"
   ]
  },
  {
   "cell_type": "markdown",
   "metadata": {},
   "source": [
    "On a donc une expression de la tension linéarisée avec les coefficients"
   ]
  },
  {
   "cell_type": "code",
   "execution_count": null,
   "metadata": {},
   "outputs": [],
   "source": [
    "coeffs=[St, Se, O]\n",
    "coeffs"
   ]
  },
  {
   "cell_type": "markdown",
   "metadata": {},
   "source": [
    "Soit une expression de la tension de sortie"
   ]
  },
  {
   "cell_type": "code",
   "execution_count": null,
   "metadata": {},
   "outputs": [],
   "source": [
    "Ulin=Lambda((DRe,DRt),St*DRt+Se*DRe+O)\n",
    "Ulin    "
   ]
  },
  {
   "cell_type": "code",
   "execution_count": null,
   "metadata": {},
   "outputs": [],
   "source": []
  }
 ],
 "metadata": {
  "kernelspec": {
   "display_name": "Python 3 (ipykernel)",
   "language": "python",
   "name": "python3"
  },
  "language_info": {
   "codemirror_mode": {
    "name": "ipython",
    "version": 3
   },
   "file_extension": ".py",
   "mimetype": "text/x-python",
   "name": "python",
   "nbconvert_exporter": "python",
   "pygments_lexer": "ipython3",
   "version": "3.11.5"
  }
 },
 "nbformat": 4,
 "nbformat_minor": 4
}
