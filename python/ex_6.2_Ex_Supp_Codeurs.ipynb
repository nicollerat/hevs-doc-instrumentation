{
 "cells": [
  {
   "cell_type": "markdown",
   "metadata": {},
   "source": [
    "## Execices Codeurs absolus\n",
    "\n",
    "Un codeur optique absolu est utilisé pour mesurer la position et la vitesse de rotation d’un axe\n",
    "de rotation. Les données sont acquises chaque 1 [ms] par un dispositif numérique.\n",
    "\n",
    "1. Combien de pistes, il faut prévoir sur le codeur absolu pour obtenir une résolution\n",
    "d’environs 0.088 ° en position.\n",
    "2. Quelle est l’erreur absolue de la vitesse en [tours/min] ?\n",
    "3. Quelle est la précision constante [%] de cet instrument pour une vitesse maximale de 2000 [tours/min] ?\n",
    "4. On souhaite remplacer le codeur optique absolu par un codeur optique incrémental. Si on veut garder la même résolution en position, quel doit être le nombre de stries de ce dernier si on compte tous les flancs montants et descendants des deux signaux en quadrature."
   ]
  },
  {
   "cell_type": "code",
   "execution_count": 6,
   "metadata": {},
   "outputs": [
    {
     "name": "stdout",
     "output_type": "stream",
     "text": [
      "Nombre minimum de stries : 4090.909090909091\n"
     ]
    }
   ],
   "source": [
    "reso=0.088  # degrés\n",
    "Te=1e-3\n",
    "# 1 : 360 / N = reso\n",
    "N=360/reso\n",
    "print(f\"Nombre minimum de stries : {N}\")\n"
   ]
  },
  {
   "cell_type": "code",
   "execution_count": 9,
   "metadata": {},
   "outputs": [
    {
     "name": "stdout",
     "output_type": "stream",
     "text": [
      "Résolution de vitesse 14.65 [t/min]\n"
     ]
    }
   ],
   "source": [
    "# 2 : v = IMP/Te/N*60\n",
    "N=4096 # On arrondi à une valeur standard\n",
    "dv=1/Te/N*60\n",
    "print(f\"Résolution de vitesse {dv:.2f} [t/min]\")"
   ]
  },
  {
   "cell_type": "code",
   "execution_count": 12,
   "metadata": {},
   "outputs": [
    {
     "name": "stdout",
     "output_type": "stream",
     "text": [
      "La précision est de 0.73% (on compte 136.5 stries par période)\n"
     ]
    }
   ],
   "source": [
    "# 3 v0 = IMP/Te/N*60 => IMP\n",
    "v0=2000\n",
    "IMP = v0*Te*N/60\n",
    "p=100/IMP\n",
    "print(f\"La précision est de {p:.2f}% (on compte {IMP:.1f} stries par période)\")\n"
   ]
  },
  {
   "cell_type": "code",
   "execution_count": 15,
   "metadata": {},
   "outputs": [
    {
     "name": "stdout",
     "output_type": "stream",
     "text": [
      "Il faut un codeur à 1024 stries\n"
     ]
    }
   ],
   "source": [
    "# 4 : Il faut un codeur à N/4 stries\n",
    "Ninc=N/4\n",
    "print(f\"Il faut un codeur à {Ninc:.0f} stries\")"
   ]
  },
  {
   "cell_type": "markdown",
   "metadata": {},
   "source": [
    "## Codeur incrémental\n",
    "\n",
    "Un codeur optique incrémental est utilisé pour mesurer la position linéaire d’une table de machine-outil. Il est monté sur la vis qui entraîne la table.\n",
    "\n",
    "1. La vis a une raideur de 2mm/tour. Le codeur possède 500 stries. Quelle est la résolution de position linéaire, lorsque tous les flancs des 2 signaux de sortie en quadrature sont comptés ?\n",
    "2. L’électronique de mesure travaille avec une horloge digitale de 25MHz. On compte 1200 périodes de cette horloge entre deux flancs montants d’un des deux signaux de sortie du codeur. Avec quelle vitesse se déplace la table alors ?\n",
    "3. Un interpolateur permet de connaître 100 positions intermédiaires entre deux flancs\n",
    "montants d’un des deux signaux de sortie du codeur. Le compteur de position est lu toutes les 100μsec. Quelle résolution de vitesse est-ce qu’on obtient alors ?\n",
    "4. Un codeur incrémental double est réalisé, l’un avec 500, et l’autre avec 501 stries sur un tour d’axe. Sur quelle distance est-ce que ce système permet une mesure linéaire absolue, et avec quelle résolution ?"
   ]
  },
  {
   "cell_type": "code",
   "execution_count": 16,
   "metadata": {},
   "outputs": [
    {
     "name": "stdout",
     "output_type": "stream",
     "text": [
      "Un flanc correspond à un déplacement de 0.001mm\n"
     ]
    }
   ],
   "source": [
    "pas=2 # mm/t\n",
    "N=500 # stries\n",
    "\n",
    "# 1 : d = pas * I / (N*4)\n",
    "d = pas * 1 / (N*4)\n",
    "print(f\"Un flanc correspond à un déplacement de {d}mm\")"
   ]
  },
  {
   "cell_type": "code",
   "execution_count": 19,
   "metadata": {},
   "outputs": [
    {
     "name": "stdout",
     "output_type": "stream",
     "text": [
      "La vitesse est de 83.33 mm/s\n"
     ]
    }
   ],
   "source": [
    "Fe=25e6 # fréquence horloge\n",
    "I=1200\n",
    "# 2 : duree = I / Fe. dist= 2mm / N. v = dist/duree\n",
    "v=2/N/(I/Fe)\n",
    "print(f\"La vitesse est de {v:.2f} mm/s\")"
   ]
  },
  {
   "cell_type": "code",
   "execution_count": 20,
   "metadata": {},
   "outputs": [
    {
     "name": "stdout",
     "output_type": "stream",
     "text": [
      "La résolution de vitesse est de 24.0 [t/min]\n"
     ]
    }
   ],
   "source": [
    "P=100\n",
    "Te=100e-6\n",
    "# 3 : \n",
    "dv=1*2/Te/(N*P)*60 # [INC] * [mm/t]/[s] / [INC/t] * [s/min] = [t/min]\n",
    "print(f\"La résolution de vitesse est de {dv} [t/min]\")"
   ]
  },
  {
   "cell_type": "code",
   "execution_count": null,
   "metadata": {},
   "outputs": [],
   "source": [
    "# 4 : Ceci fonctionne si le capteur peut interpoller la position de chaque codeur \n",
    "# et comparer les phases. La position absolue ne l'est qu'à un tour près."
   ]
  }
 ],
 "metadata": {
  "kernelspec": {
   "display_name": "Python 3",
   "language": "python",
   "name": "python3"
  },
  "language_info": {
   "codemirror_mode": {
    "name": "ipython",
    "version": 3
   },
   "file_extension": ".py",
   "mimetype": "text/x-python",
   "name": "python",
   "nbconvert_exporter": "python",
   "pygments_lexer": "ipython3",
   "version": "3.11.2"
  }
 },
 "nbformat": 4,
 "nbformat_minor": 2
}
